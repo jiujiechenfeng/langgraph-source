{
 "cells": [
  {
   "metadata": {},
   "cell_type": "code",
   "outputs": [],
   "execution_count": null,
   "source": [
    "from langchain_community.chat_models.tongyi import ChatTongyi\n",
    "from dotenv import load_dotenv\n",
    "\n",
    "load_dotenv()"
   ],
   "id": "af57a92809795993"
  },
  {
   "metadata": {},
   "cell_type": "markdown",
   "source": [
    "## 不同类型的提示词模版\n",
    "PromptTemplate:llm提示词模版，  生成字符串提示\n",
    "\n",
    "ChatPrompttemplate:组合各种角色的消息模版\n",
    "\n",
    "XxxMessagePromptTemplate:\n",
    "\n",
    "FewShotPromptTemplate:样本提示词模版，通过案例来教模型如何回答\n",
    "\n",
    "1、PromptTemplate如何获取实例\n",
    "\n",
    "2、两种特殊结构的使用（部分提示词模版的使用，组合提示词的使用）\n",
    "\n",
    "3、给变量赋值的两种方式:format()/invoke()\n",
    "\n",
    "4、结合大模型的使用\n",
    "\n"
   ],
   "id": "4ae666b80294956b"
  },
  {
   "metadata": {},
   "cell_type": "markdown",
   "source": [
    "## PromptTemplate如何获取实例\n",
    "方式1：使用构造方法的方式\n"
   ],
   "id": "cbbdab9442f29d56"
  },
  {
   "cell_type": "code",
   "id": "initial_id",
   "metadata": {
    "collapsed": true,
    "ExecuteTime": {
     "end_time": "2025-10-20T10:12:48.325527Z",
     "start_time": "2025-10-20T10:12:48.311041Z"
    }
   },
   "source": [
    "from langchain_core.prompts import PromptTemplate\n",
    "\n",
    "# 1、创建PromptTemplate的实例\n",
    "#参数中必须要指明：input_variables、template\n",
    "prompt_template = PromptTemplate(\n",
    "    template=\"你是一个{role},你的名字是{name}\",\n",
    "    input_variables=[\"role\", \"name\"],\n",
    ")\n",
    "print(prompt_template)\n",
    "# 2、填充实例中的变量\n",
    "prompt = prompt_template.format(role=\"人工智能专家\", name=\"小智\")\n",
    "print(prompt)"
   ],
   "outputs": [
    {
     "name": "stdout",
     "output_type": "stream",
     "text": [
      "input_variables=['name', 'role'] input_types={} partial_variables={} template='你是一个{role},你的名字是{name}'\n",
      "你是一个人工智能专家,你的名字是小智\n"
     ]
    }
   ],
   "execution_count": 3
  },
  {
   "metadata": {},
   "cell_type": "markdown",
   "source": "方式2: from_template():推荐！！",
   "id": "73063a6ebbb12891"
  },
  {
   "metadata": {
    "ExecuteTime": {
     "end_time": "2025-10-20T10:16:36.726441Z",
     "start_time": "2025-10-20T10:16:36.702042Z"
    }
   },
   "cell_type": "code",
   "source": [
    "from langchain_core.prompts import PromptTemplate\n",
    "\n",
    "# 1、创建PromptTemplate的实例\n",
    "#参数中必须要指明：input_variables、template\n",
    "# prompt_template = PromptTemplate(\n",
    "#     template=\"你是一个{role},你的名字是{name}\",\n",
    "#     input_variables=[\"role\", \"name\"],\n",
    "# )\n",
    "prompt_template = PromptTemplate.from_template(\n",
    "    template=\"你是一个{role},你的名字是{name}\",\n",
    ")\n",
    "print(prompt_template)\n",
    "# 2、填充实例中的变量\n",
    "prompt = prompt_template.format(role=\"人工智能专家\", name=\"小智\")\n",
    "print(prompt)"
   ],
   "id": "4f5b9da181b059db",
   "outputs": [
    {
     "name": "stdout",
     "output_type": "stream",
     "text": [
      "input_variables=['name', 'role'] input_types={} partial_variables={} template='你是一个{role},你的名字是{name}'\n",
      "你是一个人工智能专家,你的名字是小智\n"
     ]
    }
   ],
   "execution_count": 4
  },
  {
   "metadata": {},
   "cell_type": "markdown",
   "source": [
    "##  2、两种特殊结构的使用\n",
    "### 2.1 部分提示词模版的使用\n",
    "举例:在from_template中使用partial_variables来实现部分提示词的填充"
   ],
   "id": "9d31b22c0cb3a07a"
  },
  {
   "metadata": {
    "ExecuteTime": {
     "end_time": "2025-10-20T10:22:59.569851Z",
     "start_time": "2025-10-20T10:22:59.558835Z"
    }
   },
   "cell_type": "code",
   "source": [
    "from langchain_core.prompts import PromptTemplate\n",
    "\n",
    "prompt_template = PromptTemplate.from_template(\n",
    "    template=\"请评价{product}的优缺点，包括{aspect1}和{aspect2}。\",\n",
    "    partial_variables={\"aspect1\":\"电池续航\"}\n",
    ")\n",
    "# 2、填充实例中的变量\n",
    "prompt_1 = prompt_template.format(product=\"智能手机\", aspect2=\"拍照质量\")\n",
    "print(prompt_1)"
   ],
   "id": "dc8fcaaf0af0d603",
   "outputs": [
    {
     "name": "stdout",
     "output_type": "stream",
     "text": [
      "请评价智能手机的优缺点，包括电池续航和拍照质量。\n"
     ]
    }
   ],
   "execution_count": 13
  },
  {
   "metadata": {},
   "cell_type": "markdown",
   "source": "调用方法partial()",
   "id": "b3b68b3526444c2d"
  },
  {
   "metadata": {
    "ExecuteTime": {
     "end_time": "2025-10-20T10:29:43.264306Z",
     "start_time": "2025-10-20T10:29:43.246436Z"
    }
   },
   "cell_type": "code",
   "source": [
    "from langchain_core.prompts import PromptTemplate\n",
    "\n",
    "prompt_template = PromptTemplate(\n",
    "    template=\"请评价{product}的优缺点，包括{aspect1}和{aspect2}。\",\n",
    "    input_variables=[\"product\", \"aspect1\", \"aspect2\"],\n",
    ")\n",
    "prompt_template_partial=prompt_template.partial(aspect1=\"电池续航\",aspect2=\"拍照质量\")\n",
    "# 2、填充实例中的变量\n",
    "prompt_1 = prompt_template_partial.format(product=\"智能手机\")\n",
    "print(prompt_1)"
   ],
   "id": "bb28874b12f358a6",
   "outputs": [
    {
     "name": "stdout",
     "output_type": "stream",
     "text": [
      "请评价智能手机的优缺点，包括电池续航和拍照质量。\n"
     ]
    }
   ],
   "execution_count": 17
  }
 ],
 "metadata": {
  "kernelspec": {
   "display_name": "Python 3",
   "language": "python",
   "name": "python3"
  },
  "language_info": {
   "codemirror_mode": {
    "name": "ipython",
    "version": 2
   },
   "file_extension": ".py",
   "mimetype": "text/x-python",
   "name": "python",
   "nbconvert_exporter": "python",
   "pygments_lexer": "ipython2",
   "version": "2.7.6"
  }
 },
 "nbformat": 4,
 "nbformat_minor": 5
}
