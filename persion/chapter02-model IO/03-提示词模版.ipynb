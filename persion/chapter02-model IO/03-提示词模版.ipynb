{
 "cells": [
  {
   "metadata": {
    "ExecuteTime": {
     "end_time": "2025-10-22T02:33:31.998504Z",
     "start_time": "2025-10-22T02:33:31.985628Z"
    }
   },
   "cell_type": "code",
   "source": [
    "from langchain_community.chat_models.tongyi import ChatTongyi\n",
    "from langchain_core.prompts import PromptTemplate\n",
    "from dotenv import load_dotenv\n",
    "\n",
    "load_dotenv()"
   ],
   "id": "af57a92809795993",
   "outputs": [
    {
     "data": {
      "text/plain": [
       "True"
      ]
     },
     "execution_count": 11,
     "metadata": {},
     "output_type": "execute_result"
    }
   ],
   "execution_count": 11
  },
  {
   "metadata": {},
   "cell_type": "markdown",
   "source": [
    "## 不同类型的提示词模版\n",
    "PromptTemplate:llm提示词模版，  生成字符串提示\n",
    "\n",
    "ChatPrompttemplate:组合各种角色的消息模版\n",
    "\n",
    "XxxMessagePromptTemplate:\n",
    "\n",
    "FewShotPromptTemplate:样本提示词模版，通过案例来教模型如何回答\n",
    "\n",
    "1、PromptTemplate如何获取实例\n",
    "\n",
    "2、两种特殊结构的使用（部分提示词模版的使用，组合提示词的使用）\n",
    "\n",
    "3、给变量赋值的两种方式:format()/invoke()\n",
    "\n",
    "4、结合大模型的使用\n",
    "\n"
   ],
   "id": "4ae666b80294956b"
  },
  {
   "metadata": {},
   "cell_type": "markdown",
   "source": [
    "## PromptTemplate如何获取实例\n",
    "方式1：使用构造方法的方式\n"
   ],
   "id": "cbbdab9442f29d56"
  },
  {
   "cell_type": "code",
   "id": "initial_id",
   "metadata": {
    "collapsed": true,
    "ExecuteTime": {
     "end_time": "2025-10-20T10:12:48.325527Z",
     "start_time": "2025-10-20T10:12:48.311041Z"
    }
   },
   "source": [
    "from langchain_core.prompts import PromptTemplate\n",
    "\n",
    "# 1、创建PromptTemplate的实例\n",
    "#参数中必须要指明：input_variables、template\n",
    "prompt_template = PromptTemplate(\n",
    "    template=\"你是一个{role},你的名字是{name}\",\n",
    "    input_variables=[\"role\", \"name\"],\n",
    ")\n",
    "print(prompt_template)\n",
    "# 2、填充实例中的变量\n",
    "prompt = prompt_template.format(role=\"人工智能专家\", name=\"小智\")\n",
    "print(prompt)"
   ],
   "outputs": [
    {
     "name": "stdout",
     "output_type": "stream",
     "text": [
      "input_variables=['name', 'role'] input_types={} partial_variables={} template='你是一个{role},你的名字是{name}'\n",
      "你是一个人工智能专家,你的名字是小智\n"
     ]
    }
   ],
   "execution_count": 3
  },
  {
   "metadata": {},
   "cell_type": "markdown",
   "source": "方式2: from_template():推荐！！",
   "id": "73063a6ebbb12891"
  },
  {
   "metadata": {
    "ExecuteTime": {
     "end_time": "2025-10-20T10:16:36.726441Z",
     "start_time": "2025-10-20T10:16:36.702042Z"
    }
   },
   "cell_type": "code",
   "source": [
    "from langchain_core.prompts import PromptTemplate\n",
    "\n",
    "# 1、创建PromptTemplate的实例\n",
    "#参数中必须要指明：input_variables、template\n",
    "# prompt_template = PromptTemplate(\n",
    "#     template=\"你是一个{role},你的名字是{name}\",\n",
    "#     input_variables=[\"role\", \"name\"],\n",
    "# )\n",
    "prompt_template = PromptTemplate.from_template(\n",
    "    template=\"你是一个{role},你的名字是{name}\",\n",
    ")\n",
    "print(prompt_template)\n",
    "# 2、填充实例中的变量\n",
    "prompt = prompt_template.format(role=\"人工智能专家\", name=\"小智\")\n",
    "print(prompt)"
   ],
   "id": "4f5b9da181b059db",
   "outputs": [
    {
     "name": "stdout",
     "output_type": "stream",
     "text": [
      "input_variables=['name', 'role'] input_types={} partial_variables={} template='你是一个{role},你的名字是{name}'\n",
      "你是一个人工智能专家,你的名字是小智\n"
     ]
    }
   ],
   "execution_count": 4
  },
  {
   "metadata": {},
   "cell_type": "markdown",
   "source": [
    "##  2、两种特殊结构的使用\n",
    "### 2.1 部分提示词模版的使用\n",
    "举例:在from_template中使用partial_variables来实现部分提示词的填充"
   ],
   "id": "9d31b22c0cb3a07a"
  },
  {
   "metadata": {
    "ExecuteTime": {
     "end_time": "2025-10-20T10:22:59.569851Z",
     "start_time": "2025-10-20T10:22:59.558835Z"
    }
   },
   "cell_type": "code",
   "source": [
    "from langchain_core.prompts import PromptTemplate\n",
    "\n",
    "prompt_template = PromptTemplate.from_template(\n",
    "    template=\"请评价{product}的优缺点，包括{aspect1}和{aspect2}。\",\n",
    "    partial_variables={\"aspect1\":\"电池续航\"}\n",
    ")\n",
    "# 2、填充实例中的变量\n",
    "prompt_1 = prompt_template.format(product=\"智能手机\", aspect2=\"拍照质量\")\n",
    "print(prompt_1)"
   ],
   "id": "dc8fcaaf0af0d603",
   "outputs": [
    {
     "name": "stdout",
     "output_type": "stream",
     "text": [
      "请评价智能手机的优缺点，包括电池续航和拍照质量。\n"
     ]
    }
   ],
   "execution_count": 13
  },
  {
   "metadata": {},
   "cell_type": "markdown",
   "source": "调用方法partial()",
   "id": "b3b68b3526444c2d"
  },
  {
   "metadata": {
    "ExecuteTime": {
     "end_time": "2025-10-22T02:23:36.815169Z",
     "start_time": "2025-10-22T02:23:36.811616Z"
    }
   },
   "cell_type": "code",
   "source": [
    "from langchain_core.prompts import PromptTemplate\n",
    "\n",
    "prompt_template = (PromptTemplate\n",
    "                   .from_template(    template=\"请评价{product}的优缺点，包括{aspect1}和{aspect2}。\",\n",
    ")\n",
    "                   .partial(aspect1=\"电池续航\",aspect2=\"拍照质量\"))\n",
    "# 2、填充实例中的变量\n",
    "prompt_1 = prompt_template.format(product=\"智能手机\")\n",
    "print(prompt_1)"
   ],
   "id": "bb28874b12f358a6",
   "outputs": [
    {
     "name": "stdout",
     "output_type": "stream",
     "text": [
      "请评价智能手机的优缺点，包括电池续航和拍照质量。\n"
     ]
    }
   ],
   "execution_count": 4
  },
  {
   "metadata": {},
   "cell_type": "markdown",
   "source": "## 给变量赋值的两种方式:format()/invoke()",
   "id": "9e8e14c29e3c1ca8"
  },
  {
   "metadata": {
    "ExecuteTime": {
     "end_time": "2025-10-22T02:28:28.243890Z",
     "start_time": "2025-10-22T02:28:28.239254Z"
    }
   },
   "cell_type": "code",
   "source": [
    "from langchain_core.prompts import PromptTemplate\n",
    "\n",
    "prompt_template = PromptTemplate.from_template(\n",
    "    template=\"请评价{product}的优缺点，包括{aspect1}和{aspect2}。\",\n",
    ")\n",
    "# 2、填充实例中的变量\n",
    "prompt_1 = prompt_template.format(product=\"智能手机\", aspect1=\"电池续航\",aspect2=\"拍照质量\")\n",
    "print(prompt_1)\n",
    "print(type(prompt_1))"
   ],
   "id": "743325253bcb5f06",
   "outputs": [
    {
     "name": "stdout",
     "output_type": "stream",
     "text": [
      "请评价智能手机的优缺点，包括电池续航和拍照质量。\n",
      "<class 'str'>\n"
     ]
    }
   ],
   "execution_count": 6
  },
  {
   "metadata": {
    "ExecuteTime": {
     "end_time": "2025-10-22T02:29:41.099606Z",
     "start_time": "2025-10-22T02:29:40.984583Z"
    }
   },
   "cell_type": "code",
   "source": [
    "from langchain_core.prompts import PromptTemplate\n",
    "\n",
    "prompt_template = PromptTemplate.from_template(\n",
    "    template=\"请评价{product}的优缺点，包括{aspect1}和{aspect2}。\",\n",
    ")\n",
    "# 2、填充实例中的变量\n",
    "prompt_1 = prompt_template.invoke(input={\n",
    "    \"product\":\"智能手机\",\n",
    "    \"aspect1\":\"电池续航\",\n",
    "    \"aspect2\":\"拍照质量\"\n",
    "\n",
    "})\n",
    "print(prompt_1)\n",
    "print(type(prompt_1))"
   ],
   "id": "4d4a640847dee1ff",
   "outputs": [
    {
     "name": "stdout",
     "output_type": "stream",
     "text": [
      "text='请评价智能手机的优缺点，包括电池续航和拍照质量。'\n",
      "<class 'langchain_core.prompt_values.StringPromptValue'>\n"
     ]
    }
   ],
   "execution_count": 7
  },
  {
   "metadata": {},
   "cell_type": "markdown",
   "source": "## 结合大模型的使用",
   "id": "eccde41b8c98ff85"
  },
  {
   "metadata": {
    "ExecuteTime": {
     "end_time": "2025-10-22T02:35:34.037510Z",
     "start_time": "2025-10-22T02:35:23.042143Z"
    }
   },
   "cell_type": "code",
   "source": [
    "chat_model = ChatTongyi()\n",
    "\n",
    "prompt_template = PromptTemplate.from_template(\n",
    "    template=\"请评价{product}的优缺点，包括{aspect1}和{aspect2}。\",\n",
    ")\n",
    "# 2、填充实例中的变量\n",
    "prompt_1 = prompt_template.invoke(input={\n",
    "    \"product\":\"智能手机\",\n",
    "    \"aspect1\":\"电池续航\",\n",
    "    \"aspect2\":\"拍照质量\"\n",
    "})\n",
    "response=chat_model.invoke(prompt_1)\n",
    "print(response)\n",
    "print(type(response))"
   ],
   "id": "6179b5a7466b6072",
   "outputs": [
    {
     "name": "stdout",
     "output_type": "stream",
     "text": [
      "content='智能手机作为现代生活中不可或缺的工具，极大地改变了人们的生活方式。以下是对智能手机优缺点的综合评价，特别是从**电池续航**和**拍照质量**两个方面进行分析：\\n\\n---\\n\\n## 一、智能手机的优点\\n\\n### 1. **便携性与多功能性**\\n- 智能手机集成了通讯、上网、娱乐、导航、支付等多种功能，一个设备即可满足多种需求。\\n- 小巧轻便的设计使其便于随身携带。\\n\\n### 2. **强大的拍照能力**\\n- 现代智能手机（如iPhone、三星Galaxy系列等）配备多摄像头系统，支持高像素、光学变焦、夜景模式、AI摄影等功能。\\n- 前置摄像头也逐渐升级，适合自拍和视频通话。\\n- 拍照质量已接近甚至超越部分入门级数码相机，尤其在日常使用中非常实用。\\n\\n### 3. **智能操作系统与应用生态**\\n- Android和iOS系统提供了丰富的应用选择，涵盖工作、学习、娱乐等多个领域。\\n- 应用商店为用户提供了便捷的应用下载和更新渠道。\\n\\n---\\n\\n## 二、智能手机的缺点\\n\\n### 1. **电池续航问题**\\n- 虽然多数智能手机电池容量较大（如4000mAh以上），但由于高性能芯片、高刷新率屏幕、5G网络等因素，**续航时间仍然有限**。\\n- 快充技术虽然提升了充电速度，但频繁充电仍会带来不便。\\n- 部分用户可能需要每天充电一次，影响使用体验。\\n\\n### 2. **拍照质量的局限性**\\n- 尽管硬件提升显著，但在**极端光线条件**（如弱光、逆光）下，手机拍照效果仍不如专业相机。\\n- 低像素或低端机型的成像质量较差，细节表现不足。\\n- 手机镜头的**光学性能**（如焦距、光圈大小）受限于体积，无法完全媲美单反或微单相机。\\n\\n### 3. **隐私与安全风险**\\n- 智能手机存储大量个人数据，一旦丢失或被黑客攻击，可能导致信息泄露。\\n- 应用权限管理不当也可能造成隐私泄露。\\n\\n### 4. **健康与使用习惯问题**\\n- 长时间使用手机可能导致视力下降、颈椎问题等健康问题。\\n- 过度依赖手机可能影响人际交往和专注力。\\n\\n---\\n\\n## 三、总结：智能手机的优缺点对比\\n\\n| 项目         | 优点                                       | 缺点                                       |\\n|--------------|--------------------------------------------|--------------------------------------------|\\n| **便携性**   | 体积小，方便携带                           | 功能过多导致操作复杂                       |\\n| **拍照能力** | 多摄像头、AI优化、夜景模式等大幅提升       | 极端环境下表现不佳，无法替代专业相机       |\\n| **电池续航** | 快充技术缓解续航焦虑                         | 续航时间有限，需频繁充电                   |\\n| **功能丰富** | 集成多种功能，提高生活便利性               | 过度依赖可能影响其他技能发展               |\\n| **安全性**   | 有加密和生物识别保护                        | 存在隐私泄露风险                           |\\n\\n---\\n\\n## 四、未来发展趋势\\n\\n- **电池技术**：固态电池、无线充电、超快充等技术将逐步改善续航问题。\\n- **影像技术**：更高像素、更大传感器、AI算法优化将进一步提升拍照质量。\\n- **隐私保护**：更强的数据加密和用户权限管理机制将成为重点发展方向。\\n\\n---\\n\\n如果你对某一具体品牌（如iPhone、华为、小米等）的电池续航或拍照表现感兴趣，也可以告诉我，我可以提供更详细的分析。' additional_kwargs={} response_metadata={'model_name': 'qwen-turbo', 'finish_reason': 'stop', 'request_id': 'fc234581-7ad0-474b-b4ea-8841873c07b3', 'token_usage': {'input_tokens': 26, 'output_tokens': 777, 'prompt_tokens_details': {'cached_tokens': 0}, 'total_tokens': 803}} id='run--65a10836-2674-4612-bccf-70d6e857793c-0'\n",
      "<class 'langchain_core.messages.ai.AIMessage'>\n"
     ]
    }
   ],
   "execution_count": 15
  }
 ],
 "metadata": {
  "kernelspec": {
   "display_name": "Python 3",
   "language": "python",
   "name": "python3"
  },
  "language_info": {
   "codemirror_mode": {
    "name": "ipython",
    "version": 2
   },
   "file_extension": ".py",
   "mimetype": "text/x-python",
   "name": "python",
   "nbconvert_exporter": "python",
   "pygments_lexer": "ipython2",
   "version": "2.7.6"
  }
 },
 "nbformat": 4,
 "nbformat_minor": 5
}
