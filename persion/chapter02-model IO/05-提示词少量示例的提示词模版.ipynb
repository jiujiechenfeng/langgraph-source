{
 "cells": [
  {
   "metadata": {},
   "cell_type": "markdown",
   "source": [
    "# 少量示例的提示词模版的使用\n",
    "FewShotPromptTemplate ：与PromptTemplate一起使用\n",
    "\n",
    "FewShotChatMessagePromptTemplate:与ChatPromptTemplate一起使用\n",
    "\n",
    "举例1:未提供示例的情况"
   ],
   "id": "f08ff79d3cad6abd"
  },
  {
   "cell_type": "code",
   "id": "afb8f68e362c56a1",
   "metadata": {},
   "source": [
    "from langchain_community.chat_models.tongyi import ChatTongyi\n",
    "from langchain_core.prompts import ChatPromptTemplate, MessagesPlaceholder\n",
    "from dotenv import load_dotenv\n",
    "\n",
    "load_dotenv()"
   ],
   "outputs": [],
   "execution_count": null
  },
  {
   "metadata": {},
   "cell_type": "code",
   "source": [
    "chat_model = ChatTongyi()\n",
    "res = chat_model.invoke(\"2  🥴 9是多少？\")"
   ],
   "id": "initial_id",
   "outputs": [],
   "execution_count": null
  },
  {
   "metadata": {},
   "cell_type": "markdown",
   "source": "举例2:使用FewShotPrompttemplate",
   "id": "ebde0ab09f436888"
  },
  {
   "metadata": {},
   "cell_type": "code",
   "source": [
    "from langchain_core.prompts import FewShotPromptTemplate, PromptTemplate\n",
    "\n",
    "#创建PromptTemplate的实例\n",
    "example_prompt = PromptTemplate.from_template(\n",
    "    template=\"input:{input}\\noutput:{output}\",\n",
    ")\n",
    "#提供一些示例\n",
    "examples = [\n",
    "    {\"input\": \"北京天气怎么样\", \"output\": \"北京市\"},\n",
    "    {\"input\": \"南京下雨吗\", \"output\": \"南京市\"},\n",
    "    {\"input\": \"武汉热吗\", \"output\": \"武汉市\"}\n",
    "]\n",
    "\n",
    "#创建FewShotPromptTemplate的实例\n",
    "few_shot_prompt_template=FewShotPromptTemplate(\n",
    "    example_prompt=example_prompt,\n",
    "    examples=examples,\n",
    "    suffix=\"input:{input}\\noutput:\",\n",
    "    input_variables=[\"input\"],\n",
    ")\n",
    "few_shot_prompt_template.invoke({\"input\":\"天津会下雨吗？\"})\n"
   ],
   "id": "baedafb840620a40",
   "outputs": [],
   "execution_count": null
  },
  {
   "metadata": {},
   "cell_type": "code",
   "source": [
    "chat_model = ChatTongyi()\n",
    "chat_model.invoke(few_shot_prompt_template.invoke({\"input\":\"天津会下雨吗？\"}))"
   ],
   "id": "88f0bd67a441ae8d",
   "outputs": [],
   "execution_count": null
  }
 ],
 "metadata": {
  "kernelspec": {
   "display_name": "Python 3",
   "language": "python",
   "name": "python3"
  },
  "language_info": {
   "codemirror_mode": {
    "name": "ipython",
    "version": 2
   },
   "file_extension": ".py",
   "mimetype": "text/x-python",
   "name": "python",
   "nbconvert_exporter": "python",
   "pygments_lexer": "ipython2",
   "version": "2.7.6"
  }
 },
 "nbformat": 4,
 "nbformat_minor": 5
}
