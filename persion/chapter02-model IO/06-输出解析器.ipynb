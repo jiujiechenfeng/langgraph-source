{
 "cells": [
  {
   "metadata": {},
   "cell_type": "markdown",
   "source": "# 1、字符串输出解析器StrOutputParser",
   "id": "a7c7d3726eb64bc1"
  },
  {
   "cell_type": "code",
   "id": "28f594d26164c782",
   "metadata": {},
   "source": [
    "#1、获取大模型\n",
    "from langchain_community.chat_models.tongyi import ChatTongyi\n",
    "from dotenv import load_dotenv\n",
    "from langchain_core.output_parsers import StrOutputParser, JsonOutputParser\n",
    "from langchain_core.prompts import ChatPromptTemplate\n",
    "\n",
    "load_dotenv()"
   ],
   "outputs": [],
   "execution_count": null
  },
  {
   "metadata": {},
   "cell_type": "code",
   "source": [
    "#2、调用大模型\n",
    "chat_model = ChatTongyi()\n",
    "\n",
    "res = chat_model.invoke(\"什么是大语言模型？\")\n",
    "\n",
    "#3、如何获取字符串输出结果？\n",
    "#方式1 输出调用结果的content\n",
    "print(res.content)\n",
    "#方式2 使用StrOutputPaser\n",
    "parser = StrOutputParser()\n",
    "str_res = parser.invoke(res)\n",
    "print(str_res)"
   ],
   "id": "initial_id",
   "outputs": [],
   "execution_count": null
  },
  {
   "metadata": {},
   "cell_type": "markdown",
   "source": [
    "# 2、Json解析器JsonOutputParser\n",
    "方式1\n"
   ],
   "id": "281b6495809f2ff2"
  },
  {
   "metadata": {},
   "cell_type": "code",
   "source": [
    "chat_model = ChatTongyi()\n",
    "chat_prompt_template = ChatPromptTemplate.from_messages([\n",
    "    (\"system\", \"你是一个靠谱的{role}\"),\n",
    "    (\"human\", \"{question}\")\n",
    "])\n",
    "prompt = chat_prompt_template.invoke(\n",
    "    input={\"role\": \"人工智能专家\", \"question\": \"人工智能用英文怎么说？问题用q表示，答案用a表示，返回一个json格式的数据\"})\n",
    "\n",
    "# prompt = chat_prompt_template.invoke(\n",
    "#     input={\"role\": \"人工智能专家\", \"question\": \"人工智能用英文怎么说？\"})\n",
    "\n",
    "res = chat_model.invoke(prompt)\n",
    "parser = JsonOutputParser()\n",
    "json_result = parser.invoke(res)\n",
    "print(json_result)\n",
    "print(type(json_result))"
   ],
   "id": "decaf3ce91f8af87",
   "outputs": [],
   "execution_count": null
  },
  {
   "metadata": {},
   "cell_type": "markdown",
   "source": "方式2\n",
   "id": "b55537c64a185d1e"
  },
  {
   "metadata": {},
   "cell_type": "code",
   "source": [
    "parser = JsonOutputParser()\n",
    "\n",
    "print(parser.get_format_instructions())"
   ],
   "id": "3f76dd1896f8fa89",
   "outputs": [],
   "execution_count": null
  },
  {
   "metadata": {},
   "cell_type": "markdown",
   "source": "举例2",
   "id": "7b49544f74810c34"
  },
  {
   "metadata": {},
   "cell_type": "code",
   "source": [
    "from langchain_core.prompts import PromptTemplate\n",
    "\n",
    "chat_model = ChatTongyi()\n",
    "\n",
    "joke_query = \"告诉我一个笑话\"\n",
    "\n",
    "parser = JsonOutputParser()\n",
    "\n",
    "prompt_template = PromptTemplate.from_template(\n",
    "    template=\"回答用户的查询\\n 满足的格式为{format_instructions}\\n问题为{question}\\n\",\n",
    "    partial_variables={\"format_instructions\": parser.get_format_instructions()}\n",
    ")\n",
    "\n",
    "prompt = prompt_template.invoke(input={\"question\": joke_query})\n",
    "res = chat_model.invoke(prompt)\n",
    "print(res)\n",
    "\n",
    "json_res = parser.invoke(res)\n",
    "print(json_res)"
   ],
   "id": "1a5d967289290b40",
   "outputs": [],
   "execution_count": null
  },
  {
   "metadata": {
    "ExecuteTime": {
     "end_time": "2025-10-22T09:15:29.114747Z",
     "start_time": "2025-10-22T09:15:28.422152Z"
    }
   },
   "cell_type": "code",
   "source": [
    "chat_model = ChatTongyi()\n",
    "chat_prompt_template = ChatPromptTemplate.from_messages([\n",
    "    (\"system\", \"你是一个靠谱的{role}\"),\n",
    "    (\"human\", \"{question}\")\n",
    "])\n",
    "\n",
    "parser = JsonOutputParser()\n",
    "#写法1\n",
    "# prompt = chat_prompt_template.invoke(\n",
    "#     input={\n",
    "#         \"role\": \"人工智能专家\",\n",
    "#         \"question\": \"人工智能用英文怎么说？问题用q表示，答案用a表示，返回一个json格式的数据\"}\n",
    "# )\n",
    "#\n",
    "# res = chat_model.invoke(prompt)\n",
    "#\n",
    "# json_result = parser.invoke(res)\n",
    "# print(json_result)\n",
    "# print(type(json_result))\n",
    "\n",
    "#写法2\n",
    "chain = chat_prompt_template | chat_model | parser\n",
    "json_result1 = chain.invoke(    input={\n",
    "    \"role\": \"人工智能专家\",\n",
    "    \"question\": \"人工智能用英文怎么说？问题用q表示，答案用a表示，返回一个json格式的数据\"})\n",
    "print(json_result1)"
   ],
   "id": "5ea74b8815f09949",
   "outputs": [
    {
     "name": "stdout",
     "output_type": "stream",
     "text": [
      "{'q': 'What is the English term for artificial intelligence?', 'a': \"Artificial intelligence is referred to as 'artificial intelligence' in English.\"}\n"
     ]
    }
   ],
   "execution_count": 20
  },
  {
   "metadata": {},
   "cell_type": "markdown",
   "source": "## 3、xml解析器XMLOutputParser",
   "id": "cd00c52cc299f163"
  }
 ],
 "metadata": {
  "kernelspec": {
   "display_name": "Python 3",
   "language": "python",
   "name": "python3"
  },
  "language_info": {
   "codemirror_mode": {
    "name": "ipython",
    "version": 2
   },
   "file_extension": ".py",
   "mimetype": "text/x-python",
   "name": "python",
   "nbconvert_exporter": "python",
   "pygments_lexer": "ipython2",
   "version": "2.7.6"
  }
 },
 "nbformat": 4,
 "nbformat_minor": 5
}
