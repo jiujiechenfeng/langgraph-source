{
 "cells": [
  {
   "metadata": {},
   "cell_type": "markdown",
   "source": [
    "# Langchain调用本地大模型\n",
    "1、下载、安装Ollama\n",
    "\n",
    "2、使用Ollama部署大模型\n",
    "\n",
    "3、在langchain中调用ollama下载的大模型"
   ],
   "id": "8736ea1bfbd15c80"
  },
  {
   "cell_type": "code",
   "id": "initial_id",
   "metadata": {
    "collapsed": true,
    "ExecuteTime": {
     "end_time": "2025-10-23T01:23:33.674167Z",
     "start_time": "2025-10-23T01:23:29.744334Z"
    }
   },
   "source": [
    "from langchain_ollama import ChatOllama\n",
    "\n",
    "llm=ChatOllama(\n",
    "    model=\"qwen2.5:0.5b\"\n",
    ")\n",
    "llm.invoke(\"你好，请介绍一下自己\")"
   ],
   "outputs": [
    {
     "data": {
      "text/plain": [
       "AIMessage(content='你好！我是Qwen，由阿里云开发的语言模型。以下是关于我的一些基本信息：\\n\\n1. **名字**：Qwen\\n2. **来源**：来自阿里云团队的开源代码和训练数据\\n3. **功能**：能回答问题、创作文字或图片作品，以及与人进行对话。\\n4. **能力**：\\n   - 文本生成能力（例如撰写故事或文章）\\n   - 图像识别能力（能够从图像中提取信息并描述出来）\\n   - 自然语言处理（能够理解、表达和回应人类的语言）\\n\\n如果需要进一步的信息或者有其他问题，请随时告诉我！', additional_kwargs={}, response_metadata={'model': 'qwen2.5:0.5b', 'created_at': '2025-10-23T01:23:33.666454Z', 'done': True, 'done_reason': 'stop', 'total_duration': 3816006458, 'load_duration': 1370370542, 'prompt_eval_count': 33, 'prompt_eval_duration': 359578500, 'eval_count': 132, 'eval_duration': 1864469956, 'model_name': 'qwen2.5:0.5b', 'model_provider': 'ollama'}, id='lc_run--e3cfdecd-a784-455c-9390-c988d3ca039f-0', usage_metadata={'input_tokens': 33, 'output_tokens': 132, 'total_tokens': 165})"
      ]
     },
     "execution_count": 2,
     "metadata": {},
     "output_type": "execute_result"
    }
   ],
   "execution_count": 2
  }
 ],
 "metadata": {
  "kernelspec": {
   "display_name": "Python 3",
   "language": "python",
   "name": "python3"
  },
  "language_info": {
   "codemirror_mode": {
    "name": "ipython",
    "version": 2
   },
   "file_extension": ".py",
   "mimetype": "text/x-python",
   "name": "python",
   "nbconvert_exporter": "python",
   "pygments_lexer": "ipython2",
   "version": "2.7.6"
  }
 },
 "nbformat": 4,
 "nbformat_minor": 5
}
