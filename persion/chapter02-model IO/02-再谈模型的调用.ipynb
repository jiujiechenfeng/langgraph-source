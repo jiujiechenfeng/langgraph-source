{
 "cells": [
  {
   "metadata": {
    "ExecuteTime": {
     "end_time": "2025-10-20T07:21:26.797932Z",
     "start_time": "2025-10-20T07:21:26.778964Z"
    }
   },
   "cell_type": "code",
   "source": [
    "import os\n",
    "import dotenv\n",
    "from langchain_core.messages import HumanMessage\n",
    "from langchain_community.chat_models.tongyi import ChatTongyi\n",
    "dotenv.load_dotenv()"
   ],
   "id": "17e70cecee5cccd4",
   "outputs": [
    {
     "data": {
      "text/plain": [
       "True"
      ]
     },
     "execution_count": 13,
     "metadata": {},
     "output_type": "execute_result"
    }
   ],
   "execution_count": 13
  },
  {
   "metadata": {},
   "cell_type": "markdown",
   "source": [
    "## 关于对话模型中消息(message)的使用\n",
    "\n",
    "invoke（）方法的输入可以是多种类型：1、字符串类型 2、消息列表\n",
    "\n",
    "输出类型为BaseMessage的子类:AIMessage"
   ],
   "id": "b7b20896ae2ec20d"
  },
  {
   "metadata": {
    "ExecuteTime": {
     "end_time": "2025-10-20T07:21:35.872864Z",
     "start_time": "2025-10-20T07:21:34.597558Z"
    }
   },
   "cell_type": "code",
   "source": [
    "chat_model = ChatTongyi(model=\"qwen-max\")\n",
    "\n",
    "response = chat_model.invoke(\"你好\")\n",
    "\n",
    "print(response.content)"
   ],
   "id": "fb979d8ac739ef6c",
   "outputs": [
    {
     "name": "stdout",
     "output_type": "stream",
     "text": [
      "你好！有什么可以帮助你的吗？\n"
     ]
    }
   ],
   "execution_count": 14
  },
  {
   "metadata": {},
   "cell_type": "markdown",
   "source": [
    "## langchain内置的消息类型：\n",
    "SystemMessage\n",
    "\n",
    "HumanMessage\n",
    "\n",
    "AIMessage\n",
    "\n",
    "ChatMessage\n",
    "\n"
   ],
   "id": "b9d303450fd8ec79"
  },
  {
   "metadata": {},
   "cell_type": "markdown",
   "source": "### 举例1",
   "id": "3d0147ebadc45d1"
  },
  {
   "metadata": {
    "ExecuteTime": {
     "end_time": "2025-10-20T06:16:13.311576Z",
     "start_time": "2025-10-20T06:16:13.303426Z"
    }
   },
   "cell_type": "code",
   "source": [
    "from langchain_core.messages import SystemMessage, HumanMessage\n",
    "\n",
    "system_message = SystemMessage(content=\"你是一个英语教学方向的专家\")\n",
    "human_message = HumanMessage = HumanMessage(content=\"请帮我指定英语六级的学习计划\")\n",
    "\n",
    "messages = [system_message, human_message]\n",
    "\n",
    "print(messages)\n"
   ],
   "id": "bb6be1eef1013bd7",
   "outputs": [
    {
     "name": "stdout",
     "output_type": "stream",
     "text": [
      "[SystemMessage(content='你是一个英语教学方向的专家', additional_kwargs={}, response_metadata={}), HumanMessage(content='请帮我指定英语六级的学习计划', additional_kwargs={}, response_metadata={})]\n"
     ]
    }
   ],
   "execution_count": 6
  },
  {
   "metadata": {},
   "cell_type": "code",
   "source": [
    "response = chat_model.invoke(messages)\n",
    "print(type(response))\n",
    "print(response.content)"
   ],
   "id": "f7874bbe71303ae6",
   "outputs": [],
   "execution_count": null
  },
  {
   "metadata": {},
   "cell_type": "markdown",
   "source": "### 举例2",
   "id": "1ac4f296250d1d23"
  },
  {
   "metadata": {
    "ExecuteTime": {
     "end_time": "2025-10-20T06:16:49.162134Z",
     "start_time": "2025-10-20T06:16:49.137578Z"
    }
   },
   "cell_type": "code",
   "outputs": [
    {
     "name": "stdout",
     "output_type": "stream",
     "text": [
      "[SystemMessage(content='你是一个英语教学方向的专家', additional_kwargs={'tool': 'invoke_func1'}, response_metadata={}), HumanMessage(content='请帮我指定英语六级的学习计划', additional_kwargs={}, response_metadata={})]\n"
     ]
    }
   ],
   "execution_count": 7,
   "source": [
    "from langchain_core.messages import SystemMessage, HumanMessage\n",
    "\n",
    "system_message = SystemMessage(\n",
    "    content=\"你是一个英语教学方向的专家\",\n",
    "    additional_kwargs={\"tool\": \"inf\"}\n",
    ")\n",
    "human_message = HumanMessage = HumanMessage(content=\"请帮我指定英语六级的学习计划\")\n",
    "\n",
    "messages = [system_message, human_message]\n",
    "\n",
    "print(messages)\n"
   ],
   "id": "3c1a33bfe271d892"
  },
  {
   "metadata": {},
   "cell_type": "markdown",
   "source": "",
   "id": "9b67666c190f92fc"
  },
  {
   "metadata": {},
   "cell_type": "markdown",
   "source": "### 举例3 ChatMessage",
   "id": "2b941e29fb0c5880"
  },
  {
   "metadata": {},
   "cell_type": "code",
   "outputs": [],
   "execution_count": null,
   "source": [
    "from langchain_core.messages import SystemMessage, HumanMessage, AIMessage, ChatMessage\n",
    "\n",
    "system_message = SystemMessage(content=\"你是一个专业的数据科学家\")\n",
    "human_message = HumanMessage = HumanMessage(content=\"解释一下随机森林算法\")\n",
    "ai_message = AIMessage(\"随机森林是一种集成学习方法...\")\n",
    "custorm_message = ChatMessage(role=\"analyst\", content=\"补充一点关于超参数调优的信息\")\n",
    "\n",
    "messages = [system_message, human_message]\n",
    "\n",
    "print(messages)"
   ],
   "id": "85b6deccf8fa266f"
  },
  {
   "metadata": {},
   "cell_type": "markdown",
   "source": "## 关于多伦对话与上下文记忆",
   "id": "4f1a7da8951e8a4a"
  },
  {
   "metadata": {
    "ExecuteTime": {
     "end_time": "2025-10-20T07:06:48.356389Z",
     "start_time": "2025-10-20T07:06:48.342906Z"
    }
   },
   "cell_type": "code",
   "source": [
    "from langchain_core.messages import SystemMessage, HumanMessage, AIMessage, ChatMessage\n",
    "\n",
    "system_message = SystemMessage(content=\"你是一个专业的数据科学家\")\n",
    "human_message = HumanMessage = HumanMessage(content=\"解释一下随机森林算法\")\n",
    "ai_message = AIMessage(\"随机森林是一种集成学习方法...\")\n",
    "custorm_message = ChatMessage(role=\"analyst\", content=\"补充一点关于超参数调优的信息\")\n",
    "\n",
    "messages = [system_message, human_message]\n",
    "\n",
    "print(messages)"
   ],
   "id": "c2dcc0e5caf71a92",
   "outputs": [
    {
     "name": "stdout",
     "output_type": "stream",
     "text": [
      "[SystemMessage(content='你是一个专业的数据科学家', additional_kwargs={}, response_metadata={}), HumanMessage(content='解释一下随机森林算法', additional_kwargs={}, response_metadata={})]\n"
     ]
    }
   ],
   "execution_count": 8
  },
  {
   "metadata": {},
   "cell_type": "markdown",
   "source": [
    "## 关于模型调用的方法说明\n",
    "invoke()/stream()\n",
    "\n",
    "batch()批量的调用\n",
    "\n",
    "ainvoke()/asteam()/abatch()：异步方法的调用"
   ],
   "id": "86d33339e8091218"
  },
  {
   "metadata": {
    "ExecuteTime": {
     "end_time": "2025-10-20T07:21:58.506051Z",
     "start_time": "2025-10-20T07:21:55.445194Z"
    }
   },
   "cell_type": "code",
   "source": [
    "#初始化大模型\n",
    "chat_model = ChatTongyi()\n",
    "# 创建消息\n",
    "messages = [HumanMessage(content=\"你好，请介绍一下自己\")]\n",
    "# 非流式调用LLM获取响应\n",
    "response = chat_model.invoke(messages)\n",
    "# 打印响应内容\n",
    "print(response.content)\n"
   ],
   "id": "6ae56a11b6afa9f0",
   "outputs": [
    {
     "name": "stdout",
     "output_type": "stream",
     "text": [
      "你好！我是通义千问，由阿里巴巴集团旗下的通义实验室自主研发的超大规模语言模型。我的中文名是通义千问，英文名是Qwen。我能够回答问题、创作文字、编程、逻辑推理等多种任务，旨在为用户提供全面、准确和有用的信息与帮助。\n",
      "\n",
      "我的训练数据涵盖了大量的文本，包括书籍、文章、网页等，这使我能够理解和生成多种语言的内容。我可以进行多轮对话，理解上下文，并根据用户的反馈调整回答策略。\n",
      "\n",
      "如果你有任何问题或需要帮助，无论是学习、工作还是生活中的问题，我都会尽力为你提供支持。你可以随时向我提问，我会尽我所能给出最合适的答案。希望我们能有愉快的交流！\n"
     ]
    }
   ],
   "execution_count": 15
  },
  {
   "metadata": {
    "ExecuteTime": {
     "end_time": "2025-10-20T07:22:02.496829Z",
     "start_time": "2025-10-20T07:22:01.308492Z"
    }
   },
   "cell_type": "code",
   "source": [
    "# 初始化大模型\n",
    "chat_model = ChatTongyi()\n",
    "# 支持多个消息作为输入\n",
    "messages = [\n",
    "    SystemMessage(content=\"你是一位乐于助人的助手。你叫于老师\"),\n",
    "    HumanMessage(content=\"你是谁？\")\n",
    "]\n",
    "response = chat_model.invoke(messages)\n",
    "print(response.content)"
   ],
   "id": "2983fa23ad404d41",
   "outputs": [
    {
     "name": "stdout",
     "output_type": "stream",
     "text": [
      "哎呀，你好呀！我是于老师，很高兴认识你。我是一个乐于助人、喜欢和大家交流的助手。有什么问题或者需要帮助的地方，尽管告诉我哦！我们可以一起讨论、学习，或者聊聊生活中的趣事。你今天想聊些什么呢？\n"
     ]
    }
   ],
   "execution_count": 16
  },
  {
   "metadata": {
    "ExecuteTime": {
     "end_time": "2025-10-20T07:22:10.675348Z",
     "start_time": "2025-10-20T07:22:04.162702Z"
    }
   },
   "cell_type": "code",
   "source": [
    "# 初始化大模型\n",
    "chat_model = ChatTongyi(model=\"qwen-max\", streaming=True)\n",
    "# 启用流式输出\n",
    "messages = [HumanMessage(content=\"你好，请介绍一下自己\")]\n",
    "# 流式调用LLM获取响应\n",
    "print(\"开始流式输出：\")\n",
    "for chunk in chat_model.stream(messages):\n",
    "# 逐个打印内容块\n",
    "    print(chunk.content, end=\"\", flush=True)  # 刷新缓冲区 (无换行符，缓冲区未刷新，内容可能不会立即显示)\n",
    "print(\"\\n流式输出结束\")"
   ],
   "id": "fc899dd104c01e44",
   "outputs": [
    {
     "name": "stdout",
     "output_type": "stream",
     "text": [
      "开始流式输出：\n",
      "你好！我是Qwen，由阿里云开发的一款超大规模语言模型。我的设计目的是为了能够帮助用户生成高质量的文本，包括但不限于文章、故事、诗歌、故事等，并且可以进行各种对话交流，提供信息查询、解答问题等服务。无论是需要创意写作还是寻求知识学习的帮助，我都会尽力提供支持。同时，我也在不断学习和进步中，希望可以更好地服务于每一位用户。很高兴遇见你，有什么我可以帮到你的吗？\n",
      "流式输出结束\n"
     ]
    }
   ],
   "execution_count": 17
  },
  {
   "metadata": {},
   "cell_type": "markdown",
   "source": "## 批量调用",
   "id": "24a235cc6373cc58"
  },
  {
   "metadata": {
    "ExecuteTime": {
     "end_time": "2025-10-20T07:27:54.638423Z",
     "start_time": "2025-10-20T07:27:23.874121Z"
    }
   },
   "cell_type": "code",
   "source": [
    "messages1 = [SystemMessage(content=\"你是一位乐于助人的智能小助手\"),\n",
    "             HumanMessage(content=\"请帮我介绍一下什么是机器学习\"), ]\n",
    "messages2 = [SystemMessage(content=\"你是一位乐于助人的智能小助手\"),\n",
    "             HumanMessage(content=\"请帮我介绍一下什么是AIGC\"), ]\n",
    "messages3 = [SystemMessage(content=\"你是一位乐于助人的智能小助手\"),\n",
    "             HumanMessage(content=\"请帮我介绍一下什么是大模型技术\"), ]\n",
    "messages = [messages1, messages2, messages3]\n",
    "response = chat_model.batch(messages)\n",
    "print(response)"
   ],
   "id": "233e44a5f19d7248",
   "outputs": [
    {
     "name": "stdout",
     "output_type": "stream",
     "text": [
      "[AIMessage(content='机器学习是人工智能（AI）的一个分支，它使计算机能够在不进行明确编程的情况下从数据中学习并改进其性能。通过机器学习算法，系统可以自动识别模式、提取知识，并基于这些信息做出预测或决策。简而言之，机器学习就是让计算机通过经验自我优化的过程。\\n\\n### 机器学习的主要类型\\n\\n1. **监督学习**：在这种模式下，算法通过已知输入和输出的数据集来训练模型。目的是学会如何根据输入正确地预测输出。常见的应用包括分类问题（如垃圾邮件检测）和回归问题（如房价预测）。\\n   \\n2. **无监督学习**：与监督学习不同，在这里我们只有输入数据而没有对应的输出标签。目标是从数据中发现隐藏的结构或模式。聚类分析是一种典型的无监督学习方法，用于将相似的对象分组在一起。\\n   \\n3. **强化学习**：这是一种让机器通过试错的方式学习如何在特定环境中采取行动以最大化某种奖励的方法。这种方法特别适用于游戏、机器人控制等领域。\\n\\n### 应用领域\\n\\n- **自然语言处理**：使得机器能够理解、解释甚至生成人类语言。\\n- **图像识别**：帮助计算机识别图片中的物体、人脸等。\\n- **推荐系统**：根据用户的历史行为为其提供个性化的内容或产品建议。\\n- **医疗健康**：辅助疾病诊断、药物发现等方面。\\n- **金融行业**：风险评估、欺诈检测等。\\n\\n随着技术的发展，机器学习的应用范围越来越广泛，正在改变着我们的生活方式和社会运作方式。同时，也面临着数据隐私保护、算法偏见等问题，这些都是未来需要重点关注的方向。', additional_kwargs={}, response_metadata={'model_name': 'qwen-max', 'finish_reason': 'stop', 'request_id': 'b5875167-f199-4262-8114-13945643f2bd', 'token_usage': {'input_tokens': 28, 'output_tokens': 341, 'total_tokens': 369, 'prompt_tokens_details': {'cached_tokens': 0}}}, id='run--0a88a1bc-b867-49be-8e18-429d4a1e630f-0'), AIMessage(content='AIGC是“AI Generated Content”的缩写，中文可以翻译为“人工智能生成内容”。它指的是利用人工智能技术自动生成各种形式的内容，包括但不限于文本、图像、音频和视频等。随着深度学习、自然语言处理（NLP）、计算机视觉等领域的发展，AIGC已经成为了一个非常活跃的研究方向，并在多个行业中得到了应用。\\n\\n1. **应用场景**：AIGC的应用范围非常广泛，比如自动写作助手可以帮助人们快速撰写新闻稿、报告或小说；虚拟主播能够通过合成的声音与观众互动；艺术创作方面也有AI参与绘画或者音乐制作的例子。\\n2. **技术基础**：实现AIGC的核心技术主要包括但不限于：\\n   - 自然语言处理(NLP)：用于理解和生成人类语言的技术。\\n   - 生成对抗网络(GANs)：一种常用的生成模型框架，特别适用于图像生成领域。\\n   - 变分自编码器(VAEs)及其他类型的神经网络架构。\\n3. **挑战与争议**：虽然AIGC带来了许多便利，但也面临着版权归属、内容真实性以及伦理道德等方面的挑战。例如，在没有明确授权的情况下使用大量数据训练AI模型可能会侵犯原作者的权益；此外，难以区分真伪的信息也可能对社会造成负面影响。\\n4. **未来发展**：随着技术的进步和社会对于AIGC接受度的提高，预计这一领域将继续快速发展。同时，如何建立健全相关法律法规以保护各方利益，将是未来需要重点关注的问题之一。\\n\\n总之，AIGC是一个充满潜力但同时也伴随着诸多挑战的新领域，其发展将深刻影响到我们的生活和工作方式。', additional_kwargs={}, response_metadata={'model_name': 'qwen-max', 'finish_reason': 'stop', 'request_id': '61e59c2a-0b91-4ed7-96ce-6c7caa8835e0', 'token_usage': {'input_tokens': 29, 'output_tokens': 332, 'total_tokens': 361, 'prompt_tokens_details': {'cached_tokens': 0}}}, id='run--911e45ec-4832-4bbd-96c4-30986c47ecdb-0'), AIMessage(content='大模型技术，通常指的是基于深度学习的大型预训练模型技术。这类模型通过在大规模数据集上进行训练，能够学习到丰富的知识和复杂的模式，从而在多种任务上展现出强大的泛化能力和性能。大模型主要分为自然语言处理（NLP）领域的大规模预训练模型以及计算机视觉领域的大型网络结构两大类，但近年来随着多模态学习的发展，也出现了同时处理文本、图像甚至音频等多种类型数据的大模型。\\n\\n### 自然语言处理中的大模型\\n\\n- **BERT**：由Google于2018年提出，是最早一批采用Transformer架构，并利用双向编码器来理解上下文关系的预训练模型之一。\\n- **GPT系列**：OpenAI开发的一系列生成式预训练变换器模型，从GPT-1发展至GPT-3乃至更高级版本，这些模型在文本生成、问答等多个方面表现出色。\\n- **T5**：同样来自Google的研究成果，它将各种NLP任务统一视为文本到文本的问题，通过调整输入输出格式即可解决不同类型的任务。\\n\\n### 计算机视觉领域的大模型\\n\\n- **ResNet**：微软亚洲研究院提出的残差网络，通过引入“跳跃连接”解决了深层神经网络训练过程中梯度消失/爆炸问题。\\n- **EfficientNet**：Google团队设计的一种高效卷积神经网络结构，能够在保持较高准确率的同时大幅减少计算资源消耗。\\n- **ViT (Vision Transformer)**：受到NLP领域Transformer成功的启发，直接应用于图像识别任务上的模型，打破了传统CNN在视觉任务中占据主导地位的局面。\\n\\n### 多模态大模型\\n\\n随着研究深入，越来越多的工作开始探索如何让一个模型能够跨模态地理解和生成信息，例如：\\n\\n- **CLIP**：由OpenAI推出，结合了图像与文本两种模态的数据进行联合训练，使得模型能够根据给定的文字描述找到相应的图片或者反之。\\n- **DALL·E**：同样是OpenAI的作品，它可以根据用户提供的文字提示创造出高质量的艺术作品或现实场景图像。\\n\\n大模型技术的发展极大地推动了人工智能领域的进步，使得机器能够更好地理解和处理人类语言及视觉信息。不过，这些模型也面临着诸如需要大量计算资源、可能存在偏见等问题，因此未来的研究方向不仅在于提高模型性能，还包括优化效率、增强可解释性等方面。', additional_kwargs={}, response_metadata={'model_name': 'qwen-max', 'finish_reason': 'stop', 'request_id': '03d157a4-d4a8-4b67-a400-d4fa9b858a9f', 'token_usage': {'input_tokens': 29, 'output_tokens': 495, 'total_tokens': 524, 'prompt_tokens_details': {'cached_tokens': 0}}}, id='run--aa06b47c-37fe-4952-8ad2-0d02a36ea2aa-0')]\n"
     ]
    }
   ],
   "execution_count": 18
  },
  {
   "metadata": {},
   "cell_type": "markdown",
   "source": "## 关于同步和异步方法的调用",
   "id": "3a9f1883e1dfdb1c"
  },
  {
   "metadata": {
    "ExecuteTime": {
     "end_time": "2025-10-20T07:37:08.153261Z",
     "start_time": "2025-10-20T07:37:08.141333Z"
    }
   },
   "cell_type": "code",
   "source": [
    "import inspect\n",
    "print(\"ainvoke是协程函数：\",inspect.iscoroutinefunction(chat_model.ainvoke))\n",
    "print(\"invoke是协程函数：\",inspect.iscoroutinefunction(chat_model.invoke))"
   ],
   "id": "72ad95b727491724",
   "outputs": [
    {
     "name": "stdout",
     "output_type": "stream",
     "text": [
      "ainvoke是协程函数： True\n",
      "invoke是协程函数： False\n"
     ]
    }
   ],
   "execution_count": 23
  }
 ],
 "metadata": {
  "kernelspec": {
   "display_name": "Python 3",
   "language": "python",
   "name": "python3"
  },
  "language_info": {
   "codemirror_mode": {
    "name": "ipython",
    "version": 2
   },
   "file_extension": ".py",
   "mimetype": "text/x-python",
   "name": "python",
   "nbconvert_exporter": "python",
   "pygments_lexer": "ipython2",
   "version": "2.7.6"
  }
 },
 "nbformat": 4,
 "nbformat_minor": 5
}
