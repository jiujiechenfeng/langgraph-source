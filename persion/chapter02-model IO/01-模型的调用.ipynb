{
 "cells": [
  {
   "metadata": {},
   "cell_type": "markdown",
   "source": [
    "# 1、模型调用的分类\n",
    "## 角度1：按照功能的不同\n",
    "非对话模型：LLMs、Text Model\n",
    "\n",
    "对话模型：Chat Models（推荐）\n",
    "\n",
    "嵌入模型：Embedding Models\n",
    "## 角度2：按照模型调用时，参数书写的位置的不同（api_key、base_url、model_name）\n",
    "硬编码的方式：\n",
    "\n",
    "使用环境变量的方式\n",
    "\n",
    "使用配置文件的方式（推荐）\n",
    "\n",
    "## 角度3：具体api的调用\n",
    "\n",
    "使用langchain提供的api（推荐）\n",
    "\n",
    "使用OpenAI官方的api\n",
    "\n",
    "使用其他平台提供的api\n"
   ],
   "id": "859a97aa1b94472a"
  },
  {
   "metadata": {},
   "cell_type": "markdown",
   "source": [
    "## 非对话模型\n",
    "输入：文本字符串\n",
    "输出：文本字符串"
   ],
   "id": "664dc648f8e181b5"
  },
  {
   "metadata": {},
   "cell_type": "code",
   "source": [
    "import os\n",
    "from dotenv import load_dotenv\n",
    "from langchain_core.messages import SystemMessage, HumanMessage\n",
    "from langchain_openai import OpenAI\n",
    "\n",
    "load_dotenv()\n",
    "baseUrl = os.getenv('OPENAI_BASE_URL')"
   ],
   "id": "ec0afba7f974d558",
   "outputs": [],
   "execution_count": null
  },
  {
   "metadata": {},
   "cell_type": "code",
   "source": [
    "llm = OpenAI()\n",
    "str = llm.invoke(\"写一首关于春天的诗\")\n",
    "print(str)"
   ],
   "id": "3a57919a3d3b8834",
   "outputs": [],
   "execution_count": null
  },
  {
   "metadata": {},
   "cell_type": "markdown",
   "source": [
    "## 调用对话模型\n",
    "- 输入：接手消息列表或者Prompt，每条消息都需要指定角色（SystemMessage、HumanMessage(人提问)、AIMessage（大模型的回复））\n",
    "- 带角色的消息对象，通常是AIMessage"
   ],
   "id": "f151dab3f7909c14"
  },
  {
   "metadata": {},
   "cell_type": "code",
   "source": [
    "from langchain_community.chat_models.tongyi import ChatTongyi\n",
    "from dotenv import load_dotenv\n",
    "from langchain_core.messages import SystemMessage, HumanMessage\n",
    "\n",
    "load_dotenv()"
   ],
   "id": "f74fcbbb7da7293",
   "outputs": [],
   "execution_count": null
  },
  {
   "metadata": {},
   "cell_type": "code",
   "source": [
    "chat_model = ChatTongyi(model=\"qwen-max\")\n",
    "#输入\n",
    "message = [\n",
    "    SystemMessage(content=\"我是人工智能助手，我叫小智\"),\n",
    "    HumanMessage(content=\"你好，我是小明，很高兴认识你\")\n",
    "]\n",
    "#输出\n",
    "response = chat_model.invoke(message)"
   ],
   "id": "a53ddd31ee072fbf",
   "outputs": [],
   "execution_count": null
  },
  {
   "metadata": {},
   "cell_type": "code",
   "source": [
    "print(type(response))\n",
    "print(response.content)"
   ],
   "id": "c15f20e566730c0e",
   "outputs": [],
   "execution_count": null
  },
  {
   "metadata": {},
   "cell_type": "markdown",
   "source": "## Embedding Model嵌入模型",
   "id": "355c17909f188a8d"
  },
  {
   "metadata": {},
   "cell_type": "code",
   "source": [
    "import os\n",
    "import dotenv\n",
    "from langchain_community.embeddings import DashScopeEmbeddings\n",
    "\n",
    "dotenv.load_dotenv()"
   ],
   "id": "659ac82aa37d9345",
   "outputs": [],
   "execution_count": null
  },
  {
   "metadata": {},
   "cell_type": "code",
   "source": "embeddings_model = DashScopeEmbeddings(model=\"text-embedding-v1\")",
   "id": "5532a524b4d46fb2",
   "outputs": [],
   "execution_count": null
  },
  {
   "metadata": {},
   "cell_type": "code",
   "source": [
    "res1 = embeddings_model.embed_query('我是文档中的数据')\n",
    "print(res1)"
   ],
   "id": "24de8f26f922b9b6",
   "outputs": [],
   "execution_count": null
  },
  {
   "metadata": {},
   "cell_type": "markdown",
   "source": "## 角度2:参数位置不同举例",
   "id": "78d67403213e3f70"
  },
  {
   "metadata": {},
   "cell_type": "code",
   "source": [
    "from langchain_community.chat_models.tongyi import ChatTongyi\n",
    "from langchain_openai.chat_models import ChatOpenAI\n",
    "from dotenv import load_dotenv\n",
    "load_dotenv()\n"
   ],
   "id": "3c657499b9eafd92",
   "outputs": [],
   "execution_count": null
  },
  {
   "metadata": {},
   "cell_type": "code",
   "source": [
    "message = [\n",
    "    SystemMessage(content='你是一个友好的助手'),\n",
    "    HumanMessage(content=\"给我介绍一下深度学习\")\n",
    "]"
   ],
   "id": "1c748b9c9dd41340",
   "outputs": [],
   "execution_count": null
  },
  {
   "metadata": {},
   "cell_type": "code",
   "source": [
    "#调用对话模型\n",
    "chat_qwen_model = ChatTongyi(model=\"qwen-max\")"
   ],
   "id": "755c78ea2033731",
   "outputs": [],
   "execution_count": null
  },
  {
   "metadata": {},
   "cell_type": "code",
   "source": "qwen_response = chat_qwen_model.invoke(\"什么是langchain\")",
   "id": "a7a1219ad8e1cf10",
   "outputs": [],
   "execution_count": null
  },
  {
   "metadata": {},
   "cell_type": "code",
   "source": [
    "# print(qwen_response.content)\n",
    "# print(qwen_response)\n",
    "print(type(qwen_response))"
   ],
   "id": "3c96302d20165df9",
   "outputs": [],
   "execution_count": null
  },
  {
   "metadata": {},
   "cell_type": "markdown",
   "source": "## 使用配置文件的方式:",
   "id": "28ad07914d507246"
  },
  {
   "metadata": {
    "ExecuteTime": {
     "end_time": "2025-10-17T03:47:30.603343Z",
     "start_time": "2025-10-17T03:47:09.630685Z"
    }
   },
   "cell_type": "code",
   "source": [
    "from langchain_community.chat_models.tongyi import ChatTongyi\n",
    "from dotenv import load_dotenv\n",
    "load_dotenv()\n",
    "chat_model = ChatTongyi(model=\"qwen-max\")\n",
    "response=chat_model.invoke(message)\n",
    "print(type(response))"
   ],
   "id": "8fcfa00279365ab",
   "outputs": [
    {
     "name": "stdout",
     "output_type": "stream",
     "text": [
      "<class 'langchain_core.messages.ai.AIMessage'>\n"
     ]
    }
   ],
   "execution_count": 47
  }
 ],
 "metadata": {
  "kernelspec": {
   "display_name": "Python 3",
   "language": "python",
   "name": "python3"
  },
  "language_info": {
   "codemirror_mode": {
    "name": "ipython",
    "version": 2
   },
   "file_extension": ".py",
   "mimetype": "text/x-python",
   "name": "python",
   "nbconvert_exporter": "python",
   "pygments_lexer": "ipython2",
   "version": "2.7.6"
  }
 },
 "nbformat": 4,
 "nbformat_minor": 5
}
