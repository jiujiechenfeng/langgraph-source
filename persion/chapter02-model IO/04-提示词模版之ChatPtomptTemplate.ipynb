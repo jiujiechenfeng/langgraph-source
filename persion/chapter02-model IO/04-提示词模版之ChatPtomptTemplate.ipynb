{
 "cells": [
  {
   "metadata": {
    "ExecuteTime": {
     "end_time": "2025-10-22T03:57:23.870946Z",
     "start_time": "2025-10-22T03:57:23.852937Z"
    }
   },
   "cell_type": "code",
   "source": [
    "from langchain_community.chat_models import ChatTongyi\n",
    "from langchain_core.prompts import ChatPromptTemplate, MessagesPlaceholder\n",
    "from dotenv import load_dotenv\n",
    "load_dotenv()"
   ],
   "id": "e6099253c342a469",
   "outputs": [
    {
     "data": {
      "text/plain": [
       "True"
      ]
     },
     "execution_count": 36,
     "metadata": {},
     "output_type": "execute_result"
    }
   ],
   "execution_count": 36
  },
  {
   "metadata": {},
   "cell_type": "markdown",
   "source": [
    "# 关于提示词模版之ChatPromptTemplate的使用\n",
    "1、 实例话的方式：构造方法、from_message()\n",
    "\n",
    "2、 调用提示词模版的几种方法：invoke() \\ format() \\ format_message() \\ format_prompt()\n",
    "\n",
    "3、更丰富的实例化参数类型\n",
    "\n",
    "4、结合llm\n",
    "\n",
    "5、插入消息列表：MessagePlaceholder"
   ],
   "id": "aa4079106347152d"
  },
  {
   "metadata": {},
   "cell_type": "markdown",
   "source": [
    "## 实例话的方式：构造方法、from_message()\n",
    "使用构造方法"
   ],
   "id": "2b9f3ed0a485dcf3"
  },
  {
   "metadata": {
    "ExecuteTime": {
     "end_time": "2025-10-22T02:55:04.120833Z",
     "start_time": "2025-10-22T02:55:00.039974Z"
    }
   },
   "cell_type": "code",
   "source": [
    "\n",
    "\n",
    "chat_prompt_template=ChatPromptTemplate(\n",
    "    messages=[\n",
    "        (\"system\",\"你是一个ai主收，你的名字叫{name}\"),\n",
    "        (\"human\",\"我的问题是{question}\")\n",
    "    ],\n",
    "    input_variables=[\"name\",\"question\"],\n",
    ")\n",
    "response=chat_prompt_template.invoke(input={\"name\":\"小智\",\"question\":\"1+2+3=?\"})\n",
    "print(response)\n",
    "print(type(response))"
   ],
   "id": "b33117f7366d2666",
   "outputs": [
    {
     "name": "stdout",
     "output_type": "stream",
     "text": [
      "messages=[SystemMessage(content='你是一个ai主收，你的名字叫小智', additional_kwargs={}, response_metadata={}), HumanMessage(content='我的问题是1+2+3=?', additional_kwargs={}, response_metadata={})]\n",
      "<class 'langchain_core.prompt_values.ChatPromptValue'>\n"
     ]
    }
   ],
   "execution_count": 16
  },
  {
   "metadata": {},
   "cell_type": "markdown",
   "source": "根简介的方法：",
   "id": "89232dab8ca59db2"
  },
  {
   "metadata": {
    "ExecuteTime": {
     "end_time": "2025-10-22T03:49:04.347599Z",
     "start_time": "2025-10-22T03:49:04.339807Z"
    }
   },
   "cell_type": "code",
   "source": [
    "chat_prompt_template = ChatPromptTemplate([\n",
    "    (\"system\", \"你是一个ai助手，你的名字叫{name}\"),\n",
    "    (\"human\",\"我的问题是{question}\")\n",
    "],\n",
    ")\n",
    "response = chat_prompt_template.invoke(input={\"name\": \"小智\", \"question\": \"1+2+3=?\"})\n",
    "print(response)\n",
    "print(type(response))"
   ],
   "id": "4111ad77641b554",
   "outputs": [
    {
     "name": "stdout",
     "output_type": "stream",
     "text": [
      "messages=[SystemMessage(content='你是一个ai助手，你的名字叫小智', additional_kwargs={}, response_metadata={}), HumanMessage(content='我的问题是1+2+3=?', additional_kwargs={}, response_metadata={})]\n",
      "<class 'langchain_core.prompt_values.ChatPromptValue'>\n"
     ]
    }
   ],
   "execution_count": 25
  },
  {
   "metadata": {},
   "cell_type": "markdown",
   "source": "方式2，调用from_message",
   "id": "1756a2e215017e95"
  },
  {
   "metadata": {
    "ExecuteTime": {
     "end_time": "2025-10-22T02:57:48.594567Z",
     "start_time": "2025-10-22T02:57:48.586773Z"
    }
   },
   "cell_type": "code",
   "source": [
    "chat_prompt_template = ChatPromptTemplate.from_messages([\n",
    "    (\"system\", \"你是一个ai助手，你的名字叫{name}\"),\n",
    "    (\"human\",\"我的问题是{question}\")\n",
    "],\n",
    ")\n",
    "response = chat_prompt_template.invoke(input={\"name\": \"小智\", \"question\": \"1+2+3=?\"})\n",
    "print(response)\n",
    "print(type(response)),\n"
   ],
   "id": "efdaab7254ca104c",
   "outputs": [
    {
     "name": "stdout",
     "output_type": "stream",
     "text": [
      "messages=[SystemMessage(content='你是一个ai助手，你的名字叫小智', additional_kwargs={}, response_metadata={}), HumanMessage(content='我的问题是1+2+3=?', additional_kwargs={}, response_metadata={})]\n",
      "<class 'langchain_core.prompt_values.ChatPromptValue'>\n"
     ]
    },
    {
     "data": {
      "text/plain": [
       "(None,)"
      ]
     },
     "execution_count": 20,
     "metadata": {},
     "output_type": "execute_result"
    }
   ],
   "execution_count": 20
  },
  {
   "metadata": {
    "ExecuteTime": {
     "end_time": "2025-10-22T03:46:40.995022Z",
     "start_time": "2025-10-22T03:46:40.982438Z"
    }
   },
   "cell_type": "code",
   "source": [
    "chat_prompt_template = ChatPromptTemplate.from_messages([\n",
    "    (\"system\", \"你是一个ai助手，你的名字叫{name}\"),\n",
    "    (\"human\",\"我的问题是{question}\")\n",
    "],\n",
    ")\n",
    "# response = chat_prompt_template.format_prompt(name= \"小智\",question=\"1+2+3=?\")\n",
    "response = chat_prompt_template.invoke(input={\"name\": \"小智\", \"question\": \"1+2+3=?\"})\n",
    "# print(response)\n",
    "# print(type(response))\n",
    "\n",
    "response_messages=response.to_messages()\n",
    "print(response_messages)\n",
    "print(type(response_messages))\n"
   ],
   "id": "3c061ccd41b04ff6",
   "outputs": [
    {
     "name": "stdout",
     "output_type": "stream",
     "text": [
      "[SystemMessage(content='你是一个ai助手，你的名字叫小智', additional_kwargs={}, response_metadata={}), HumanMessage(content='我的问题是1+2+3=?', additional_kwargs={}, response_metadata={})]\n",
      "<class 'list'>\n"
     ]
    }
   ],
   "execution_count": 24
  },
  {
   "metadata": {},
   "cell_type": "markdown",
   "source": "## 更丰富的实例化参数",
   "id": "b956b62a7136c766"
  },
  {
   "metadata": {
    "ExecuteTime": {
     "end_time": "2025-10-22T03:49:46.037095Z",
     "start_time": "2025-10-22T03:49:46.024903Z"
    }
   },
   "cell_type": "code",
   "source": [
    "#创建实例\n",
    "#第1种方式\n",
    "chat_prompt_template = ChatPromptTemplate([\n",
    "    (\"system\", \"你是一个ai助手，你的名字叫{name}\"),\n",
    "    (\"human\",\"我的问题是{question}\")\n",
    "],)\n",
    "\n",
    "#第2种方式\n",
    "chat_prompt_template = ChatPromptTemplate.from_messages([\n",
    "    (\"system\", \"你是一个ai助手，你的名字叫{name}\"),\n",
    "    (\"human\",\"我的问题是{question}\")\n",
    "],\n",
    ")\n",
    "response = chat_prompt_template.invoke(input={\"name\": \"小智\", \"question\": \"1+2+3=?\"})\n",
    "\n"
   ],
   "id": "a3b531636389febf",
   "outputs": [],
   "execution_count": 27
  },
  {
   "metadata": {},
   "cell_type": "markdown",
   "source": "## 结合llm",
   "id": "f07675db1ec3fccf"
  },
  {
   "metadata": {
    "ExecuteTime": {
     "end_time": "2025-10-22T06:00:40.401090Z",
     "start_time": "2025-10-22T06:00:39.173469Z"
    }
   },
   "cell_type": "code",
   "source": [
    "#1、提供大模型\n",
    "chat_model=ChatTongyi(model=\"qwen-max\")\n",
    "#2、通过chat提示词模版，创建提示词\n",
    "chat_prompt_template = ChatPromptTemplate.from_messages([\n",
    "    (\"system\", \"你是一个ai助手，你的名字叫{name}\"),\n",
    "    (\"human\",\"我的问题是{question}\")\n",
    "],\n",
    ")\n",
    "prompt_response = chat_prompt_template.invoke(input={\"name\": \"小智\", \"question\": \"1+2+3=?\"})\n",
    "#3、通过大模型调用提示词，得到响应\n",
    "\n",
    "response=chat_model.invoke(prompt_response)\n",
    "print(response)"
   ],
   "id": "95a9d13e786bac4b",
   "outputs": [
    {
     "name": "stdout",
     "output_type": "stream",
     "text": [
      "content='1+2+3的结果是6。' additional_kwargs={} response_metadata={'model_name': 'qwen-max', 'finish_reason': 'stop', 'request_id': 'dfd28adf-b089-4a73-b805-256bffb6f7df', 'token_usage': {'input_tokens': 31, 'output_tokens': 9, 'prompt_tokens_details': {'cached_tokens': 0}, 'total_tokens': 40}} id='run--4121e86b-eb15-4c44-9d57-3b23aa263658-0'\n"
     ]
    }
   ],
   "execution_count": 38
  },
  {
   "metadata": {},
   "cell_type": "markdown",
   "source": [
    "## 5、插入消息列表：MessagesPlaceholder\n",
    "使用场景：当ChatPromptTemplate模版中的消息类型和个数不确定的时候，可以使用\n",
    "\n",
    "举例1"
   ],
   "id": "ae364fb1c0e51cd4"
  },
  {
   "metadata": {
    "ExecuteTime": {
     "end_time": "2025-10-22T06:05:51.004406Z",
     "start_time": "2025-10-22T06:05:50.991630Z"
    }
   },
   "cell_type": "code",
   "source": [
    "from langchain_core.messages import HumanMessage, AIMessage\n",
    "from langchain_core.prompts.chat import MessagesPlaceholder\n",
    "\n",
    "chat_prompt_template = ChatPromptTemplate.from_messages([\n",
    "    (\"system\", \"你是一个ai助手，你的名字叫{name}\"),\n",
    "    MessagesPlaceholder(variable_name=\"msgs\")\n",
    "])\n",
    "chat_prompt_template.invoke({\n",
    "    \"name\":\"小智\",\n",
    "    \"msgs\":[HumanMessage(content=\"我的问题是:1+2*3=?\")]\n",
    "})"
   ],
   "id": "5b53ba09d135892e",
   "outputs": [
    {
     "data": {
      "text/plain": [
       "ChatPromptValue(messages=[SystemMessage(content='你是一个ai助手，你的名字叫小智', additional_kwargs={}, response_metadata={}), HumanMessage(content='我的问题是:1+2*3=?', additional_kwargs={}, response_metadata={})])"
      ]
     },
     "execution_count": 39,
     "metadata": {},
     "output_type": "execute_result"
    }
   ],
   "execution_count": 39
  },
  {
   "metadata": {},
   "cell_type": "markdown",
   "source": "举例2\n",
   "id": "f3c20a618f66616e"
  },
  {
   "metadata": {
    "ExecuteTime": {
     "end_time": "2025-10-22T06:07:13.885599Z",
     "start_time": "2025-10-22T06:07:13.874135Z"
    }
   },
   "cell_type": "code",
   "source": [
    "from langchain_core.messages import HumanMessage\n",
    "from langchain_core.prompts.chat import MessagesPlaceholder\n",
    "from langchain_core.messages.ai import AIMessage\n",
    "chat_prompt_template = ChatPromptTemplate.from_messages([\n",
    "    (\"system\", \"你是一个ai助手，你的名字叫{name}\"),\n",
    "    MessagesPlaceholder(variable_name=\"msgs\")\n",
    "])\n",
    "chat_prompt_template.invoke({\n",
    "    \"name\":\"小智\",\n",
    "    \"msgs\":[HumanMessage(content=\"我的问题是:1+2*3=?\"),\n",
    "            AIMessage(content=\"1+2*3=7\")]\n",
    "})"
   ],
   "id": "238a9c456e68700",
   "outputs": [
    {
     "data": {
      "text/plain": [
       "ChatPromptValue(messages=[SystemMessage(content='你是一个ai助手，你的名字叫小智', additional_kwargs={}, response_metadata={}), HumanMessage(content='我的问题是:1+2*3=?', additional_kwargs={}, response_metadata={}), AIMessage(content='1+2*3=7', additional_kwargs={}, response_metadata={})])"
      ]
     },
     "execution_count": 40,
     "metadata": {},
     "output_type": "execute_result"
    }
   ],
   "execution_count": 40
  },
  {
   "metadata": {},
   "cell_type": "markdown",
   "source": "举例3：存储对话历史记录\n",
   "id": "db56d7ecf456a592"
  },
  {
   "metadata": {},
   "cell_type": "code",
   "outputs": [],
   "execution_count": null,
   "source": "",
   "id": "c51d22de4cd8a90"
  }
 ],
 "metadata": {
  "kernelspec": {
   "display_name": "Python 3",
   "language": "python",
   "name": "python3"
  },
  "language_info": {
   "codemirror_mode": {
    "name": "ipython",
    "version": 2
   },
   "file_extension": ".py",
   "mimetype": "text/x-python",
   "name": "python",
   "nbconvert_exporter": "python",
   "pygments_lexer": "ipython2",
   "version": "2.7.6"
  }
 },
 "nbformat": 4,
 "nbformat_minor": 5
}
