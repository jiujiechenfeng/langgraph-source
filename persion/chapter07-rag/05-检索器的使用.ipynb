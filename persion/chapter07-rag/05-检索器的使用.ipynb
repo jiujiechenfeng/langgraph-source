{
 "cells": [
  {
   "metadata": {},
   "cell_type": "markdown",
   "source": "# 1、基础使用",
   "id": "934ef05b1d4be4e1"
  },
  {
   "cell_type": "code",
   "id": "initial_id",
   "metadata": {
    "collapsed": true,
    "ExecuteTime": {
     "end_time": "2025-10-27T06:27:38.630769Z",
     "start_time": "2025-10-27T06:27:35.241291Z"
    }
   },
   "source": [
    "# 1.导入相关依赖\n",
    "from langchain_community.document_loaders import TextLoader\n",
    "from langchain_community.vectorstores import FAISS\n",
    "from langchain_openai import OpenAIEmbeddings\n",
    "from langchain_text_splitters import CharacterTextSplitter\n",
    "import os\n",
    "import dotenv\n",
    "\n",
    "dotenv.load_dotenv()\n",
    "# 2.定义文档加载器\n",
    "loader = TextLoader(file_path='./09-ai.txt', encoding=\"utf-8\")\n",
    "# 3.加载文档\n",
    "documents = loader.load()\n",
    "# 4.定义文本切割器\n",
    "text_splitter = CharacterTextSplitter(chunk_size=1000, chunk_overlap=30)\n",
    "# 5.切割文档\n",
    "docs = text_splitter.split_documents(documents)\n",
    "# 6.定义嵌入模型\n",
    "embeddings = OpenAIEmbeddings(\n",
    "    model=\"text-embedding-3-large\"\n",
    ")\n",
    "# 7.将文档存储到向量数据库中\n",
    "db = FAISS.from_documents(docs, embeddings)\n",
    "# 8.从向量数据库中得到检索器\n",
    "retriever = db.as_retriever()\n",
    "# 9.使用检索器检索\n",
    "docs = retriever.invoke(\"深度学习是什么？\")\n",
    "print(len(docs))\n",
    "# 10.得到结果\n",
    "for doc in docs:\n",
    "    print(f\"⭐{doc}\")"
   ],
   "outputs": [
    {
     "name": "stdout",
     "output_type": "stream",
     "text": [
      "1\n",
      "⭐page_content='机器学习的历史、人工智能的核心技术、人工智能的应用领域、人工智能的挑战与机遇（纯文本描述）：\n",
      "机器学习的历史：\n",
      "机器学习起源于20世纪40年代末至50年代初，伴随着人工智能概念的提出而萌芽。1950年，艾伦·图灵发表《计算机器与智能》，提出“图灵测试”，奠定了智能机器的哲学基础。1957年，弗兰克·罗森布拉特发明感知机，成为最早的神经网络模型。20世纪60-70年代，由于计算能力和数据限制，AI进入“寒冬”。80年代，专家系统兴起，机器学习开始关注基于规则的推理。90年代，统计学习方法（如支持向量机）成为主流。进入21世纪，随着互联网普及、大数据爆发和计算硬件（尤其是GPU）进步，深度学习迅速崛起。2012年，AlexNet在ImageNet竞赛中大幅领先，标志着深度学习时代的开启。此后，以深度神经网络、大模型和强化学习为代表的技术推动机器学习进入高速发展期。\n",
      "人工智能的核心技术：\n",
      "人工智能的核心技术包括机器学习（尤其是深度学习）、自然语言处理、计算机视觉、强化学习、知识表示与推理、语音识别与合成、以及生成式人工智能。其中，机器学习是基础，使系统能从数据中自动学习规律；深度学习通过多层神经网络处理高维复杂数据；自然语言处理让机器理解与生成人类语言；计算机视觉赋予机器“看”的能力；强化学习用于序贯决策问题；知识图谱支持结构化知识的存储与推理；而大语言模型和扩散模型等生成式技术则推动了内容创作的智能化。\n",
      "人工智能的应用领域：\n",
      "人工智能已广泛应用于多个领域。在医疗健康领域，用于医学影像分析、疾病预测和药物研发；在金融行业，用于风险控制、智能投顾和反欺诈；在交通领域，支撑自动驾驶、智能调度和车路协同；在教育领域，实现个性化学习、智能批改和虚拟助教；在制造业，用于工业质检、预测性维护和柔性生产；在零售与电商，驱动智能推荐、客户画像和供应链优化；在媒体娱乐，支持AI写作、图像生成、语音合成和游戏智能；在公共治理，助力智慧城市、安防监控和应急响应。此外，AI还在农业、能源、环保、法律、科研等多个行业发挥重要作用。\n",
      "人工智能的挑战与机遇：\n",
      "挑战方面，人工智能面临数据偏见与隐私泄露风险、模型可解释性差（“黑箱”问题）、泛化能力不足、高能耗与碳排放、伦理与安全问题（如深度伪造、算法歧视）、以及对就业结构的冲击。同时，当前AI仍属于“窄域智能”，缺乏常识推理和跨领域迁移能力。\n",
      "机遇方面，AI正推动新一轮科技革命和产业变革。大模型与多模态技术的发展有望迈向更通用的智能；AI与科学结合（如AI for Science）加速科研突破；边缘智能和绿色AI促进可持续发展；人机协同模式提升生产力与创造力；全球对AI治理的重视也为构建可信、公平、安全的智能社会提供制度保障。未来，人工智能将在赋能千行百业的同时，推动人类社会向更高层次的智能化演进。' metadata={'source': './09-ai.txt'}\n"
     ]
    }
   ],
   "execution_count": 1
  },
  {
   "metadata": {
    "ExecuteTime": {
     "end_time": "2025-10-27T06:37:28.589259Z",
     "start_time": "2025-10-27T06:37:28.585339Z"
    }
   },
   "cell_type": "code",
   "source": "# 获取向量数据库",
   "id": "fc1d74f8e325960",
   "outputs": [],
   "execution_count": 4
  },
  {
   "metadata": {
    "ExecuteTime": {
     "end_time": "2025-10-27T06:30:28.530063Z",
     "start_time": "2025-10-27T06:30:26.338558Z"
    }
   },
   "cell_type": "code",
   "source": [
    " db = FAISS.from_documents(docs, embeddings)\n",
    "\n",
    "#基于向量数据库获取检索器\n",
    "\n",
    "retriever = db.as_retriever()\n",
    "\n",
    "# 进行数据的检索\n",
    "\n",
    "docs = retriever.invoke(input=\"深度学习是什么？\")\n",
    "for doc in docs:\n",
    "    print(f\"-----{doc}\")"
   ],
   "id": "5ea163f5af99960a",
   "outputs": [
    {
     "name": "stdout",
     "output_type": "stream",
     "text": [
      "-----page_content='机器学习的历史、人工智能的核心技术、人工智能的应用领域、人工智能的挑战与机遇（纯文本描述）：\n",
      "机器学习的历史：\n",
      "机器学习起源于20世纪40年代末至50年代初，伴随着人工智能概念的提出而萌芽。1950年，艾伦·图灵发表《计算机器与智能》，提出“图灵测试”，奠定了智能机器的哲学基础。1957年，弗兰克·罗森布拉特发明感知机，成为最早的神经网络模型。20世纪60-70年代，由于计算能力和数据限制，AI进入“寒冬”。80年代，专家系统兴起，机器学习开始关注基于规则的推理。90年代，统计学习方法（如支持向量机）成为主流。进入21世纪，随着互联网普及、大数据爆发和计算硬件（尤其是GPU）进步，深度学习迅速崛起。2012年，AlexNet在ImageNet竞赛中大幅领先，标志着深度学习时代的开启。此后，以深度神经网络、大模型和强化学习为代表的技术推动机器学习进入高速发展期。\n",
      "人工智能的核心技术：\n",
      "人工智能的核心技术包括机器学习（尤其是深度学习）、自然语言处理、计算机视觉、强化学习、知识表示与推理、语音识别与合成、以及生成式人工智能。其中，机器学习是基础，使系统能从数据中自动学习规律；深度学习通过多层神经网络处理高维复杂数据；自然语言处理让机器理解与生成人类语言；计算机视觉赋予机器“看”的能力；强化学习用于序贯决策问题；知识图谱支持结构化知识的存储与推理；而大语言模型和扩散模型等生成式技术则推动了内容创作的智能化。\n",
      "人工智能的应用领域：\n",
      "人工智能已广泛应用于多个领域。在医疗健康领域，用于医学影像分析、疾病预测和药物研发；在金融行业，用于风险控制、智能投顾和反欺诈；在交通领域，支撑自动驾驶、智能调度和车路协同；在教育领域，实现个性化学习、智能批改和虚拟助教；在制造业，用于工业质检、预测性维护和柔性生产；在零售与电商，驱动智能推荐、客户画像和供应链优化；在媒体娱乐，支持AI写作、图像生成、语音合成和游戏智能；在公共治理，助力智慧城市、安防监控和应急响应。此外，AI还在农业、能源、环保、法律、科研等多个行业发挥重要作用。\n",
      "人工智能的挑战与机遇：\n",
      "挑战方面，人工智能面临数据偏见与隐私泄露风险、模型可解释性差（“黑箱”问题）、泛化能力不足、高能耗与碳排放、伦理与安全问题（如深度伪造、算法歧视）、以及对就业结构的冲击。同时，当前AI仍属于“窄域智能”，缺乏常识推理和跨领域迁移能力。\n",
      "机遇方面，AI正推动新一轮科技革命和产业变革。大模型与多模态技术的发展有望迈向更通用的智能；AI与科学结合（如AI for Science）加速科研突破；边缘智能和绿色AI促进可持续发展；人机协同模式提升生产力与创造力；全球对AI治理的重视也为构建可信、公平、安全的智能社会提供制度保障。未来，人工智能将在赋能千行百业的同时，推动人类社会向更高层次的智能化演进。' metadata={'source': './09-ai.txt'}\n"
     ]
    }
   ],
   "execution_count": 3
  },
  {
   "metadata": {},
   "cell_type": "markdown",
   "source": "# 2、体会不同的检索策略",
   "id": "2e8c60def3a65d5"
  },
  {
   "metadata": {},
   "cell_type": "code",
   "outputs": [],
   "execution_count": null,
   "source": "",
   "id": "300cfb662b157023"
  }
 ],
 "metadata": {
  "kernelspec": {
   "display_name": "Python 3",
   "language": "python",
   "name": "python3"
  },
  "language_info": {
   "codemirror_mode": {
    "name": "ipython",
    "version": 2
   },
   "file_extension": ".py",
   "mimetype": "text/x-python",
   "name": "python",
   "nbconvert_exporter": "python",
   "pygments_lexer": "ipython2",
   "version": "2.7.6"
  }
 },
 "nbformat": 4,
 "nbformat_minor": 5
}
