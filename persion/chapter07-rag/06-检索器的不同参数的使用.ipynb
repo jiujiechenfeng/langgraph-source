{
 "cells": [
  {
   "cell_type": "code",
   "id": "initial_id",
   "metadata": {
    "collapsed": true,
    "ExecuteTime": {
     "end_time": "2025-10-27T06:38:54.470266Z",
     "start_time": "2025-10-27T06:38:51.677303Z"
    }
   },
   "source": [
    "# 1.导入相关依赖\n",
    "from langchain_community.vectorstores import FAISS\n",
    "from langchain_openai import OpenAIEmbeddings\n",
    "from langchain_core.documents import Document\n",
    "from dotenv import load_dotenv\n",
    "\n",
    "load_dotenv()\n",
    "# 2.定义文档\n",
    "document_1 = Document(\n",
    "    page_content=\"经济复苏：美国经济正在从疫情中强劲复苏，失业率降至历史低点。！\",\n",
    ")\n",
    "document_2 = Document(\n",
    "    page_content=\"基础设施：政府将投资1万亿美元用于修复道路、桥梁和宽带网络。\",\n",
    ")\n",
    "document_3 = Document(page_content=\"气候变化：承诺到2030年将温室气体排放量减少50%。\",\n",
    "                      )\n",
    "document_4 = Document(\n",
    "    page_content=\" 医疗保健：降低处方药价格，扩大医疗保险覆盖范围。\",\n",
    ")\n",
    "document_5 = Document(\n",
    "    page_content=\"教育：提供免费的社区大学教育。。\",\n",
    ")\n",
    "document_6 = Document(\n",
    "    page_content=\"科技：增加对半导体产业的投资以减少对外国供应链的依赖。。\",\n",
    ")\n",
    "document_7 = Document(\n",
    "    page_content=\"外交政策：继续支持乌克兰对抗俄罗斯的侵略。\",\n",
    ")\n",
    "document_8 = Document(\n",
    "    page_content=\"枪支管制：呼吁国会通过更严格的枪支管制法律。\",\n",
    ")\n",
    "document_9 = Document(\n",
    "    page_content=\"移民改革：提出全面的移民改革方案。\",\n",
    ")\n",
    "document_10 = Document(\n",
    "    page_content=\"社会正义：承诺解决系统性种族歧视问题。\",\n",
    ")\n",
    "documents = [\n",
    "    document_1,\n",
    "    document_2,\n",
    "    document_3,\n",
    "    document_4,\n",
    "    document_5,\n",
    "    document_6,\n",
    "    document_7,\n",
    "    document_8,\n",
    "    document_9,\n",
    "    document_10,\n",
    "]\n",
    "# 3.创建向量存储\n",
    "embeddings = OpenAIEmbeddings(\n",
    "    model=\"text-embedding-3-large\"\n",
    ")\n",
    "# 4.将文档向量化，添加到向量数据库索引中，得到向量数据库对象\n",
    "db = FAISS.from_documents(documents, embeddings)"
   ],
   "outputs": [],
   "execution_count": 1
  },
  {
   "metadata": {},
   "cell_type": "markdown",
   "source": "默认检索器使用相似性搜索",
   "id": "5a36deea93a8c79f"
  },
  {
   "metadata": {
    "ExecuteTime": {
     "end_time": "2025-10-27T06:43:56.699010Z",
     "start_time": "2025-10-27T06:43:55.372336Z"
    }
   },
   "cell_type": "code",
   "source": [
    "# 获取检索器\n",
    "retriever = db.as_retriever(\n",
    "    search_kwargs={\"k\": 3}\n",
    ")  #这里设置返回的文档数\n",
    "docs = retriever.invoke(\"经济政策\")\n",
    "for i, doc in enumerate(docs):\n",
    "    print(f\"\\n结果 {i + 1}:\\n{doc.page_content}\\n\")"
   ],
   "id": "c863106f59d95908",
   "outputs": [
    {
     "name": "stdout",
     "output_type": "stream",
     "text": [
      "\n",
      "结果 1:\n",
      "经济复苏：美国经济正在从疫情中强劲复苏，失业率降至历史低点。！\n",
      "\n",
      "\n",
      "结果 2:\n",
      "科技：增加对半导体产业的投资以减少对外国供应链的依赖。。\n",
      "\n",
      "\n",
      "结果 3:\n",
      "外交政策：继续支持乌克兰对抗俄罗斯的侵略。\n",
      "\n"
     ]
    }
   ],
   "execution_count": 6
  },
  {
   "metadata": {},
   "cell_type": "markdown",
   "source": "分数阈值查询",
   "id": "5b4bbd41bb60f74c"
  },
  {
   "metadata": {
    "ExecuteTime": {
     "end_time": "2025-10-27T06:42:23.256244Z",
     "start_time": "2025-10-27T06:42:21.752265Z"
    }
   },
   "cell_type": "code",
   "source": [
    "retriever = db.as_retriever(\n",
    "    search_type=\"similarity_score_threshold\",\n",
    "    search_kwargs={\"score_threshold\": 0.1}\n",
    ")\n",
    "docs = retriever.invoke(\"经济政策\")\n",
    "for doc in docs:\n",
    "    print(f\"📌 内容: {doc.page_content}\")"
   ],
   "id": "7c1ebf4f4aad3eb9",
   "outputs": [
    {
     "name": "stdout",
     "output_type": "stream",
     "text": [
      "📌 内容: 经济复苏：美国经济正在从疫情中强劲复苏，失业率降至历史低点。！\n"
     ]
    }
   ],
   "execution_count": 3
  },
  {
   "metadata": {},
   "cell_type": "markdown",
   "source": " MMR搜索",
   "id": "60d140a91c3c993e"
  },
  {
   "metadata": {
    "ExecuteTime": {
     "end_time": "2025-10-27T06:45:44.180456Z",
     "start_time": "2025-10-27T06:45:41.387561Z"
    }
   },
   "cell_type": "code",
   "source": [
    "retriever = db.as_retriever(\n",
    "    search_type=\"mmr\",\n",
    "    search_kwargs={\"fetch_k\": 2}\n",
    ")\n",
    "docs = retriever.invoke(\"经济政策\")\n",
    "print(len(docs))\n",
    "for doc in docs:\n",
    "    print(f\"📌 内容: {doc.page_content}\")"
   ],
   "id": "c96b1cf6d8cf7b10",
   "outputs": [
    {
     "name": "stdout",
     "output_type": "stream",
     "text": [
      "2\n",
      "📌 内容: 经济复苏：美国经济正在从疫情中强劲复苏，失业率降至历史低点。！\n",
      "📌 内容: 科技：增加对半导体产业的投资以减少对外国供应链的依赖。。\n"
     ]
    }
   ],
   "execution_count": 8
  },
  {
   "metadata": {},
   "cell_type": "markdown",
   "source": [
    "# 3、结合大模型的使用\n",
    "举例1：不实用RAG技术"
   ],
   "id": "7dcf222f27e104b1"
  },
  {
   "metadata": {
    "ExecuteTime": {
     "end_time": "2025-10-27T06:50:09.711800Z",
     "start_time": "2025-10-27T06:50:04.541525Z"
    }
   },
   "cell_type": "code",
   "source": [
    "from langchain_openai import ChatOpenAI\n",
    "import os\n",
    "import dotenv\n",
    "\n",
    "dotenv.load_dotenv()\n",
    "# 创建大模型实例\n",
    "llm = ChatOpenAI(model=\"gpt-4o-mini\")\n",
    "# 调用\n",
    "response = llm.invoke(\"北京有什么著名的建筑？\")\n",
    "print(response.content)"
   ],
   "id": "716ca9ab093960ed",
   "outputs": [
    {
     "name": "stdout",
     "output_type": "stream",
     "text": [
      "北京作为中国的首都，有许多著名的建筑，以下是一些代表性建筑：\n",
      "\n",
      "1. **故宫**：又称紫禁城，是明清两代的皇宫，拥有壮丽的古代建筑和丰富的历史文化。\n",
      "\n",
      "2. **天安门广场**：世界上最大的城市广场之一，周围有人民英雄纪念碑、毛主席纪念堂等重要建筑。\n",
      "\n",
      "3. **颐和园**：中国最大的皇家园林，以其精美的湖泊、山丘和古典建筑而闻名。\n",
      "\n",
      "4. **长城**：有多个段落在北京附近，如八达岭和慕田峪，是中国古代防御工程的象征。\n",
      "\n",
      "5. **天坛**：明清时期皇帝祭天的地方，以其独特的建筑风格和壮丽的园林著称。\n",
      "\n",
      "6. **鸟巢**：国家体育场，因其独特的设计而闻名，是2008年北京奥运会的主要场馆。\n",
      "\n",
      "7. **水立方**：国家游泳中心，以其独特的水泡形状和现代建筑风格而备受瞩目。\n",
      "\n",
      "8. **北京大学和清华大学**：这两所大学不仅学术声誉卓著，还拥有许多美丽的校园建筑。\n",
      "\n",
      "9. **中央电视台总部大楼**：以独特的“弯曲”形状而著称，是现代北京建筑的代表之一。\n",
      "\n",
      "10. **大钟寺**：以其巨大的铜钟和古老的建筑群而闻名，是北京的重要文化遗址。\n",
      "\n",
      "这些建筑代表了北京悠久的历史和丰富的文化，是游客和当地居民生活中不可或缺的一部分。\n"
     ]
    }
   ],
   "execution_count": 9
  },
  {
   "metadata": {},
   "cell_type": "markdown",
   "source": "举例2: 通过FAISS构建一个可搜索的向量索引数据库，并结合RAG技术让LLM去回答问题",
   "id": "31324f27bd969834"
  },
  {
   "metadata": {
    "ExecuteTime": {
     "end_time": "2025-10-27T07:08:11.247499Z",
     "start_time": "2025-10-27T07:08:03.854265Z"
    }
   },
   "cell_type": "code",
   "source": [
    "from langchain_text_splitters import CharacterTextSplitter\n",
    "from langchain_core.prompts import PromptTemplate\n",
    "from langchain_openai import ChatOpenAI, OpenAIEmbeddings\n",
    "from langchain_community.document_loaders import TextLoader\n",
    "from langchain_community.vectorstores import FAISS\n",
    "import os\n",
    "import dotenv\n",
    "\n",
    "dotenv.load_dotenv()\n",
    "# 2. 创建自定义提示词模板\n",
    "prompt_template = \"\"\"请使用以下提供的文本内容来回答问题。仅使用提供的文本信息，如果文本中\n",
    "没有相关信息，请回答\"抱歉，提供的文本中没有这个信息\"。\n",
    "文本内容：\n",
    "{context}\n",
    "问题：{question}\n",
    "回答：\n",
    "\"\n",
    "\"\"\"\n",
    "prompt = PromptTemplate.from_template(prompt_template)\n",
    "# 3. 初始化模型\n",
    "llm = ChatOpenAI(\n",
    "    model=\"gpt-4o-mini\",\n",
    "    temperature=0\n",
    ")\n",
    "embedding_model = OpenAIEmbeddings(model=\"text-embedding-3-large\")\n",
    "# 4. 加载文档\n",
    "loader = TextLoader(\"./10-ai.txt\", encoding='utf-8')\n",
    "documents = loader.load()\n",
    "# 5. 分割文档\n",
    "text_splitter = CharacterTextSplitter(\n",
    "    chunk_size=1000,\n",
    "    chunk_overlap=100,\n",
    ")\n",
    "texts = text_splitter.split_documents(documents)\n",
    "#print(f\"文档个数:{len(texts)}\")\n",
    "# 6. 创建向量存储\n",
    "vectorstore = FAISS.from_documents(\n",
    "    documents=texts,\n",
    "    embedding=embedding_model\n",
    ")\n",
    "# 7.获取检索器\n",
    "retriever = vectorstore.as_retriever()\n",
    "docs = retriever.invoke(\"北京有什么著名的建筑？\")\n",
    "# 8. 创建Runnable链\n",
    "chain = prompt | llm\n",
    "# 9. 提问\n",
    "result = chain.invoke(input={\"question\": \"北京有什么著名的建筑？\", \"context\": docs})\n",
    "print(\"\\n回答:\", result.content)"
   ],
   "id": "c4bc3f3223d4b18c",
   "outputs": [
    {
     "name": "stdout",
     "output_type": "stream",
     "text": [
      "\n",
      "回答: 北京的著名建筑包括：\n",
      "\n",
      "1. 故宫（紫禁城）：明清两代的皇家宫殿，是世界上现存规模最大、保存最完整的古代木结构建筑群，现为故宫博物院，收藏大量珍贵文物。\n",
      "2. 天坛：明清皇帝祭天祈谷的场所，以祈年殿为代表，建筑布局严谨，体现中国古代“天人合一”的哲学思想。\n",
      "3. 长城（八达岭、慕田峪段）：虽不位于市中心，但北京境内的长城段落最为著名，是世界文化遗产，象征中华民族的坚韧精神。\n",
      "4. 颐和园：中国现存最大的皇家园林，以昆明湖、万寿山为基础，融合江南园林风格与北方山水特色。\n",
      "5. 国家体育场（“鸟巢”）：2008年北京奥运会主会场，由钢结构编织而成，外形独特，现为大型体育赛事和文化活动举办地。\n",
      "6. 国家游泳中心（“水立方”）：奥运会游泳场馆，采用ETFE膜结构，夜晚灯光绚丽，后改造为“冰立方”用于冬奥会。\n",
      "7. 中央广播电视塔：位于海淀区，高405米，曾是北京最高建筑之一，可俯瞰城市全景。\n",
      "8. 中国尊（中信大厦）：位于北京CBD，高528米，是目前北京最高的摩天大楼，外形灵感源自中国古代礼器“尊”。\n"
     ]
    }
   ],
   "execution_count": 11
  }
 ],
 "metadata": {
  "kernelspec": {
   "display_name": "Python 3",
   "language": "python",
   "name": "python3"
  },
  "language_info": {
   "codemirror_mode": {
    "name": "ipython",
    "version": 2
   },
   "file_extension": ".py",
   "mimetype": "text/x-python",
   "name": "python",
   "nbconvert_exporter": "python",
   "pygments_lexer": "ipython2",
   "version": "2.7.6"
  }
 },
 "nbformat": 4,
 "nbformat_minor": 5
}
