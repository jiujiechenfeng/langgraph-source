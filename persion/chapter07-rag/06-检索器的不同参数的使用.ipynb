{
 "cells": [
  {
   "cell_type": "code",
   "id": "initial_id",
   "metadata": {
    "collapsed": true,
    "ExecuteTime": {
     "end_time": "2025-10-27T06:38:54.470266Z",
     "start_time": "2025-10-27T06:38:51.677303Z"
    }
   },
   "source": [
    "# 1.导入相关依赖\n",
    "from langchain_community.vectorstores import FAISS\n",
    "from langchain_openai import OpenAIEmbeddings\n",
    "from langchain_core.documents import Document\n",
    "from dotenv import load_dotenv\n",
    "\n",
    "load_dotenv()\n",
    "# 2.定义文档\n",
    "document_1 = Document(\n",
    "    page_content=\"经济复苏：美国经济正在从疫情中强劲复苏，失业率降至历史低点。！\",\n",
    ")\n",
    "document_2 = Document(\n",
    "    page_content=\"基础设施：政府将投资1万亿美元用于修复道路、桥梁和宽带网络。\",\n",
    ")\n",
    "document_3 = Document(page_content=\"气候变化：承诺到2030年将温室气体排放量减少50%。\",\n",
    "                      )\n",
    "document_4 = Document(\n",
    "    page_content=\" 医疗保健：降低处方药价格，扩大医疗保险覆盖范围。\",\n",
    ")\n",
    "document_5 = Document(\n",
    "    page_content=\"教育：提供免费的社区大学教育。。\",\n",
    ")\n",
    "document_6 = Document(\n",
    "    page_content=\"科技：增加对半导体产业的投资以减少对外国供应链的依赖。。\",\n",
    ")\n",
    "document_7 = Document(\n",
    "    page_content=\"外交政策：继续支持乌克兰对抗俄罗斯的侵略。\",\n",
    ")\n",
    "document_8 = Document(\n",
    "    page_content=\"枪支管制：呼吁国会通过更严格的枪支管制法律。\",\n",
    ")\n",
    "document_9 = Document(\n",
    "    page_content=\"移民改革：提出全面的移民改革方案。\",\n",
    ")\n",
    "document_10 = Document(\n",
    "    page_content=\"社会正义：承诺解决系统性种族歧视问题。\",\n",
    ")\n",
    "documents = [\n",
    "    document_1,\n",
    "    document_2,\n",
    "    document_3,\n",
    "    document_4,\n",
    "    document_5,\n",
    "    document_6,\n",
    "    document_7,\n",
    "    document_8,\n",
    "    document_9,\n",
    "    document_10,\n",
    "]\n",
    "# 3.创建向量存储\n",
    "embeddings = OpenAIEmbeddings(\n",
    "    model=\"text-embedding-3-large\"\n",
    ")\n",
    "# 4.将文档向量化，添加到向量数据库索引中，得到向量数据库对象\n",
    "db = FAISS.from_documents(documents, embeddings)"
   ],
   "outputs": [],
   "execution_count": 1
  },
  {
   "metadata": {},
   "cell_type": "markdown",
   "source": "默认检索器使用相似性搜索",
   "id": "5a36deea93a8c79f"
  },
  {
   "metadata": {
    "ExecuteTime": {
     "end_time": "2025-10-27T06:43:56.699010Z",
     "start_time": "2025-10-27T06:43:55.372336Z"
    }
   },
   "cell_type": "code",
   "source": [
    "# 获取检索器\n",
    "retriever = db.as_retriever(\n",
    "    search_kwargs={\"k\": 3}\n",
    ")  #这里设置返回的文档数\n",
    "docs = retriever.invoke(\"经济政策\")\n",
    "for i, doc in enumerate(docs):\n",
    "    print(f\"\\n结果 {i + 1}:\\n{doc.page_content}\\n\")"
   ],
   "id": "c863106f59d95908",
   "outputs": [
    {
     "name": "stdout",
     "output_type": "stream",
     "text": [
      "\n",
      "结果 1:\n",
      "经济复苏：美国经济正在从疫情中强劲复苏，失业率降至历史低点。！\n",
      "\n",
      "\n",
      "结果 2:\n",
      "科技：增加对半导体产业的投资以减少对外国供应链的依赖。。\n",
      "\n",
      "\n",
      "结果 3:\n",
      "外交政策：继续支持乌克兰对抗俄罗斯的侵略。\n",
      "\n"
     ]
    }
   ],
   "execution_count": 6
  },
  {
   "metadata": {},
   "cell_type": "markdown",
   "source": "分数阈值查询",
   "id": "5b4bbd41bb60f74c"
  },
  {
   "metadata": {
    "ExecuteTime": {
     "end_time": "2025-10-27T06:42:23.256244Z",
     "start_time": "2025-10-27T06:42:21.752265Z"
    }
   },
   "cell_type": "code",
   "source": [
    "retriever = db.as_retriever(\n",
    "    search_type=\"similarity_score_threshold\",\n",
    "    search_kwargs={\"score_threshold\": 0.1}\n",
    ")\n",
    "docs = retriever.invoke(\"经济政策\")\n",
    "for doc in docs:\n",
    "    print(f\"📌 内容: {doc.page_content}\")"
   ],
   "id": "7c1ebf4f4aad3eb9",
   "outputs": [
    {
     "name": "stdout",
     "output_type": "stream",
     "text": [
      "📌 内容: 经济复苏：美国经济正在从疫情中强劲复苏，失业率降至历史低点。！\n"
     ]
    }
   ],
   "execution_count": 3
  },
  {
   "metadata": {},
   "cell_type": "markdown",
   "source": " MMR搜索",
   "id": "60d140a91c3c993e"
  },
  {
   "metadata": {
    "ExecuteTime": {
     "end_time": "2025-10-27T06:45:44.180456Z",
     "start_time": "2025-10-27T06:45:41.387561Z"
    }
   },
   "cell_type": "code",
   "source": [
    "retriever = db.as_retriever(\n",
    "    search_type=\"mmr\",\n",
    "    search_kwargs={\"fetch_k\":2}\n",
    ")\n",
    "docs = retriever.invoke(\"经济政策\")\n",
    "print(len(docs))\n",
    "for doc in docs:\n",
    "    print(f\"📌 内容: {doc.page_content}\")"
   ],
   "id": "c96b1cf6d8cf7b10",
   "outputs": [
    {
     "name": "stdout",
     "output_type": "stream",
     "text": [
      "2\n",
      "📌 内容: 经济复苏：美国经济正在从疫情中强劲复苏，失业率降至历史低点。！\n",
      "📌 内容: 科技：增加对半导体产业的投资以减少对外国供应链的依赖。。\n"
     ]
    }
   ],
   "execution_count": 8
  }
 ],
 "metadata": {
  "kernelspec": {
   "display_name": "Python 3",
   "language": "python",
   "name": "python3"
  },
  "language_info": {
   "codemirror_mode": {
    "name": "ipython",
    "version": 2
   },
   "file_extension": ".py",
   "mimetype": "text/x-python",
   "name": "python",
   "nbconvert_exporter": "python",
   "pygments_lexer": "ipython2",
   "version": "2.7.6"
  }
 },
 "nbformat": 4,
 "nbformat_minor": 5
}
