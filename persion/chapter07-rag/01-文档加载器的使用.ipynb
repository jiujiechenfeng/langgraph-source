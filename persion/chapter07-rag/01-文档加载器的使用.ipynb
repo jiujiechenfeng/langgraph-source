{
 "cells": [
  {
   "metadata": {},
   "cell_type": "markdown",
   "source": [
    "1、不同的文档，使用不同的文档加载器\n",
    "\n",
    "txt文档：TextLoader\n",
    "\n",
    "pdf文档：PyPDFLoader\n",
    "\n",
    "csv文档：CSVLoader\n",
    "\n",
    "json文档：JSONLoader\n",
    "\n",
    "html文档：UnstructuredHtmlLoader\n",
    "\n",
    "md文档：UnStructuredMarkdownLoader\n",
    "\n",
    "文件目录：DirectoryLoader\n",
    "\n",
    "创建好Loader的实例以后，都需要调用load，在内容中返回一个list[Document]"
   ],
   "id": "bdaf086e98d2a99e"
  },
  {
   "metadata": {},
   "cell_type": "markdown",
   "source": "加载Txt文档\n",
   "id": "b2fd1293cc7b3b58"
  },
  {
   "metadata": {},
   "cell_type": "code",
   "source": [
    "from langchain_community.document_loaders import TextLoader, JSONLoader\n",
    "\n",
    "# 1.导入相关依赖\n",
    "# 2.定义TextLoader对象，file_path=\".txt的位置\"\n",
    "text_loader = TextLoader(file_path=\"langchain.txt\", encoding=\"utf-8\")\n",
    "# 3.加载\n",
    "docs = text_loader.load()  #返回List列表(Document对象)\n",
    "# 4.打印\n",
    "print(docs)\n"
   ],
   "id": "c9b7f806b26fc36b",
   "outputs": [],
   "execution_count": null
  },
  {
   "metadata": {},
   "cell_type": "markdown",
   "source": "加载json",
   "id": "1f1096cd2ba23c82"
  },
  {
   "metadata": {},
   "cell_type": "code",
   "source": [
    "from langchain_community.document_loaders.json_loader import JSONLoader\n",
    "\n",
    "json_loader = JSONLoader(\n",
    "    file_path=\"langchain.json\",\n",
    "    jq_schema=\".\",\n",
    "    text_content=False,\n",
    ")\n",
    "docs = json_loader.load()\n",
    "print(docs)\n"
   ],
   "id": "e6a7f3521880e915",
   "outputs": [],
   "execution_count": null
  },
  {
   "metadata": {},
   "cell_type": "markdown",
   "source": "举例2加载一部分的数据",
   "id": "aa5d73c3fcb28c94"
  },
  {
   "metadata": {},
   "cell_type": "code",
   "source": [
    "from langchain_community.document_loaders.json_loader import JSONLoader\n",
    "\n",
    "json_loader = JSONLoader(\n",
    "    file_path=\"langchain.json\",\n",
    "    jq_schema=\".customer.name\",\n",
    "    text_content=False,\n",
    ")\n",
    "docs = json_loader.load()\n",
    "print(docs)\n"
   ],
   "id": "254e862905b6eb84",
   "outputs": [],
   "execution_count": null
  },
  {
   "metadata": {},
   "cell_type": "code",
   "source": [
    "from langchain_community.document_loaders.json_loader import JSONLoader\n",
    "\n",
    "json_loader = JSONLoader(\n",
    "    file_path=\"langchain.json\",\n",
    "    jq_schema=\".items[]\",\n",
    "    content_key='.name+\"\\\\n\\\\n\"+.brand',\n",
    "    is_content_key_jq_parsable=True,\n",
    ")\n",
    "docs = json_loader.load()\n",
    "for doc in docs:\n",
    "    print(doc.page_content)\n"
   ],
   "id": "e80635a839275e35",
   "outputs": [],
   "execution_count": null
  }
 ],
 "metadata": {
  "kernelspec": {
   "display_name": "Python 3",
   "language": "python",
   "name": "python3"
  },
  "language_info": {
   "codemirror_mode": {
    "name": "ipython",
    "version": 2
   },
   "file_extension": ".py",
   "mimetype": "text/x-python",
   "name": "python",
   "nbconvert_exporter": "python",
   "pygments_lexer": "ipython2",
   "version": "2.7.6"
  }
 },
 "nbformat": 4,
 "nbformat_minor": 5
}
