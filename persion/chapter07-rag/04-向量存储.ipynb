{
 "cells": [
  {
   "metadata": {},
   "cell_type": "markdown",
   "source": "# 1、数据的存储",
   "id": "d8b53a67e925c454"
  },
  {
   "cell_type": "code",
   "id": "c6ce99e463497339",
   "metadata": {
    "ExecuteTime": {
     "end_time": "2025-10-27T05:58:55.642130Z",
     "start_time": "2025-10-27T05:58:55.620788Z"
    }
   },
   "source": [
    "from langchain_chroma import Chroma\n",
    "from langchain_community.document_loaders import TextLoader\n",
    "from langchain_openai import OpenAIEmbeddings\n",
    "from langchain_text_splitters import TextSplitter, CharacterTextSplitter\n",
    "from dotenv import load_dotenv\n",
    "\n",
    "load_dotenv()\n",
    "#步骤1:创建一个TextLoader的实例，并将制定的文档加载\n",
    "\n",
    "loader = TextLoader(\n",
    "    file_path=\"ai.txt\",\n",
    "    encoding='utf-8',\n",
    ")\n",
    "docs = loader.load()"
   ],
   "outputs": [],
   "execution_count": 2
  },
  {
   "metadata": {
    "ExecuteTime": {
     "end_time": "2025-10-27T05:58:57.230050Z",
     "start_time": "2025-10-27T05:58:57.225973Z"
    }
   },
   "cell_type": "code",
   "source": [
    "#步骤2 ：创建文档拆分起，并拆分文档\n",
    "text_splitter = CharacterTextSplitter(\n",
    "    chunk_size=1000,\n",
    "    chunk_overlap=100,\n",
    ")\n",
    "splitter_docs = text_splitter.split_documents(docs)"
   ],
   "id": "db348e55b9db6395",
   "outputs": [],
   "execution_count": 3
  },
  {
   "metadata": {
    "ExecuteTime": {
     "end_time": "2025-10-27T05:59:04.747443Z",
     "start_time": "2025-10-27T05:59:04.687041Z"
    }
   },
   "cell_type": "code",
   "source": [
    "\n",
    "#步骤3:使用嵌入模型\n",
    "embedding_model = OpenAIEmbeddings(model=\"text-embedding-ada-002\")"
   ],
   "id": "db9bd5772e91edbf",
   "outputs": [],
   "execution_count": 4
  },
  {
   "metadata": {
    "ExecuteTime": {
     "end_time": "2025-10-27T05:59:40.913631Z",
     "start_time": "2025-10-27T05:59:39.683421Z"
    }
   },
   "cell_type": "code",
   "source": [
    "\n",
    "#步骤4:将文档及嵌入模型传入到Chroma相关的结构中，进行数据的存储\n",
    "db = Chroma.from_documents(\n",
    "    documents=splitter_docs,\n",
    "    embedding=embedding_model,\n",
    ")"
   ],
   "id": "initial_id",
   "outputs": [],
   "execution_count": 6
  },
  {
   "metadata": {},
   "cell_type": "markdown",
   "source": [
    "1、当前的数据到底存在了哪里？\n",
    "\n",
    "如果使用from_documents()中没有显示的指定存储位置的话，则将大墙的数据存储到了内存中，并缓存起来，\n",
    "如果需要指明具体的存储位置，需要设置参数persist_directory"
   ],
   "id": "931011188af58fa5"
  },
  {
   "metadata": {
    "ExecuteTime": {
     "end_time": "2025-10-27T06:03:00.973024Z",
     "start_time": "2025-10-27T06:02:59.763775Z"
    }
   },
   "cell_type": "code",
   "source": [
    "\n",
    "#步骤4:将文档及嵌入模型传入到Chroma相关的结构中，进行数据的存储\n",
    "db = Chroma.from_documents(\n",
    "    documents=splitter_docs,\n",
    "    embedding=embedding_model,\n",
    "    persist_directory=\"./asset/chroma-1\"\n",
    ")\n"
   ],
   "id": "1de1cad354cf2517",
   "outputs": [],
   "execution_count": 7
  },
  {
   "metadata": {},
   "cell_type": "markdown",
   "source": "2、需要明确，在向量数据库中，不仅存储了数据（或文档）的响亮，而且还存储了数据（或文档）本身",
   "id": "808f2a2e79ae3e84"
  },
  {
   "metadata": {},
   "cell_type": "code",
   "outputs": [],
   "execution_count": null,
   "source": [
    "query = \"人工智能的核心技术有哪些？\"\n",
    "docs = db.similarity_search(query)\n",
    "print(docs[0].page_content)"
   ],
   "id": "b6b895ca2e66e84a"
  },
  {
   "metadata": {},
   "cell_type": "markdown",
   "source": "# 2、数据的检索",
   "id": "980aaa11ddba8773"
  },
  {
   "metadata": {
    "ExecuteTime": {
     "end_time": "2025-10-27T06:10:41.431622Z",
     "start_time": "2025-10-27T06:10:41.357833Z"
    }
   },
   "cell_type": "code",
   "source": [
    "# 1.导入相关依赖\n",
    "from langchain_chroma import Chroma\n",
    "from langchain_core.documents import Document\n",
    "from langchain_openai import OpenAIEmbeddings\n",
    "from dotenv import load_dotenv\n",
    "\n",
    "load_dotenv()\n",
    "# 2.定义文档\n",
    "raw_documents = [\n",
    "    Document(\n",
    "        page_content=\"葡萄是一种常见的水果，属于葡萄科葡萄属植物。它的果实呈圆形或椭圆形，颜色有绿色、紫色、红色等多种。葡萄富含维生素C和抗氧化物质，可以直接食用或酿造成葡萄酒。\",\n",
    "        metadata={\"source\": \"水果\", \"type\": \"植物\"}\n",
    "    ),\n",
    "    Document(\n",
    "        page_content=\"白菜是十字花科蔬菜，原产于中国北方。它的叶片层层包裹形成紧密的球状，口感清脆微甜。白菜富含膳食纤维和维生素K，常用于制作泡菜、炒菜或煮汤。\",\n",
    "        metadata={\"source\": \"蔬菜\", \"type\": \"植物\"}\n",
    "    ),\n",
    "    Document(\n",
    "        page_content=\"狗是人类最早驯化的动物之一，属于犬科。它们具有高度社会性，能理解人类情绪，常被用作宠物、导盲犬或警犬。不同品种的狗在体型、毛色和性格上有很大差异。\",\n",
    "        metadata={\"source\": \"动物\", \"type\": \"哺乳动物\"}\n",
    "    ),\n",
    "    Document(\n",
    "        page_content=\"猫是小型肉食性哺乳动物，性格独立但也能与人类建立亲密关系。它们夜视能力极强，擅长捕猎老鼠。家猫的品种包括波斯猫、暹罗猫等，毛色和花纹多样。\",\n",
    "        metadata={\"source\": \"动物\", \"type\": \"哺乳动物\"}\n",
    "    ),\n",
    "    Document(\n",
    "        page_content=\"人类是地球上最具智慧的生物，属于灵长目人科。现代人类（智人）拥有高度发达的大脑，创造了语言、工具和文明。人类的平均寿命约70-80年，分布在全球各地。\",\n",
    "        metadata={\"source\": \" 物\", \"type\": \"灵长类\"}\n",
    "    ),\n",
    "    Document(\n",
    "        page_content=\"太阳是太阳系的中心恒星，直径约139万公里，主要由氢和氦组成。它通过核聚变反应产生能量，为地球提供光和热。太阳活动周期约为11年，会影响地球气候。\",\n",
    "        metadata={\"source\": \"天文\", \"type\": \"恒星\"}\n",
    "    ),\n",
    "    Document(\n",
    "        page_content=\"长城是中国古代的军事防御工程，总长度超过2万公里。它始建于春秋战国时期，秦朝连接各段，明朝大规模重修。长城是世界文化遗产和人类建筑奇迹。\",\n",
    "        metadata={\"source\": \"历史\", \"type\": \"建筑\"}\n",
    "    ),\n",
    "    Document(\n",
    "        page_content=\"量子力学是研究微观粒子运动规律的物理学分支。它提出了波粒二象性、测不准原理等概念，彻底改变了人类对物质世界的认知。量子计算机正是基于这一理论发展而来。\",\n",
    "        metadata={\"source\": \"物理\", \"type\": \"科学\"}\n",
    "    ),\n",
    "    Document(\n",
    "        page_content=\"《红楼梦》是中国古典文学四大名著之一，作者曹雪芹。小说以贾、史、王、薛四大家族的兴衰为背景，描绘了贾宝玉与林黛玉的爱情悲剧，反映了封建社会的种种矛盾。\",\n",
    "        metadata={\"source\": \"文学\", \"type\": \"小说\"}\n",
    "    ),\n",
    "    Document(\n",
    "        page_content=\"新冠病毒（SARS-CoV-2）是一种可引起呼吸道疾病的冠状病毒。它通过飞沫传播，主要症状包括发热、咳嗽、乏力。疫苗和戴口罩是有效的预防措施。\",\n",
    "        metadata={\"source\": \"医学\", \"type\": \"病毒\"}\n",
    "    )\n",
    "]\n",
    "# 3. 创建嵌入模型\n",
    "embedding = OpenAIEmbeddings(model=\"text-embedding-ada-002\")"
   ],
   "id": "588fe8c187bd027f",
   "outputs": [],
   "execution_count": 9
  },
  {
   "metadata": {
    "ExecuteTime": {
     "end_time": "2025-10-27T06:11:14.749810Z",
     "start_time": "2025-10-27T06:11:13.250433Z"
    }
   },
   "cell_type": "code",
   "source": [
    "# 4.创建向量数据库\n",
    "db = Chroma.from_documents(\n",
    "    documents=raw_documents,\n",
    "    embedding=embedding,\n",
    "    persist_directory=\"./asset/chroma-3\",\n",
    ")"
   ],
   "id": "e6c7a6075be332e1",
   "outputs": [],
   "execution_count": 10
  },
  {
   "metadata": {},
   "cell_type": "markdown",
   "source": "## 相似性检索（similarity_search)",
   "id": "2a3fe6053eff4c34"
  },
  {
   "metadata": {
    "ExecuteTime": {
     "end_time": "2025-10-27T06:12:18.195599Z",
     "start_time": "2025-10-27T06:12:16.808798Z"
    }
   },
   "cell_type": "code",
   "source": [
    "query = \"哺乳动物\"\n",
    "docs = db.similarity_search(query, k=3)  # k=3表示返回3个最相关文档\n",
    "print(f\"查询: '{query}' 的结果:\")\n",
    "for i, doc in enumerate(docs, 1):\n",
    "    print(f\"\\n结果 {i}:\")\n",
    "    print(f\"内容: {doc.page_content}\")\n",
    "    print(f\"元数据: {doc.metadata}\")"
   ],
   "id": "5cdd2eb0cfa2dc3f",
   "outputs": [
    {
     "name": "stdout",
     "output_type": "stream",
     "text": [
      "查询: '哺乳动物' 的结果:\n",
      "\n",
      "结果 1:\n",
      "内容: 猫是小型肉食性哺乳动物，性格独立但也能与人类建立亲密关系。它们夜视能力极强，擅长捕猎老鼠。家猫的品种包括波斯猫、暹罗猫等，毛色和花纹多样。\n",
      "元数据: {'type': '哺乳动物', 'source': '动物'}\n",
      "\n",
      "结果 2:\n",
      "内容: 狗是人类最早驯化的动物之一，属于犬科。它们具有高度社会性，能理解人类情绪，常被用作宠物、导盲犬或警犬。不同品种的狗在体型、毛色和性格上有很大差异。\n",
      "元数据: {'source': '动物', 'type': '哺乳动物'}\n",
      "\n",
      "结果 3:\n",
      "内容: 人类是地球上最具智慧的生物，属于灵长目人科。现代人类（智人）拥有高度发达的大脑，创造了语言、工具和文明。人类的平均寿命约70-80年，分布在全球各地。\n",
      "元数据: {'source': ' 物', 'type': '灵长类'}\n"
     ]
    }
   ],
   "execution_count": 12
  },
  {
   "metadata": {},
   "cell_type": "markdown",
   "source": "## 支持直接对问题向量查询",
   "id": "17d7fb05a5ea7ca2"
  },
  {
   "metadata": {
    "ExecuteTime": {
     "end_time": "2025-10-27T06:13:37.437223Z",
     "start_time": "2025-10-27T06:13:36.049298Z"
    }
   },
   "cell_type": "code",
   "source": [
    "query = \"哺乳动物\"\n",
    "embedding_vector = embedding.embed_query(query)\n",
    "docs = db.similarity_search_by_vector(embedding_vector, k=3)\n",
    "print(f\"查询: '{query}' 的结果:\")\n",
    "for i, doc in enumerate(docs, 1):\n",
    "    print(f\"\\n结果 {i}:\")\n",
    "    print(f\"内容: {doc.page_content}\")\n",
    "    print(f\"元数据: {doc.metadata}\")"
   ],
   "id": "2738981eb5b47377",
   "outputs": [
    {
     "name": "stdout",
     "output_type": "stream",
     "text": [
      "查询: '哺乳动物' 的结果:\n",
      "\n",
      "结果 1:\n",
      "内容: 猫是小型肉食性哺乳动物，性格独立但也能与人类建立亲密关系。它们夜视能力极强，擅长捕猎老鼠。家猫的品种包括波斯猫、暹罗猫等，毛色和花纹多样。\n",
      "元数据: {'type': '哺乳动物', 'source': '动物'}\n",
      "\n",
      "结果 2:\n",
      "内容: 狗是人类最早驯化的动物之一，属于犬科。它们具有高度社会性，能理解人类情绪，常被用作宠物、导盲犬或警犬。不同品种的狗在体型、毛色和性格上有很大差异。\n",
      "元数据: {'type': '哺乳动物', 'source': '动物'}\n",
      "\n",
      "结果 3:\n",
      "内容: 人类是地球上最具智慧的生物，属于灵长目人科。现代人类（智人）拥有高度发达的大脑，创造了语言、工具和文明。人类的平均寿命约70-80年，分布在全球各地。\n",
      "元数据: {'source': ' 物', 'type': '灵长类'}\n"
     ]
    }
   ],
   "execution_count": 13
  },
  {
   "metadata": {},
   "cell_type": "markdown",
   "source": "相似性检索，支持过滤元数据（filter）",
   "id": "ef3bff8f9049b0d5"
  },
  {
   "metadata": {
    "ExecuteTime": {
     "end_time": "2025-10-27T06:14:45.546837Z",
     "start_time": "2025-10-27T06:14:44.351947Z"
    }
   },
   "cell_type": "code",
   "source": [
    "query = \"哺乳动物\"\n",
    "docs = db.similarity_search(\n",
    "    query,\n",
    "    k=3,\n",
    "    filter={\"source\": \"动物\"}\n",
    ")  # k=3表示返回3个最相关文档\n",
    "print(f\"查询: '{query}' 的结果:\")\n",
    "for i, doc in enumerate(docs, 1):\n",
    "    print(f\"\\n结果 {i}:\")\n",
    "    print(f\"内容: {doc.page_content}\")\n",
    "    print(f\"元数据: {doc.metadata}\")"
   ],
   "id": "c32f70d11906f8c9",
   "outputs": [
    {
     "name": "stdout",
     "output_type": "stream",
     "text": [
      "查询: '哺乳动物' 的结果:\n",
      "\n",
      "结果 1:\n",
      "内容: 猫是小型肉食性哺乳动物，性格独立但也能与人类建立亲密关系。它们夜视能力极强，擅长捕猎老鼠。家猫的品种包括波斯猫、暹罗猫等，毛色和花纹多样。\n",
      "元数据: {'type': '哺乳动物', 'source': '动物'}\n",
      "\n",
      "结果 2:\n",
      "内容: 狗是人类最早驯化的动物之一，属于犬科。它们具有高度社会性，能理解人类情绪，常被用作宠物、导盲犬或警犬。不同品种的狗在体型、毛色和性格上有很大差异。\n",
      "元数据: {'source': '动物', 'type': '哺乳动物'}\n"
     ]
    }
   ],
   "execution_count": 14
  },
  {
   "metadata": {},
   "cell_type": "markdown",
   "source": [
    "通过L2距离分数进行搜索（similarity_search_with_score）\n",
    "说明：分数值越小，检索到的文档越和问题相似。分值取值范围：[0，正无穷]"
   ],
   "id": "ef192bf9277d4f84"
  },
  {
   "metadata": {
    "ExecuteTime": {
     "end_time": "2025-10-27T06:16:09.147874Z",
     "start_time": "2025-10-27T06:16:07.772730Z"
    }
   },
   "cell_type": "code",
   "source": [
    "docs = db.similarity_search_with_score(\n",
    "    \"量子力学是什么?\"\n",
    ")\n",
    "for doc, score in docs:\n",
    "    print(f\" [L2距离得分={score:.3f}] {doc.page_content} [{doc.metadata}]\")"
   ],
   "id": "c31486986ebd979e",
   "outputs": [
    {
     "name": "stdout",
     "output_type": "stream",
     "text": [
      " [L2距离得分=0.182] 量子力学是研究微观粒子运动规律的物理学分支。它提出了波粒二象性、测不准原理等概念，彻底改变了人类对物质世界的认知。量子计算机正是基于这一理论发展而来。 [{'type': '科学', 'source': '物理'}]\n",
      " [L2距离得分=0.447] 太阳是太阳系的中心恒星，直径约139万公里，主要由氢和氦组成。它通过核聚变反应产生能量，为地球提供光和热。太阳活动周期约为11年，会影响地球气候。 [{'source': '天文', 'type': '恒星'}]\n",
      " [L2距离得分=0.463] 人类是地球上最具智慧的生物，属于灵长目人科。现代人类（智人）拥有高度发达的大脑，创造了语言、工具和文明。人类的平均寿命约70-80年，分布在全球各地。 [{'source': ' 物', 'type': '灵长类'}]\n",
      " [L2距离得分=0.488] 新冠病毒（SARS-CoV-2）是一种可引起呼吸道疾病的冠状病毒。它通过飞沫传播，主要症状包括发热、咳嗽、乏力。疫苗和戴口罩是有效的预防措施。 [{'type': '病毒', 'source': '医学'}]\n"
     ]
    }
   ],
   "execution_count": 15
  },
  {
   "metadata": {},
   "cell_type": "markdown",
   "source": "通过余弦相似度分数进行搜索（_similarity_search_with_relevance_scores）",
   "id": "8c8cf927374f695"
  },
  {
   "metadata": {
    "ExecuteTime": {
     "end_time": "2025-10-27T06:17:23.995546Z",
     "start_time": "2025-10-27T06:17:22.783873Z"
    }
   },
   "cell_type": "code",
   "source": [
    "docs = db._similarity_search_with_relevance_scores(\n",
    "    \"量子力学是什么?\"\n",
    ")\n",
    "for doc, score in docs:\n",
    "    print(f\"* [余弦相似度得分={score:.3f}] {doc.page_content} [{doc.metadata}]\")"
   ],
   "id": "3f75a6ea8ef2dd26",
   "outputs": [
    {
     "name": "stdout",
     "output_type": "stream",
     "text": [
      "* [余弦相似度得分=0.871] 量子力学是研究微观粒子运动规律的物理学分支。它提出了波粒二象性、测不准原理等概念，彻底改变了人类对物质世界的认知。量子计算机正是基于这一理论发展而来。 [{'type': '科学', 'source': '物理'}]\n",
      "* [余弦相似度得分=0.684] 太阳是太阳系的中心恒星，直径约139万公里，主要由氢和氦组成。它通过核聚变反应产生能量，为地球提供光和热。太阳活动周期约为11年，会影响地球气候。 [{'source': '天文', 'type': '恒星'}]\n",
      "* [余弦相似度得分=0.672] 人类是地球上最具智慧的生物，属于灵长目人科。现代人类（智人）拥有高度发达的大脑，创造了语言、工具和文明。人类的平均寿命约70-80年，分布在全球各地。 [{'source': ' 物', 'type': '灵长类'}]\n",
      "* [余弦相似度得分=0.655] 新冠病毒（SARS-CoV-2）是一种可引起呼吸道疾病的冠状病毒。它通过飞沫传播，主要症状包括发热、咳嗽、乏力。疫苗和戴口罩是有效的预防措施。 [{'type': '病毒', 'source': '医学'}]\n"
     ]
    }
   ],
   "execution_count": 16
  },
  {
   "metadata": {},
   "cell_type": "markdown",
   "source": [
    "MMR（最大边际相关性，max_marginal_relevance_search）\n",
    "MMR 是一种平衡 相关性 和 多样性 的检索策略，避免返回高度相似的冗余结果。\n",
    "参数说明： lambda_mult 参数值介于 0 到 1 之间，用于确定结果之间的多样性程度，其中 0 对应最大\n",
    "多样性，1 对应最小多样性。默认值为 0.5。"
   ],
   "id": "ff86419e251d2a4e"
  },
  {
   "metadata": {
    "ExecuteTime": {
     "end_time": "2025-10-27T06:18:43.669770Z",
     "start_time": "2025-10-27T06:18:42.303522Z"
    }
   },
   "cell_type": "code",
   "source": [
    "docs = db.max_marginal_relevance_search(\n",
    "    query=\"量子力学是什么\",\n",
    "    lambda_mult=0.8, # 侧重相似性\n",
    ")\n",
    "print(\"🔍 关于【量子力学是什么】的搜索结果：\")\n",
    "print(\"=\" * 50)\n",
    "for i, doc in enumerate(docs):\n",
    "    print(f\"\\n📖 结果 {i+1}:\")\n",
    "    print(f\"📌 内容: {doc.page_content}\")\n",
    "    print(f\"🏷 标签: {', '.join(f'{k}={v}' for k, v in doc.metadata.items())}\")"
   ],
   "id": "9c286b1ffdf8b62e",
   "outputs": [
    {
     "name": "stdout",
     "output_type": "stream",
     "text": [
      "🔍 关于【量子力学是什么】的搜索结果：\n",
      "==================================================\n",
      "\n",
      "📖 结果 1:\n",
      "📌 内容: 量子力学是研究微观粒子运动规律的物理学分支。它提出了波粒二象性、测不准原理等概念，彻底改变了人类对物质世界的认知。量子计算机正是基于这一理论发展而来。\n",
      "🏷 标签: type=科学, source=物理\n",
      "\n",
      "📖 结果 2:\n",
      "📌 内容: 太阳是太阳系的中心恒星，直径约139万公里，主要由氢和氦组成。它通过核聚变反应产生能量，为地球提供光和热。太阳活动周期约为11年，会影响地球气候。\n",
      "🏷 标签: source=天文, type=恒星\n",
      "\n",
      "📖 结果 3:\n",
      "📌 内容: 人类是地球上最具智慧的生物，属于灵长目人科。现代人类（智人）拥有高度发达的大脑，创造了语言、工具和文明。人类的平均寿命约70-80年，分布在全球各地。\n",
      "🏷 标签: type=灵长类, source= 物\n",
      "\n",
      "📖 结果 4:\n",
      "📌 内容: 新冠病毒（SARS-CoV-2）是一种可引起呼吸道疾病的冠状病毒。它通过飞沫传播，主要症状包括发热、咳嗽、乏力。疫苗和戴口罩是有效的预防措施。\n",
      "🏷 标签: type=病毒, source=医学\n"
     ]
    }
   ],
   "execution_count": 17
  }
 ],
 "metadata": {
  "kernelspec": {
   "display_name": "Python 3",
   "language": "python",
   "name": "python3"
  },
  "language_info": {
   "codemirror_mode": {
    "name": "ipython",
    "version": 2
   },
   "file_extension": ".py",
   "mimetype": "text/x-python",
   "name": "python",
   "nbconvert_exporter": "python",
   "pygments_lexer": "ipython2",
   "version": "2.7.6"
  }
 },
 "nbformat": 4,
 "nbformat_minor": 5
}
