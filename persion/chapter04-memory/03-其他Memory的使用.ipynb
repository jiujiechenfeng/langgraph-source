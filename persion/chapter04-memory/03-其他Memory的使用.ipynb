{
 "cells": [
  {
   "cell_type": "markdown",
   "id": "7e4567c9d509b390",
   "metadata": {},
   "source": [
    "# 1、ConversationTokenBufferMemory的使用\n",
    "举例1"
   ]
  },
  {
   "cell_type": "code",
   "id": "initial_id",
   "metadata": {
    "collapsed": true,
    "jupyter": {
     "outputs_hidden": true
    }
   },
   "source": [
    "from langchain_classic.memory import ConversationTokenBufferMemory, ConversationSummaryMemory\n",
    "from langchain_community.chat_models.tongyi import ChatTongyi\n",
    "from dotenv import load_dotenv\n",
    "\n",
    "load_dotenv()\n",
    "\n",
    "# 2.创建大模型\n",
    "llm = ChatTongyi()\n",
    "# 3.定义ConversationTokenBufferMemory对象\n",
    "memory = ConversationTokenBufferMemory(\n",
    "    llm=llm,\n",
    "    max_token_limit=10  # 设置token上限\n",
    ")\n",
    "# 添加对话\n",
    "memory.save_context({\"input\": \"你好吗？\"}, {\"output\": \"我很好，谢谢！\"})\n",
    "memory.save_context({\"input\": \"今天天气如何？\"}, {\"output\": \"晴天，25度\"})\n",
    "# 查看当前记忆\n",
    "print(memory.load_context({}))"
   ],
   "outputs": [],
   "execution_count": null
  },
  {
   "cell_type": "markdown",
   "id": "6c0d616566117012",
   "metadata": {},
   "source": [
    "# 2、ConversationSummaryMemory的使用"
   ]
  },
  {
   "cell_type": "code",
   "id": "b6b53e508aeeb772",
   "metadata": {},
   "source": [
    "from langchain_classic.memory.summary import ConversationSummaryMemory\n",
    "\n",
    "memory = ConversationSummaryMemory(\n",
    "    llm=llm,\n",
    ")\n",
    "memory.save_context({\"input\": \"你好\"}, {\"output\": \"怎么了\"})\n",
    "memory.save_context({\"input\": \"你是谁\"}, {\"output\": \"我是AI助手小智\"})\n",
    "memory.save_context({\"input\": \"初次对话，你能介绍一下你自己吗？\"}, {\"output\": \"当然可以了。我是一个无所不能的小智。\"})\n",
    "# 5.读取消息（总结后的）\n",
    "print(memory.load_memory_variables({}))"
   ],
   "outputs": [],
   "execution_count": null
  },
  {
   "cell_type": "markdown",
   "id": "9edd22d743517837",
   "metadata": {},
   "source": [
    "如果实例化ConversationSummaryMemory前，已经有历史消息，可以调用from_messages()实例化"
   ]
  },
  {
   "cell_type": "code",
   "id": "4ed4686ed74df8f4",
   "metadata": {},
   "source": [
    "from langchain_core.chat_history import InMemoryChatMessageHistory\n",
    "from langchain_classic.memory.summary import ConversationSummaryMemory\n",
    "from langchain_community.chat_models.tongyi import ChatTongyi\n",
    "from dotenv import load_dotenv\n",
    "\n",
    "load_dotenv()\n",
    "\n",
    "llm = ChatTongyi()\n",
    "# 3.假设原始消息\n",
    "history = InMemoryChatMessageHistory()\n",
    "history.add_user_message(\"你好，你是谁？\")\n",
    "history.add_ai_message(\"我是AI助手小智\")\n",
    "# 4.创建ConversationSummaryMemory\n",
    "\n",
    "memory = ConversationSummaryMemory.from_messages(\n",
    "    llm=llm,\n",
    "    chat_memory=history,\n",
    ")\n",
    "print(memory.load_memory_variables({}))"
   ],
   "outputs": [],
   "execution_count": null
  },
  {
   "metadata": {},
   "cell_type": "code",
   "source": [
    "memory.save_context(inputs={\"human\": \"我的名字叫小明\"}, outputs={\"ai\": \"很高兴认识你\"})\n",
    "\n",
    "print(memory.load_memory_variables({}))"
   ],
   "id": "2a1f471d38a62935",
   "outputs": [],
   "execution_count": null
  },
  {
   "metadata": {},
   "cell_type": "markdown",
   "source": "ConversationSummaryBufferMemory的使用",
   "id": "9aefa7878af5b434"
  },
  {
   "metadata": {},
   "cell_type": "code",
   "source": [
    "from langchain_classic.chains.llm import LLMChain\n",
    "from langchain_classic.memory.prompt import ENTITY_MEMORY_CONVERSATION_TEMPLATE\n",
    "from langchain_classic.memory import ConversationEntityMemory\n",
    "from langchain_community.chat_models.tongyi import ChatTongyi\n",
    "\n",
    "# 初始化大语言模型\n",
    "llm = ChatTongyi()\n",
    "# 使用LangChain为实体记忆设计的预定义模板\n",
    "prompt = ENTITY_MEMORY_CONVERSATION_TEMPLATE\n",
    "# 初始化实体记忆\n",
    "memory = ConversationEntityMemory(llm=llm)\n",
    "# 提供对话链\n",
    "chain = LLMChain(\n",
    "    llm=llm,\n",
    "    prompt=ENTITY_MEMORY_CONVERSATION_TEMPLATE,\n",
    "    memory=ConversationEntityMemory(llm=llm),\n",
    "    verbose=True,  # 设置为True可以看到链的详细推理过程\n",
    ")\n",
    "# 进行几轮对话，记忆组件会在后台自动提取和存储实体信息\n",
    "chain.invoke(input=\"你好，我叫蜘蛛侠。我的好朋友包括钢铁侠、美国队长和绿巨人。\")\n",
    "chain.invoke(input=\"我住在纽约。\")\n",
    "chain.invoke(input=\"我使用的装备是由斯塔克工业提供的。\")\n",
    "# 查询记忆体中存储的实体信息\n",
    "print(\"\\n当前存储的实体信息:\")\n",
    "print(chain.memory.entity_store.store)\n",
    "# 基于记忆进行提问"
   ],
   "id": "b42fe4f585277b99",
   "outputs": [],
   "execution_count": null
  },
  {
   "metadata": {},
   "cell_type": "code",
   "source": [
    "answer = chain.invoke(input=\"你能告诉我蜘蛛侠住在哪里以及他的好朋友有哪些吗？\")\n",
    "print(\"\\nAI的回答:\")\n",
    "print(answer)\n"
   ],
   "id": "5ad08fae1daee16",
   "outputs": [],
   "execution_count": null
  },
  {
   "metadata": {},
   "cell_type": "markdown",
   "source": "ConversationKGMemory的使用",
   "id": "face641a6b15d5f1"
  },
  {
   "metadata": {},
   "cell_type": "code",
   "source": [
    "from langchain_community.memory.kg import ConversationKGMemory\n",
    "from langchain_community.chat_models.tongyi import ChatTongyi\n",
    "from dotenv import load_dotenv\n",
    "\n",
    "load_dotenv()\n",
    "\n",
    "llm = ChatTongyi()\n",
    "# 3.定义ConversationKGMemory对象\n",
    "memory = ConversationKGMemory(llm=llm)\n",
    "# 4.保存会话\n",
    "memory.save_context({\"input\": \"向山姆问好\"}, {\"output\": \"山姆是谁\"})\n",
    "memory.save_context({\"input\": \"山姆是我的朋友\"}, {\"output\": \"好的\"})\n",
    "# 5.查询会话\n",
    "memory.load_memory_variables({\"input\": \"山姆是谁\"})"
   ],
   "id": "97eea4e3c1000790",
   "outputs": [],
   "execution_count": null
  },
  {
   "metadata": {},
   "cell_type": "code",
   "source": [
    "memory.get_knowledge_triplets(\"山姆最喜欢的颜色是红色\")\n",
    "# print(memory)"
   ],
   "id": "7424565d66afcd2e",
   "outputs": [],
   "execution_count": null
  }
 ],
 "metadata": {
  "kernelspec": {
   "display_name": "Python 3 (ipykernel)",
   "language": "python",
   "name": "python3"
  },
  "language_info": {
   "codemirror_mode": {
    "name": "ipython",
    "version": 3
   },
   "file_extension": ".py",
   "mimetype": "text/x-python",
   "name": "python",
   "nbconvert_exporter": "python",
   "pygments_lexer": "ipython3",
   "version": "3.12.11"
  }
 },
 "nbformat": 4,
 "nbformat_minor": 5
}
