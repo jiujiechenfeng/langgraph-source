{
 "cells": [
  {
   "cell_type": "markdown",
   "id": "7e4567c9d509b390",
   "metadata": {},
   "source": [
    "# 1、ConversationTokenBufferMemory的使用\n",
    "举例1"
   ]
  },
  {
   "cell_type": "code",
   "id": "initial_id",
   "metadata": {
    "collapsed": true,
    "jupyter": {
     "outputs_hidden": true
    }
   },
   "source": [
    "from langchain_classic.memory import ConversationTokenBufferMemory, ConversationSummaryMemory\n",
    "from langchain_community.chat_models.tongyi import ChatTongyi\n",
    "from dotenv import load_dotenv\n",
    "\n",
    "load_dotenv()\n",
    "\n",
    "# 2.创建大模型\n",
    "llm = ChatTongyi()\n",
    "# 3.定义ConversationTokenBufferMemory对象\n",
    "memory = ConversationTokenBufferMemory(\n",
    "    llm=llm,\n",
    "    max_token_limit=10  # 设置token上限\n",
    ")\n",
    "# 添加对话\n",
    "memory.save_context({\"input\": \"你好吗？\"}, {\"output\": \"我很好，谢谢！\"})\n",
    "memory.save_context({\"input\": \"今天天气如何？\"}, {\"output\": \"晴天，25度\"})\n",
    "# 查看当前记忆\n",
    "print(memory.load_context({}))"
   ],
   "outputs": [],
   "execution_count": null
  },
  {
   "cell_type": "markdown",
   "id": "6c0d616566117012",
   "metadata": {},
   "source": [
    "# 2、ConversationSummaryMemory的使用"
   ]
  },
  {
   "cell_type": "code",
   "id": "b6b53e508aeeb772",
   "metadata": {},
   "source": [
    "from langchain_classic.memory.summary import ConversationSummaryMemory\n",
    "\n",
    "memory = ConversationSummaryMemory(\n",
    "    llm=llm,\n",
    ")\n",
    "memory.save_context({\"input\": \"你好\"}, {\"output\": \"怎么了\"})\n",
    "memory.save_context({\"input\": \"你是谁\"}, {\"output\": \"我是AI助手小智\"})\n",
    "memory.save_context({\"input\": \"初次对话，你能介绍一下你自己吗？\"}, {\"output\": \"当然可以了。我是一个无所不能的小智。\"})\n",
    "# 5.读取消息（总结后的）\n",
    "print(memory.load_memory_variables({}))"
   ],
   "outputs": [],
   "execution_count": null
  },
  {
   "cell_type": "markdown",
   "id": "9edd22d743517837",
   "metadata": {},
   "source": [
    "如果实例化ConversationSummaryMemory前，已经有历史消息，可以调用from_messages()实例化"
   ]
  },
  {
   "cell_type": "code",
   "id": "4ed4686ed74df8f4",
   "metadata": {},
   "source": [
    "from langchain_core.chat_history import InMemoryChatMessageHistory\n",
    "from langchain_classic.memory.summary import ConversationSummaryMemory\n",
    "from langchain_community.chat_models.tongyi import ChatTongyi\n",
    "from dotenv import load_dotenv\n",
    "\n",
    "load_dotenv()\n",
    "\n",
    "llm = ChatTongyi()\n",
    "# 3.假设原始消息\n",
    "history = InMemoryChatMessageHistory()\n",
    "history.add_user_message(\"你好，你是谁？\")\n",
    "history.add_ai_message(\"我是AI助手小智\")\n",
    "# 4.创建ConversationSummaryMemory\n",
    "\n",
    "memory = ConversationSummaryMemory.from_messages(\n",
    "    llm=llm,\n",
    "    chat_memory=history,\n",
    ")\n",
    "print(memory.load_memory_variables({}))"
   ],
   "outputs": [],
   "execution_count": null
  }
 ],
 "metadata": {
  "kernelspec": {
   "display_name": "Python 3 (ipykernel)",
   "language": "python",
   "name": "python3"
  },
  "language_info": {
   "codemirror_mode": {
    "name": "ipython",
    "version": 3
   },
   "file_extension": ".py",
   "mimetype": "text/x-python",
   "name": "python",
   "nbconvert_exporter": "python",
   "pygments_lexer": "ipython3",
   "version": "3.12.11"
  }
 },
 "nbformat": 4,
 "nbformat_minor": 5
}
