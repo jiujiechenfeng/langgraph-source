{
 "cells": [
  {
   "metadata": {},
   "cell_type": "markdown",
   "source": [
    "# 1、使用@tool装饰器定义工具\n",
    "举例1\n"
   ],
   "id": "517f9e8d68235bcc"
  },
  {
   "cell_type": "code",
   "id": "initial_id",
   "metadata": {
    "collapsed": true
   },
   "source": [
    "from langchain_core.tools import tool\n",
    "\n",
    "\n",
    "@tool\n",
    "def add_number(a: int, b: int) -> int:\n",
    "    \"\"\"\n",
    "    计算两个整数的和\n",
    "    \"\"\"\n",
    "    return a + b\n",
    "\n",
    "\n",
    "print(f\"name={add_number.name}\")\n",
    "print(f\"description={add_number.description}\")\n",
    "print(f\"args={add_number.args}\")\n",
    "print(f\"return_direct={add_number.return_direct}\")"
   ],
   "outputs": [],
   "execution_count": null
  },
  {
   "metadata": {},
   "cell_type": "markdown",
   "source": "举例2",
   "id": "3bef14d7c83650a8"
  },
  {
   "metadata": {},
   "cell_type": "code",
   "source": [
    "from langchain_core.tools import tool\n",
    "\n",
    "\n",
    "@tool(name_or_callable=\"add_two_number\", description=\"add two numbers\")\n",
    "def add_number(a: int, b: int) -> int:\n",
    "    \"\"\"\n",
    "    计算两个整数的和\n",
    "    \"\"\"\n",
    "    return a + b\n",
    "\n",
    "\n",
    "print(f\"name={add_number.name}\")\n",
    "print(f\"description={add_number.description}\")\n",
    "print(f\"args={add_number.args}\")\n",
    "print(f\"return_direct={add_number.return_direct}\")"
   ],
   "id": "29f8d4ddbfedf706",
   "outputs": [],
   "execution_count": null
  },
  {
   "metadata": {},
   "cell_type": "code",
   "source": "add_number.invoke({\"a\": \"1\", \"b\": \"2\"})",
   "id": "c0e784e54b288c21",
   "outputs": [],
   "execution_count": null
  },
  {
   "metadata": {},
   "cell_type": "markdown",
   "source": "举例3：修改args参数的描述",
   "id": "64744ded7869a8b9"
  },
  {
   "metadata": {},
   "cell_type": "code",
   "source": [
    "from pydantic import Field, BaseModel\n",
    "from langchain_core.tools import tool\n",
    "\n",
    "\n",
    "class FieldInfo(BaseModel):\n",
    "    a: int = Field(description=\"第1个整型参数\")\n",
    "    b: int = Field(description=\"第2个整型参数\")\n",
    "\n",
    "\n",
    "@tool(name_or_callable=\"add_two_number\", description=\"add two numbers\", args_schema=FieldInfo)\n",
    "def add_number(a: int, b: int) -> int:\n",
    "    \"\"\"\n",
    "    计算两个整数的和\n",
    "    \"\"\"\n",
    "    return a + b\n",
    "\n",
    "\n",
    "print(f\"name={add_number.name}\")\n",
    "print(f\"description={add_number.description}\")\n",
    "print(f\"args={add_number.args}\")\n",
    "print(f\"return_direct={add_number.return_direct}\")"
   ],
   "id": "a24eb724f7df6545",
   "outputs": [],
   "execution_count": null
  },
  {
   "metadata": {},
   "cell_type": "markdown",
   "source": [
    "# 2、StructuredTool的from_function()\n",
    "举例1："
   ],
   "id": "e0f23049b7f4e81e"
  },
  {
   "metadata": {},
   "cell_type": "code",
   "source": [
    "from langchain_core.tools import StructuredTool\n",
    "\n",
    "\n",
    "# 声明一个函数\n",
    "def search_google(query: str):\n",
    "    return \"最后查询的结果\"\n",
    "\n",
    "\n",
    "search01 = StructuredTool.from_function(\n",
    "    func=search_google,\n",
    "    name=\"Search\",\n",
    "    description=\"查询google搜索引擎，并将结果返回\"\n",
    ")\n",
    "\n",
    "print(f\"name={search01.name}\")\n",
    "print(f\"args={search01.args}\")\n",
    "print(f\"description={search01.description}\")\n",
    "print(f\"return_direct={search01.return_direct}\")"
   ],
   "id": "1b9c5e0ad63aec74",
   "outputs": [],
   "execution_count": null
  },
  {
   "metadata": {},
   "cell_type": "code",
   "source": "search01.invoke({\"query\": \"测试\"})",
   "id": "a25b0da504580814",
   "outputs": [],
   "execution_count": null
  },
  {
   "metadata": {},
   "cell_type": "markdown",
   "source": "举例2",
   "id": "6edf7e0518bfab8d"
  },
  {
   "metadata": {},
   "cell_type": "code",
   "source": [
    "from langchain_core.tools import StructuredTool\n",
    "\n",
    "\n",
    "# 声明一个函数\n",
    "def search_google(query: str):\n",
    "    return \"最后查询的结果\"\n",
    "\n",
    "\n",
    "class FieldInfo(BaseModel):\n",
    "    query: str = Field(description=\"要检索的关键词\")\n",
    "\n",
    "\n",
    "search02 = StructuredTool.from_function(\n",
    "    func=search_google,\n",
    "    name=\"Search\",\n",
    "    description=\"查询google搜索引擎，并将结果返回\",\n",
    "    return_direct=True,\n",
    "    args_schema=FieldInfo,\n",
    ")\n",
    "\n",
    "print(f\"name={search02.name}\")\n",
    "print(f\"args={search02.args}\")\n",
    "print(f\"description={search02.description}\")\n",
    "print(f\"return_direct={search02.return_direct}\")"
   ],
   "id": "2825b47681aa30af",
   "outputs": [],
   "execution_count": null
  }
 ],
 "metadata": {
  "kernelspec": {
   "display_name": "Python 3",
   "language": "python",
   "name": "python3"
  },
  "language_info": {
   "codemirror_mode": {
    "name": "ipython",
    "version": 2
   },
   "file_extension": ".py",
   "mimetype": "text/x-python",
   "name": "python",
   "nbconvert_exporter": "python",
   "pygments_lexer": "ipython2",
   "version": "2.7.6"
  }
 },
 "nbformat": 4,
 "nbformat_minor": 5
}
