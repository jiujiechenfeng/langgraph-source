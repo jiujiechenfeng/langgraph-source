{
 "cells": [
  {
   "metadata": {},
   "cell_type": "code",
   "source": [
    "#1、获取大模型\n",
    "from langchain_community.chat_models.tongyi import ChatTongyi\n",
    "from dotenv import load_dotenv\n",
    "from langchain_community.tools import MoveFileTool\n",
    "from langchain_core.messages import HumanMessage\n",
    "from langchain_core.utils.function_calling import convert_to_openai_function\n",
    "\n",
    "load_dotenv()\n",
    "llm = ChatTongyi(model=\"qwen-max\")\n",
    "#2、获取工具的列表\n",
    "tools = [MoveFileTool()]\n",
    "\n",
    "#注意：大模型invoke调用时，需要传入函数的列表，所以需要将工具转换为函数:convert_to_openai_function()\n",
    "tools_to_functions = [convert_to_openai_function(t) for t in tools]\n",
    "#3、获取消息列表\n",
    "messages = [HumanMessage(content=\"将文件a移动到桌面\")]\n",
    "\n",
    "#4、调用大模型（传入消息列表、工具的列表）\n",
    "res = llm.invoke(\n",
    "    input=messages,\n",
    "    functions=tools_to_functions,\n",
    ")\n",
    "print(res)"
   ],
   "id": "8ca4fba27543fed8",
   "outputs": [],
   "execution_count": null
  },
  {
   "metadata": {},
   "cell_type": "code",
   "source": [
    "from langchain_core.messages import HumanMessage\n",
    "#1、获取大模型\n",
    "from dotenv import load_dotenv\n",
    "from langchain_community.tools import MoveFileTool\n",
    "from langchain_core.utils.function_calling import convert_to_openai_function\n",
    "from langchain_openai.chat_models import ChatOpenAI\n",
    "\n",
    "load_dotenv()\n",
    "openai = ChatOpenAI(model=\"gpt-4o-mini\")\n",
    "#2、获取工具的列表\n",
    "tools = [MoveFileTool()]\n",
    "\n",
    "#注意：大模型invoke调用时，需要传入函数的列表，所以需要将工具转换为函数:convert_to_openai_function()\n",
    "tools_to_functions = [convert_to_openai_function(t) for t in tools]\n",
    "#3、获取消息列表\n",
    "messages = [HumanMessage(content=\"将文件a移动到桌面\")]\n",
    "#4、调用大模型（传入消息列表、工具的列表）\n",
    "res = openai.invoke(\n",
    "    input=messages,\n",
    "    functions=tools_to_functions,\n",
    ")\n",
    "print(res)\n"
   ],
   "id": "f822d7854ea2af19",
   "outputs": [],
   "execution_count": null
  }
 ],
 "metadata": {
  "kernelspec": {
   "display_name": "Python 3",
   "language": "python",
   "name": "python3"
  },
  "language_info": {
   "codemirror_mode": {
    "name": "ipython",
    "version": 2
   },
   "file_extension": ".py",
   "mimetype": "text/x-python",
   "name": "python",
   "nbconvert_exporter": "python",
   "pygments_lexer": "ipython2",
   "version": "2.7.6"
  }
 },
 "nbformat": 4,
 "nbformat_minor": 5
}
