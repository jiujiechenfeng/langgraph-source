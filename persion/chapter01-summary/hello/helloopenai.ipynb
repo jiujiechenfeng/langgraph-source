{
 "cells": [
  {
   "metadata": {
    "ExecuteTime": {
     "end_time": "2025-10-17T03:18:51.202412Z",
     "start_time": "2025-10-17T03:18:50.632408Z"
    }
   },
   "cell_type": "code",
   "source": [
    "from langchain_openai import ChatOpenAI\n",
    "from langchain_core.messages import HumanMessage, SystemMessage,AIMessageChunk\n",
    "from dotenv import load_dotenv\n",
    "import os"
   ],
   "id": "923cf5d9d22b3e7c",
   "outputs": [],
   "execution_count": 1
  },
  {
   "metadata": {
    "ExecuteTime": {
     "end_time": "2025-10-17T03:18:52.546402Z",
     "start_time": "2025-10-17T03:18:52.541843Z"
    }
   },
   "cell_type": "code",
   "source": [
    "load_dotenv()\n",
    "DASHSCOPE_API_KEY = os.getenv('DASHSCOPE_API_KEY')\n",
    "baseUrl=os.getenv('baseUrl')"
   ],
   "id": "33d8892b424d1d9d",
   "outputs": [],
   "execution_count": 2
  },
  {
   "metadata": {
    "ExecuteTime": {
     "end_time": "2025-10-17T03:18:54.238423Z",
     "start_time": "2025-10-17T03:18:53.908498Z"
    }
   },
   "cell_type": "code",
   "source": "llm = ChatOpenAI(model=\"qwen-max\",base_url=baseUrl)",
   "id": "929c489018e33f5c",
   "outputs": [],
   "execution_count": 3
  },
  {
   "metadata": {
    "ExecuteTime": {
     "end_time": "2025-10-17T03:18:55.201302Z",
     "start_time": "2025-10-17T03:18:55.198747Z"
    }
   },
   "cell_type": "code",
   "source": [
    "# 创建用户消息\n",
    "message = [\n",
    "    SystemMessage(content='你是一个友好的助手'),\n",
    "    HumanMessage(content=\"给我介绍一下深度学习\")\n",
    "]"
   ],
   "id": "1ad1f4031bde17ca",
   "outputs": [],
   "execution_count": 4
  },
  {
   "metadata": {
    "ExecuteTime": {
     "end_time": "2025-10-17T03:19:15.361475Z",
     "start_time": "2025-10-17T03:18:56.891539Z"
    }
   },
   "cell_type": "code",
   "source": [
    "for chunk in llm.stream(message):\n",
    "    if isinstance(chunk, AIMessageChunk):\n",
    "        print(chunk.content, end=\"\", flush=True)\n",
    "print()"
   ],
   "id": "f9eb0aae8b8928e2",
   "outputs": [
    {
     "name": "stdout",
     "output_type": "stream",
     "text": [
      "深度学习是机器学习的一个子领域，它模仿人脑的工作方式来处理数据并创建可以用于决策的模式。它是人工智能（AI）的一部分，专注于构建和训练神经网络模型，这些模型能够从大量数据中学习，并做出准确的预测或决策。\n",
      "\n",
      "### 深度学习的特点\n",
      "\n",
      "1. **多层结构**：与传统的浅层学习方法不同，深度学习使用多层的神经网络结构，这使得模型可以从原始输入数据中自动提取复杂的特征。\n",
      "2. **自动特征学习**：在很多情况下，深度学习不需要人工设计特征，而是通过训练过程自动发现对于任务有用的特征表示。\n",
      "3. **大规模数据集**：为了达到良好的性能，深度学习通常需要大量的标记数据来进行训练。\n",
      "4. **计算密集型**：训练深度学习模型往往需要强大的计算资源，比如GPU或TPU等硬件加速器。\n",
      "\n",
      "### 应用领域\n",
      "\n",
      "- **计算机视觉**：图像识别、物体检测、人脸识别等。\n",
      "- **自然语言处理**：文本生成、情感分析、机器翻译等。\n",
      "- **语音识别**：将人类说话的声音转换成文字。\n",
      "- **推荐系统**：基于用户行为提供个性化的产品或内容推荐。\n",
      "- **游戏与机器人**：通过强化学习让AI学会玩游戏或控制物理世界的设备。\n",
      "\n",
      "### 常见的深度学习框架\n",
      "\n",
      "- TensorFlow\n",
      "- PyTorch\n",
      "- Keras\n",
      "- Caffe\n",
      "- MXNet\n",
      "\n",
      "这些框架提供了丰富的工具和库，帮助开发者更容易地构建、训练以及部署深度学习模型。\n",
      "\n",
      "总之，深度学习是一种强大的技术，它正在改变我们解决复杂问题的方式，并且在许多行业中都有广泛的应用。随着算法的进步和技术的发展，未来深度学习将会带来更多的创新和可能性。\n"
     ]
    }
   ],
   "execution_count": 5
  },
  {
   "metadata": {},
   "cell_type": "markdown",
   "source": "## 使用提示词模版",
   "id": "4423779ade27d4cd"
  },
  {
   "metadata": {
    "ExecuteTime": {
     "end_time": "2025-10-16T06:17:03.045908Z",
     "start_time": "2025-10-16T06:17:03.032026Z"
    }
   },
   "cell_type": "code",
   "source": "from langchain_core.prompts import ChatPromptTemplate",
   "id": "8f76a0eff0160ef3",
   "outputs": [],
   "execution_count": 7
  },
  {
   "metadata": {
    "ExecuteTime": {
     "end_time": "2025-10-16T06:17:04.406048Z",
     "start_time": "2025-10-16T06:17:04.402659Z"
    }
   },
   "cell_type": "code",
   "source": [
    "prompt=ChatPromptTemplate.from_messages([\n",
    "    (\"system\",\"你是世界级的技术文档编写者\"),\n",
    "    (\"user\",\"{input}\")\n",
    "])"
   ],
   "id": "8d75602af32c3405",
   "outputs": [],
   "execution_count": 8
  },
  {
   "metadata": {
    "ExecuteTime": {
     "end_time": "2025-10-16T06:17:24.624712Z",
     "start_time": "2025-10-16T06:17:05.775996Z"
    }
   },
   "cell_type": "code",
   "source": [
    "chat=prompt | llm\n",
    "message = chat.invoke({\"input\":\"大模型中的LangChain是什么？\"})\n",
    "print(message)"
   ],
   "id": "606d5877b71f8565",
   "outputs": [
    {
     "name": "stdout",
     "output_type": "stream",
     "text": [
      "content='LangChain 是一个用于开发和部署基于语言模型的应用程序的开源框架。它旨在简化利用大型语言模型（如GPT-3, GPT-4等）构建应用的过程，通过提供一系列工具、库以及最佳实践来帮助开发者更高效地集成自然语言处理功能到他们的项目中。\\n\\n### 主要特点\\n\\n1. **模块化设计**：LangChain 提供了多个组件，比如数据加载器、文本分割器、嵌入式向量存储等，这些组件可以灵活组合以满足不同的应用场景需求。\\n2. **支持多种语言模型**：除了OpenAI的GPT系列外，LangChain还支持其他流行的语言模型API接口，增加了灵活性。\\n3. **易于扩展**：用户可以根据需要自定义或扩展现有组件的功能，以更好地适应特定业务场景。\\n4. **强大的社区支持**：作为一个活跃发展的开源项目，LangChain拥有一个不断增长的贡献者群体，他们持续为框架添加新特性并优化性能。\\n\\n### 应用场景\\n\\n- **聊天机器人**：快速创建能够与用户进行自然对话的服务。\\n- **文档问答系统**：基于提供的文档资料，自动回答相关问题。\\n- **内容生成**：辅助写作文章、报告等长篇内容。\\n- **代码助手**：为程序员提供代码建议或者直接生成代码片段。\\n- **数据分析**：从非结构化文本中提取有用信息进行分析。\\n\\n### 使用方法简介\\n\\n使用LangChain通常涉及以下几个步骤：\\n\\n1. 安装必要的库；\\n2. 选择合适的语言模型；\\n3. 配置数据源及预处理流程；\\n4. 设计应用程序逻辑；\\n5. 测试并部署应用。\\n\\n对于初学者来说，官方文档提供了详细的入门指南和示例代码，可以帮助快速上手。同时，随着项目的不断发展，越来越多的教程资源也在网络上出现，为学习者提供更多参考。\\n\\n总之，LangChain是一个非常实用且强大的工具集，对于希望利用最新NLP技术解决实际问题的开发者而言，绝对值得一试。' additional_kwargs={'refusal': None} response_metadata={'token_usage': {'completion_tokens': 425, 'prompt_tokens': 26, 'total_tokens': 451, 'completion_tokens_details': None, 'prompt_tokens_details': {'audio_tokens': None, 'cached_tokens': 0}}, 'model_name': 'qwen-max', 'system_fingerprint': None, 'id': 'chatcmpl-11a75578-ce07-499c-a870-e7469bbb4b1e', 'service_tier': None, 'finish_reason': 'stop', 'logprobs': None} id='run--1cfcd4c9-ab4d-4751-b500-f2472535a2d9-0' usage_metadata={'input_tokens': 26, 'output_tokens': 425, 'total_tokens': 451, 'input_token_details': {'cache_read': 0}, 'output_token_details': {}}\n"
     ]
    }
   ],
   "execution_count": 9
  },
  {
   "metadata": {},
   "cell_type": "markdown",
   "source": "## 使用输出解释器",
   "id": "f7e478369381bc49"
  },
  {
   "metadata": {},
   "cell_type": "code",
   "outputs": [],
   "execution_count": null,
   "source": [
    "from langchain_community.chat_models.tongyi import ChatTongyi\n",
    "from langchain_core.prompts import ChatPromptTemplate\n",
    "from langchain_core.output_parsers import StrOutputParser,JsonOutputParser"
   ],
   "id": "6c0967d66073708c"
  },
  {
   "metadata": {},
   "cell_type": "code",
   "outputs": [],
   "execution_count": null,
   "source": [
    "# 初始化模型\n",
    "llm = ChatTongyi(model=\"qwen-max\")\n",
    "# 创建提示模板\n",
    "prompt = ChatPromptTemplate.from_messages([\n",
    "    (\"system\", \"你是世界级的技术文档编写者。\"),\n",
    "    (\"user\", \"{input}\")\n",
    "])"
   ],
   "id": "9a813a0d2e13fb45"
  },
  {
   "metadata": {},
   "cell_type": "code",
   "outputs": [],
   "execution_count": null,
   "source": [
    "# 使用输出解析器\n",
    "# output_parser = StrOutputParser()\n",
    "output_parser = JsonOutputParser()\n",
    "# 将其添加到上一个链中\n",
    "# chain = prompt | llm\n",
    "chain = prompt | llm | output_parser\n",
    "# 调用它并提出同样的问题。答案是一个字符串，而不是ChatMessage\n",
    "# chain.invoke({\"input\": \"LangChain是什么?\"})\n",
    "chain.invoke({\"input\": \"LangChain是什么? 用JSON格式回复，问题用question，回答用answer\"})"
   ],
   "id": "d8d6ee0ad01df62d"
  },
  {
   "metadata": {},
   "cell_type": "code",
   "outputs": [],
   "execution_count": null,
   "source": "",
   "id": "c3c34f12e72359fe"
  },
  {
   "metadata": {},
   "cell_type": "markdown",
   "source": "### 使用向量存储",
   "id": "b33f6d69398bf343"
  },
  {
   "metadata": {},
   "cell_type": "code",
   "outputs": [],
   "execution_count": null,
   "source": [
    "from langchain_community.document_loaders import WebBaseLoader\n",
    "import bs4"
   ],
   "id": "ef4c5d5ed9568f38"
  },
  {
   "metadata": {},
   "cell_type": "code",
   "outputs": [],
   "execution_count": null,
   "source": [
    "loader = WebBaseLoader(\n",
    "    web_path=\"https://www.gov.cn/zhengce/zhengceku/202504/content_7021191.htm\",\n",
    "    bs_kwargs=dict(parse_only=bs4.SoupStrainer(id=\"UCAP-CONTENT\"))\n",
    ")\n",
    "docs = loader.load()"
   ],
   "id": "20d94efa8c5a02a"
  },
  {
   "metadata": {},
   "cell_type": "code",
   "outputs": [],
   "execution_count": null,
   "source": "from langchain_community.embeddings import DashScopeEmbeddings",
   "id": "a031a4e2d5ae786b"
  },
  {
   "metadata": {},
   "cell_type": "code",
   "outputs": [],
   "execution_count": null,
   "source": "embeddings=DashScopeEmbeddings(model=\"text-embedding-v1\")",
   "id": "1b6f184f959e453e"
  },
  {
   "metadata": {},
   "cell_type": "code",
   "outputs": [],
   "execution_count": null,
   "source": [
    "from langchain_community.vectorstores import FAISS\n",
    "from langchain_text_splitters import RecursiveCharacterTextSplitter\n",
    "# 使用分割器分割文档\n",
    "text_splitter = RecursiveCharacterTextSplitter(chunk_size=500, chunk_overlap=50)\n",
    "documents = text_splitter.split_documents(docs)\n",
    "print(len(documents))\n",
    "# 向量存储 embeddings 会将 documents 中的每个文本片段转换为向量，并将这些向量存储在 FAISS向量数据库中\n",
    "vector = FAISS.from_documents(documents, embeddings)"
   ],
   "id": "b9cec1e27f55089e"
  }
 ],
 "metadata": {
  "kernelspec": {
   "display_name": "Python 3",
   "language": "python",
   "name": "python3"
  },
  "language_info": {
   "codemirror_mode": {
    "name": "ipython",
    "version": 2
   },
   "file_extension": ".py",
   "mimetype": "text/x-python",
   "name": "python",
   "nbconvert_exporter": "python",
   "pygments_lexer": "ipython2",
   "version": "2.7.6"
  }
 },
 "nbformat": 4,
 "nbformat_minor": 5
}
