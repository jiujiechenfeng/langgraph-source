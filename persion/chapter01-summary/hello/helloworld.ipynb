{
 "cells": [
  {
   "cell_type": "code",
   "id": "5fa654cb",
   "metadata": {
    "ExecuteTime": {
     "end_time": "2025-10-16T06:17:52.106066Z",
     "start_time": "2025-10-16T06:17:52.098393Z"
    }
   },
   "source": [
    "from langchain_community.chat_models.tongyi import ChatTongyi\n",
    "from langchain_core.messages import HumanMessage, SystemMessage,AIMessageChunk\n",
    "from langchain.prompts import ChatPromptTemplate\n",
    "from dotenv import load_dotenv\n",
    "import os"
   ],
   "outputs": [],
   "execution_count": 81
  },
  {
   "cell_type": "code",
   "id": "d6686b94",
   "metadata": {
    "ExecuteTime": {
     "end_time": "2025-10-16T06:17:52.140623Z",
     "start_time": "2025-10-16T06:17:52.120163Z"
    }
   },
   "source": [
    "load_dotenv()\n",
    "DASHSCOPE_API_KEY = os.getenv('DASHSCOPE_API_KEY')"
   ],
   "outputs": [],
   "execution_count": 82
  },
  {
   "cell_type": "code",
   "id": "bd5f6658",
   "metadata": {
    "ExecuteTime": {
     "end_time": "2025-10-16T06:17:52.268391Z",
     "start_time": "2025-10-16T06:17:52.254515Z"
    }
   },
   "source": "llm = ChatTongyi(model=\"qwen-max\")",
   "outputs": [],
   "execution_count": 83
  },
  {
   "cell_type": "code",
   "id": "137567f065b3f1e2",
   "metadata": {
    "ExecuteTime": {
     "end_time": "2025-10-16T06:17:52.352239Z",
     "start_time": "2025-10-16T06:17:52.343258Z"
    }
   },
   "source": [
    "# 创建用户消息\n",
    "message = [\n",
    "    SystemMessage(content='你是一个友好的助手'),\n",
    "    HumanMessage(content=\"给我介绍一下深度学习\")\n",
    "]"
   ],
   "outputs": [],
   "execution_count": 84
  },
  {
   "cell_type": "code",
   "id": "5921e382",
   "metadata": {
    "ExecuteTime": {
     "end_time": "2025-10-16T06:18:10.567722Z",
     "start_time": "2025-10-16T06:17:52.386168Z"
    }
   },
   "source": [
    "for chunk in llm.stream(message):\n",
    "    if isinstance(chunk, AIMessageChunk):\n",
    "        print(chunk.content, end=\"\", flush=True)\n",
    "print()"
   ],
   "outputs": [
    {
     "name": "stdout",
     "output_type": "stream",
     "text": [
      "深度学习是一种机器学习的方法，它通过模拟人脑神经网络的工作方式来实现对数据的学习和理解。深度学习模型通常由多层神经网络组成，每一层都包含大量的神经元，这些神经元之间通过权重连接，并且能够处理输入数据的不同特征。\n",
      "\n",
      "### 深度学习的主要特点包括：\n",
      "\n",
      "- **多层次结构**：与传统的浅层学习算法相比，深度学习模型拥有更多的层次，这使得它们能够从原始数据中自动提取出更高级别的抽象特征。\n",
      "- **端到端的学习能力**：深度学习可以直接从原始数据（如图像、声音或文本）出发进行训练，而不需要手动设计特征抽取器。\n",
      "- **强大的表达力**：由于其复杂的结构，深度学习模型能够捕捉到数据中的复杂模式，从而在许多任务上取得了超越传统方法的表现。\n",
      "\n",
      "### 应用领域\n",
      "\n",
      "深度学习已经在多个领域展现出了巨大的潜力，包括但不限于：\n",
      "\n",
      "- **计算机视觉**：图像分类、物体检测、人脸识别等。\n",
      "- **自然语言处理**：情感分析、机器翻译、语音识别等。\n",
      "- **医疗健康**：疾病诊断、基因组学研究等。\n",
      "- **自动驾驶**：环境感知、决策制定等。\n",
      "- **推荐系统**：个性化内容推荐、广告投放优化等。\n",
      "\n",
      "### 常见的深度学习框架\n",
      "\n",
      "为了方便开发者构建和训练深度学习模型，目前有许多流行的开源框架可供选择，例如TensorFlow、PyTorch、Keras等。这些工具提供了丰富的API以及预训练模型库，极大地简化了开发流程。\n",
      "\n",
      "总之，随着计算资源的不断增长以及大量高质量标注数据集的出现，深度学习已经成为人工智能领域中最活跃的研究方向之一，并且正在不断地推动着各行各业的技术进步。\n"
     ]
    }
   ],
   "execution_count": 85
  },
  {
   "metadata": {},
   "cell_type": "markdown",
   "source": "## 使用提示词模版",
   "id": "1f0da19f1580eadb"
  },
  {
   "metadata": {
    "ExecuteTime": {
     "end_time": "2025-10-16T06:18:10.587594Z",
     "start_time": "2025-10-16T06:18:10.585217Z"
    }
   },
   "cell_type": "code",
   "source": "from langchain_core.prompts import ChatPromptTemplate",
   "id": "cc87ee9999e4c854",
   "outputs": [],
   "execution_count": 86
  },
  {
   "metadata": {
    "ExecuteTime": {
     "end_time": "2025-10-16T06:18:10.613893Z",
     "start_time": "2025-10-16T06:18:10.608911Z"
    }
   },
   "cell_type": "code",
   "source": [
    "prompt=ChatPromptTemplate.from_messages([\n",
    "    (\"system\",\"你是世界级的技术文档编写者\"),\n",
    "    (\"user\",\"{input}\")\n",
    "])"
   ],
   "id": "113c783fb08e6695",
   "outputs": [],
   "execution_count": 87
  },
  {
   "metadata": {
    "ExecuteTime": {
     "end_time": "2025-10-16T06:18:31.079888Z",
     "start_time": "2025-10-16T06:18:10.658749Z"
    }
   },
   "cell_type": "code",
   "source": [
    "chat=prompt | llm\n",
    "message = chat.invoke({\"input\":\"大模型中的LangChain是什么？\"})\n",
    "print(message)"
   ],
   "id": "60906cf134d4611a",
   "outputs": [
    {
     "name": "stdout",
     "output_type": "stream",
     "text": [
      "content='LangChain 是一个用于开发和部署基于语言模型的应用程序的开源框架。它由 Harrison Chase 创建，并在2023年获得了广泛关注。LangChain 的主要目标是简化使用大型语言模型（LLMs）构建应用程序的过程，提供了一种更高效、灵活的方式来集成这些强大的AI工具到各种软件项目中。\\n\\n### 主要特点\\n\\n- **模块化设计**：LangChain 提供了多种组件，包括数据加载器、文本分割器、嵌入式向量存储等，使得开发者可以根据需要选择合适的部件来组装自己的应用。\\n- **支持多种模型**：除了支持OpenAI的GPT系列外，还兼容其他流行的语言模型如Anthropic的Claude、Google的PaLM等。\\n- **易于扩展**：用户可以轻松添加自定义逻辑或第三方服务，以增强现有功能或创建全新功能。\\n- **安全性考量**：内置了一些安全措施帮助开发者更好地管理API密钥等敏感信息。\\n\\n### 应用场景\\n\\n- **聊天机器人**：利用预训练的语言模型快速搭建能够进行自然对话的服务。\\n- **文档理解与问答系统**：通过结合特定领域的文档资料，为用户提供精准的信息检索及问题解答。\\n- **代码生成与辅助编程**：帮助程序员编写代码片段、审查代码质量甚至自动化完成某些编程任务。\\n- **内容创作**：生成文章、故事或其他形式的文字内容。\\n\\n总之，LangChain 为想要利用先进的人工智能技术解决问题的企业和个人提供了强大而便捷的解决方案。随着其社区不断壮大以及更多贡献者的加入，我们可以期待看到更多创新性的应用场景出现。' additional_kwargs={} response_metadata={'model_name': 'qwen-max', 'finish_reason': 'stop', 'request_id': '52bce8e4-a9d7-4ab4-8a0f-b883ccdc90e9', 'token_usage': {'input_tokens': 26, 'output_tokens': 335, 'prompt_tokens_details': {'cached_tokens': 0}, 'total_tokens': 361}} id='run--844237d3-8c30-41b4-bce7-370b05562929-0'\n"
     ]
    }
   ],
   "execution_count": 88
  },
  {
   "metadata": {},
   "cell_type": "markdown",
   "source": "## 使用输出解释器",
   "id": "742c5d6d556ab8f7"
  },
  {
   "metadata": {
    "ExecuteTime": {
     "end_time": "2025-10-16T06:18:31.093799Z",
     "start_time": "2025-10-16T06:18:31.089916Z"
    }
   },
   "cell_type": "code",
   "source": [
    "from langchain_community.chat_models.tongyi import ChatTongyi\n",
    "from langchain_core.prompts import ChatPromptTemplate\n",
    "from langchain_core.output_parsers import StrOutputParser,JsonOutputParser"
   ],
   "id": "8f89eb8ec505970",
   "outputs": [],
   "execution_count": 89
  },
  {
   "metadata": {
    "ExecuteTime": {
     "end_time": "2025-10-16T06:18:31.132014Z",
     "start_time": "2025-10-16T06:18:31.128372Z"
    }
   },
   "cell_type": "code",
   "source": [
    "# 初始化模型\n",
    "llm = ChatTongyi(model=\"qwen-max\")\n",
    "# 创建提示模板\n",
    "prompt = ChatPromptTemplate.from_messages([\n",
    "    (\"system\", \"你是世界级的技术文档编写者。\"),\n",
    "    (\"user\", \"{input}\")\n",
    "])"
   ],
   "id": "a3a3b3a2fc1d9b5f",
   "outputs": [],
   "execution_count": 90
  },
  {
   "metadata": {
    "ExecuteTime": {
     "end_time": "2025-10-16T06:18:37.125072Z",
     "start_time": "2025-10-16T06:18:31.161131Z"
    }
   },
   "cell_type": "code",
   "source": [
    "# 使用输出解析器\n",
    "# output_parser = StrOutputParser()\n",
    "output_parser = JsonOutputParser()\n",
    "# 将其添加到上一个链中\n",
    "# chain = prompt | llm\n",
    "chain = prompt | llm | output_parser\n",
    "# 调用它并提出同样的问题。答案是一个字符串，而不是ChatMessage\n",
    "# chain.invoke({\"input\": \"LangChain是什么?\"})\n",
    "chain.invoke({\"input\": \"LangChain是什么? 用JSON格式回复，问题用question，回答用answer\"})"
   ],
   "id": "3d4bd306d44cf9d7",
   "outputs": [
    {
     "data": {
      "text/plain": [
       "{'question': 'LangChain是什么?',\n",
       " 'answer': 'LangChain是一个旨在简化语言模型（如GPT系列）与不同应用程序集成过程的开源框架。它提供了一系列工具和接口，使得开发者能够更容易地利用强大的语言模型来构建复杂的应用程序，包括但不限于聊天机器人、文本生成器等。通过LangChain，用户可以更加专注于应用逻辑的设计而非底层实现细节，从而加速开发流程并提高效率。'}"
      ]
     },
     "execution_count": 91,
     "metadata": {},
     "output_type": "execute_result"
    }
   ],
   "execution_count": 91
  },
  {
   "metadata": {
    "ExecuteTime": {
     "end_time": "2025-10-16T06:18:37.137107Z",
     "start_time": "2025-10-16T06:18:37.135660Z"
    }
   },
   "cell_type": "code",
   "source": "",
   "id": "46610b5f13da0252",
   "outputs": [],
   "execution_count": null
  },
  {
   "metadata": {},
   "cell_type": "markdown",
   "source": "### 使用向量存储",
   "id": "9ca3127ab69abd16"
  },
  {
   "metadata": {
    "ExecuteTime": {
     "end_time": "2025-10-16T06:18:37.187691Z",
     "start_time": "2025-10-16T06:18:37.185441Z"
    }
   },
   "cell_type": "code",
   "source": [
    "from langchain_community.document_loaders import WebBaseLoader\n",
    "import bs4"
   ],
   "id": "1a6c8d07da1df5d1",
   "outputs": [],
   "execution_count": 92
  },
  {
   "metadata": {
    "ExecuteTime": {
     "end_time": "2025-10-16T07:24:44.766703Z",
     "start_time": "2025-10-16T07:24:43.357571Z"
    }
   },
   "cell_type": "code",
   "source": [
    "loader = WebBaseLoader(\n",
    "    web_path=\"https://github.langchain.ac.cn/langgraph/concepts/multi_agent/\",\n",
    "    bs_kwargs=dict(parse_only=bs4.SoupStrainer(id=\"UCAP-CONTENT\"))\n",
    ")\n",
    "docs = loader.load()"
   ],
   "id": "fb6177a5da16ccad",
   "outputs": [],
   "execution_count": 104
  },
  {
   "metadata": {
    "ExecuteTime": {
     "end_time": "2025-10-16T06:18:37.719251Z",
     "start_time": "2025-10-16T06:18:37.706925Z"
    }
   },
   "cell_type": "code",
   "source": "from langchain_community.embeddings import DashScopeEmbeddings",
   "id": "cbc3f3089b243894",
   "outputs": [],
   "execution_count": 94
  },
  {
   "metadata": {
    "ExecuteTime": {
     "end_time": "2025-10-16T06:18:37.742051Z",
     "start_time": "2025-10-16T06:18:37.735299Z"
    }
   },
   "cell_type": "code",
   "source": "embeddings=DashScopeEmbeddings(model=\"text-embedding-v1\")",
   "id": "ffd689b433a047d5",
   "outputs": [],
   "execution_count": 95
  },
  {
   "metadata": {
    "ExecuteTime": {
     "end_time": "2025-10-16T06:24:39.976160Z",
     "start_time": "2025-10-16T06:24:39.714062Z"
    }
   },
   "cell_type": "code",
   "source": [
    "from langchain_community.vectorstores import FAISS\n",
    "from langchain_text_splitters import RecursiveCharacterTextSplitter\n",
    "# 使用分割器分割文档\n",
    "text_splitter = RecursiveCharacterTextSplitter(chunk_size=500, chunk_overlap=50)\n",
    "documents = text_splitter.split_documents(docs)\n",
    "print(len(documents))\n",
    "# 向量存储 embeddings 会将 documents 中的每个文本片段转换为向量，并将这些向量存储在 FAISS向量数据库中\n",
    "vector = FAISS.from_documents(documents, embeddings)"
   ],
   "id": "5b7bb0ed31938ab4",
   "outputs": [
    {
     "name": "stdout",
     "output_type": "stream",
     "text": [
      "5\n"
     ]
    }
   ],
   "execution_count": 97
  },
  {
   "metadata": {},
   "cell_type": "markdown",
   "source": "## RAG检索",
   "id": "f514ab494cc52ea5"
  },
  {
   "metadata": {
    "ExecuteTime": {
     "end_time": "2025-10-16T07:23:57.755516Z",
     "start_time": "2025-10-16T07:23:57.743334Z"
    }
   },
   "cell_type": "code",
   "source": "from langchain_core.prompts import PromptTemplate",
   "id": "749e2b367bfe13c1",
   "outputs": [],
   "execution_count": 98
  },
  {
   "metadata": {
    "ExecuteTime": {
     "end_time": "2025-10-16T07:24:00.784074Z",
     "start_time": "2025-10-16T07:24:00.510772Z"
    }
   },
   "cell_type": "code",
   "source": [
    "retriever = vector.as_retriever()\n",
    "retriever.search_kwargs = {\"k\": 3}\n",
    "docs = retriever.invoke(\"建设用地使用权是什么？\")\n",
    "# for i,doc in enumerate(docs):\n",
    "# print(f\"⭐第{i+1}条规定：\")\n",
    "# print(doc)"
   ],
   "id": "d315cad2dcef71da",
   "outputs": [],
   "execution_count": 99
  },
  {
   "metadata": {
    "ExecuteTime": {
     "end_time": "2025-10-16T07:24:06.568126Z",
     "start_time": "2025-10-16T07:24:06.563785Z"
    }
   },
   "cell_type": "code",
   "source": [
    "# 6.定义提示词模版\n",
    "prompt_template = \"\"\"\n",
    "你是一个问答机器人。\n",
    "你的任务是根据下述给定的已知信息回答用户问题。\n",
    "确保你的回复完全依据下述已知信息。不要编造答案。\n",
    "如果下述已知信息不足以回答用户的问题，请直接回复\"我无法回答您的问题\"。\n",
    "\n",
    "已知信息:\n",
    "{info}\n",
    "\n",
    "用户问：\n",
    "{question}\n",
    "\n",
    "请用中文回答用户问题。\n",
    "\"\"\""
   ],
   "id": "a89388d78a6c3d02",
   "outputs": [],
   "execution_count": 100
  },
  {
   "metadata": {
    "ExecuteTime": {
     "end_time": "2025-10-16T07:24:09.367842Z",
     "start_time": "2025-10-16T07:24:09.362724Z"
    }
   },
   "cell_type": "code",
   "source": [
    "# 7.得到提示词模版对象\n",
    "template = PromptTemplate.from_template(prompt_template)"
   ],
   "id": "9db84db3cd22ad21",
   "outputs": [],
   "execution_count": 101
  },
  {
   "metadata": {
    "ExecuteTime": {
     "end_time": "2025-10-16T07:24:10.999409Z",
     "start_time": "2025-10-16T07:24:10.996699Z"
    }
   },
   "cell_type": "code",
   "source": [
    "# 8.得到提示词对象\n",
    "prompt = template.format(info=docs, question='建设用地使用权是什么？')"
   ],
   "id": "601ff90699963dc8",
   "outputs": [],
   "execution_count": 102
  },
  {
   "metadata": {
    "ExecuteTime": {
     "end_time": "2025-10-16T07:24:17.496723Z",
     "start_time": "2025-10-16T07:24:12.650472Z"
    }
   },
   "cell_type": "code",
   "source": [
    "## 9. 调用LLM\n",
    "response = llm.invoke(prompt)\n",
    "print(response.content)"
   ],
   "id": "55fd9dd80431b1e",
   "outputs": [
    {
     "name": "stdout",
     "output_type": "stream",
     "text": [
      "我无法回答您的问题。已知信息中没有关于建设用地使用权的具体定义或解释。建设用地使用权一般是指依法对国家所有的土地享有占有、使用和收益的权利，用于建造建筑物、构筑物及其附属设施，但具体的条款和细节需要参考相关法律法规。如果您有关于民法典宣传活动或其他相关内容的问题，我可以根据提供的信息帮助解答。\n"
     ]
    }
   ],
   "execution_count": 103
  },
  {
   "metadata": {},
   "cell_type": "markdown",
   "source": "## 使用agent",
   "id": "f822cb4a1f43baf4"
  },
  {
   "metadata": {
    "ExecuteTime": {
     "end_time": "2025-10-16T07:27:15.902391Z",
     "start_time": "2025-10-16T07:27:15.870419Z"
    }
   },
   "cell_type": "code",
   "source": "from langchain.tools.retriever import create_retriever_tool",
   "id": "1d94bc593c1c5d4d",
   "outputs": [],
   "execution_count": 105
  },
  {
   "metadata": {
    "ExecuteTime": {
     "end_time": "2025-10-16T07:27:17.457707Z",
     "start_time": "2025-10-16T07:27:17.452560Z"
    }
   },
   "cell_type": "code",
   "source": [
    " # 检索器工具\n",
    "retriever_tool = create_retriever_tool(\n",
    "    retriever,\n",
    "    \"CivilCodeRetriever\",\n",
    "    \"搜索有关中华人民共和国民法典的信息。关于中华人民共和国民法典的任何问题，您必须使用此工具!\",\n",
    ")\n",
    "tools = [retriever_tool]"
   ],
   "id": "7c65131d839cf1cc",
   "outputs": [],
   "execution_count": 106
  },
  {
   "metadata": {
    "ExecuteTime": {
     "end_time": "2025-10-16T07:27:52.324183Z",
     "start_time": "2025-10-16T07:27:48.522883Z"
    }
   },
   "cell_type": "code",
   "source": [
    "from langchain import hub\n",
    "from langchain.agents import create_openai_functions_agent\n",
    "from langchain.agents import AgentExecutor\n",
    "# https://smith.langchain.com/hub\n",
    "prompt = hub.pull(\"hwchase17/openai-functions-agent\")\n",
    "agent = create_openai_functions_agent(llm, tools, prompt)\n",
    "agent_executor = AgentExecutor(agent=agent, tools=tools, verbose=True)\n",
    "# 运行代理\n",
    "agent_executor.invoke({\"input\": \"建设用地使用权是什么\"})"
   ],
   "id": "ae622082167af85e",
   "outputs": [
    {
     "name": "stderr",
     "output_type": "stream",
     "text": [
      "/opt/anaconda3/envs/langchain/lib/python3.12/site-packages/langsmith/client.py:241: LangSmithMissingAPIKeyWarning: API key must be provided when using hosted LangSmith API\n",
      "  warnings.warn(\n"
     ]
    },
    {
     "name": "stdout",
     "output_type": "stream",
     "text": [
      "\n",
      "\n",
      "\u001B[1m> Entering new AgentExecutor chain...\u001B[0m\n",
      "\u001B[32;1m\u001B[1;3m\u001B[0m\n",
      "\n",
      "\u001B[1m> Finished chain.\u001B[0m\n"
     ]
    },
    {
     "data": {
      "text/plain": [
       "{'input': '建设用地使用权是什么', 'output': ''}"
      ]
     },
     "execution_count": 107,
     "metadata": {},
     "output_type": "execute_result"
    }
   ],
   "execution_count": 107
  }
 ],
 "metadata": {
  "kernelspec": {
   "display_name": "langchain",
   "language": "python",
   "name": "python3"
  },
  "language_info": {
   "codemirror_mode": {
    "name": "ipython",
    "version": 3
   },
   "file_extension": ".py",
   "mimetype": "text/x-python",
   "name": "python",
   "nbconvert_exporter": "python",
   "pygments_lexer": "ipython3",
   "version": "3.12.11"
  }
 },
 "nbformat": 4,
 "nbformat_minor": 5
}
