{
 "cells": [
  {
   "metadata": {},
   "cell_type": "markdown",
   "source": [
    "create_sql_query_chain\n",
    "\n",
    "create_stuff_documents_chains"
   ],
   "id": "33fc20d1ea11e844"
  },
  {
   "cell_type": "code",
   "id": "initial_id",
   "metadata": {
    "collapsed": true
   },
   "source": [
    "from langchain_classic.chains.sql_database.query import create_sql_query_chain\n",
    "from langchain_community.utilities import SQLDatabase\n",
    "from langchain_community.chat_models.tongyi import ChatTongyi\n",
    "from dotenv import load_dotenv\n",
    "\n",
    "load_dotenv()\n",
    "\n",
    "# 连接 MySQL 数据库\n",
    "db_user = \"root\"\n",
    "db_password = \"abc12345678\"  #根据自己的密码填写\n",
    "db_host = \"localhost\"\n",
    "db_port = \"3306\"\n",
    "db_name = \"langchain\"\n",
    "# mysql+pymysql://用户名:密码@ip地址:端口号/数据库名\n",
    "db = SQLDatabase.from_uri(f\"mysql+pymysql://{db_user}:{db_password}@{db_host}:{db_port}/{db_name}\")\n",
    "print(\"哪种数据库：\", db.dialect)\n",
    "print(\"获取数据表：\", db.get_usable_table_names())\n",
    "# 执行查询\n",
    "# res = db.run(\"SELECT count(*) FROM employees;\")\n",
    "# print(\"查询结果：\", res)"
   ],
   "outputs": [],
   "execution_count": null
  },
  {
   "metadata": {},
   "cell_type": "markdown",
   "source": "举例2：chain的使用",
   "id": "ff205a9ea0d55a41"
  },
  {
   "metadata": {},
   "cell_type": "code",
   "source": [
    "from langchain_community.utilities import SQLDatabase\n",
    "from langchain_community.chat_models.tongyi import ChatTongyi\n",
    "from dotenv import load_dotenv\n",
    "from langchain_community.chains import create_sql_query_chain\n",
    "load_dotenv()\n",
    "\n",
    "# 连接 MySQL 数据库\n",
    "db_user = \"root\"\n",
    "db_password = \"abc12345678\"  #根据自己的密码填写\n",
    "db_host = \"localhost\"\n",
    "db_port = \"3306\"\n",
    "db_name = \"langchain\"\n",
    "# mysql+pymysql://用户名:密码@ip地址:端口号/数据库名\n",
    "db = SQLDatabase.from_uri(f\"mysql+pymysql://{db_user}:{db_password}@{db_host}:{db_port}/{db_name}\")\n",
    "\n",
    "#2、获取大语言模型\n",
    "chat_model = ChatTongyi()\n"
   ],
   "id": "99bf145f19704ded",
   "outputs": [],
   "execution_count": null
  },
  {
   "metadata": {},
   "cell_type": "code",
   "source": "",
   "id": "7df18c48bed4f0c7",
   "outputs": [],
   "execution_count": null
  }
 ],
 "metadata": {
  "kernelspec": {
   "display_name": "Python 3",
   "language": "python",
   "name": "python3"
  },
  "language_info": {
   "codemirror_mode": {
    "name": "ipython",
    "version": 2
   },
   "file_extension": ".py",
   "mimetype": "text/x-python",
   "name": "python",
   "nbconvert_exporter": "python",
   "pygments_lexer": "ipython2",
   "version": "2.7.6"
  }
 },
 "nbformat": 4,
 "nbformat_minor": 5
}
