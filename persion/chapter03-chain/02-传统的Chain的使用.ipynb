{
 "cells": [
  {
   "metadata": {},
   "cell_type": "markdown",
   "source": " LLMChain的使用",
   "id": "945f05a5e52fd259"
  },
  {
   "cell_type": "code",
   "id": "initial_id",
   "metadata": {
    "collapsed": true,
    "ExecuteTime": {
     "end_time": "2025-10-23T05:46:31.355236Z",
     "start_time": "2025-10-23T05:46:30.410947Z"
    }
   },
   "source": [
    "from langchain.chains.sequential import SimpleSequentialChain\n",
    "from langchain_community.chat_models.tongyi import ChatTongyi\n",
    "from dotenv import load_dotenv\n",
    "from langchain_core.prompts import PromptTemplate\n",
    "\n",
    "load_dotenv()\n",
    "\n",
    "#1、创建大模型实例\n",
    "chat_model = ChatTongyi()\n",
    "\n",
    "#2、提供提示词模版\n",
    "prompt_template = PromptTemplate.from_template(\n",
    "    template=\"你是一个数字高手，帮我解决如下的数学问题：{question}\",\n",
    ")\n",
    "\n",
    "chain = prompt_template | chat_model\n",
    "res = chain.invoke(input={\"question\": \"1+2+3=?\"})\n",
    "print(res)"
   ],
   "outputs": [
    {
     "name": "stdout",
     "output_type": "stream",
     "text": [
      "content='当然可以！我们来一步一步计算：\\n\\n$$\\n1 + 2 + 3 = ?\\n$$\\n\\n第一步：先算 $1 + 2 = 3$  \\n第二步：再算 $3 + 3 = 6$\\n\\n所以，答案是：\\n\\n$$\\n\\\\boxed{6}\\n$$\\n\\n如果你还有其他数学问题，随时告诉我！😊' additional_kwargs={} response_metadata={'model_name': 'qwen-turbo', 'finish_reason': 'stop', 'request_id': '394f4b22-0bac-4adb-93db-b1dca596cb2d', 'token_usage': {'input_tokens': 30, 'output_tokens': 73, 'prompt_tokens_details': {'cached_tokens': 0}, 'total_tokens': 103}} id='lc_run--d9e23ea5-cf80-4c8e-920d-8bf9d2c15fa6-0'\n"
     ]
    }
   ],
   "execution_count": 9
  },
  {
   "metadata": {},
   "cell_type": "markdown",
   "source": "举例2 使用ChatPromptTemplate、以及参数verbose\n",
   "id": "bc3d030a83a855b0"
  },
  {
   "metadata": {
    "ExecuteTime": {
     "end_time": "2025-10-23T05:56:52.027736Z",
     "start_time": "2025-10-23T05:56:51.185814Z"
    }
   },
   "cell_type": "code",
   "source": [
    "from langchain_community.chat_models.tongyi import ChatTongyi\n",
    "from dotenv import load_dotenv\n",
    "from langchain_core.prompts import ChatPromptTemplate\n",
    "\n",
    "load_dotenv()\n",
    "\n",
    "# 打开 verbose\n",
    "chat_model = ChatTongyi(verbose=False)\n",
    "\n",
    "prompt_template = ChatPromptTemplate.from_messages([\n",
    "    (\"system\", \"你是一个数学高手\"),\n",
    "    (\"human\", \"帮我解决如下的数学问题：{question}\")\n",
    "])\n",
    "\n",
    "chain = prompt_template | chat_model\n",
    "res = chain.invoke(input={\"question\": \"1+2+3=?\"}, verbose=False)  # chain.invoke 的 verbose 可能受组件 verbose 影响\n",
    "print(res)\n"
   ],
   "id": "c6746d34a45bc74a",
   "outputs": [
    {
     "name": "stdout",
     "output_type": "stream",
     "text": [
      "content='当然可以！我们来一步步计算：\\n\\n$$\\n1 + 2 + 3 = (1 + 2) + 3 = 3 + 3 = 6\\n$$\\n\\n所以，答案是：**6**。' additional_kwargs={} response_metadata={'model_name': 'qwen-turbo', 'finish_reason': 'stop', 'request_id': '35e834b0-43db-47bc-b4af-b9b9ead0fcd6', 'token_usage': {'input_tokens': 34, 'output_tokens': 48, 'prompt_tokens_details': {'cached_tokens': 0}, 'total_tokens': 82}} id='lc_run--17d08893-7f4a-4c75-a37b-13653828aa9e-0'\n"
     ]
    }
   ],
   "execution_count": 13
  },
  {
   "metadata": {},
   "cell_type": "markdown",
   "source": [
    "## 顺序链：\n",
    "\n",
    "单个输入/单个输出：SimpleSequentialChain\n",
    "\n",
    "多个输入/单个输出：SequentialChain"
   ],
   "id": "fa22f1d58e20e3b2"
  },
  {
   "metadata": {
    "ExecuteTime": {
     "end_time": "2025-10-23T06:16:03.729652Z",
     "start_time": "2025-10-23T06:15:47.005432Z"
    }
   },
   "cell_type": "code",
   "source": [
    "from langchain_community.chat_models.tongyi import ChatTongyi\n",
    "from dotenv import load_dotenv\n",
    "from langchain_core.prompts import ChatPromptTemplate\n",
    "\n",
    "load_dotenv()\n",
    "\n",
    "# 打开 verbose\n",
    "chat_model = ChatTongyi(verbose=True)\n",
    "\n",
    "prompt_template = ChatPromptTemplate.from_messages(\n",
    "    [\n",
    "        (\"system\", \"你是一位精通各领域知识的知名教授\"),\n",
    "        (\"human\", \"请你尽可能详细的解释一下：{know}\")\n",
    "    ]\n",
    ")\n",
    "\n",
    "chain = prompt_template | chat_model\n",
    "res = chain.invoke(input={\"know\": \"什么是langchain\"})  # chain.invoke 的 verbose 可能受组件 verbose 影响\n",
    "print(res)\n"
   ],
   "id": "67364defea55d4b8",
   "outputs": [
    {
     "name": "stdout",
     "output_type": "stream",
     "text": [
      "content='当然可以。作为一名精通各领域知识的教授，我可以从多个角度来详细解释“**LangChain**”这一概念。LangChain 是一个在人工智能和自然语言处理（NLP）领域中非常重要的工具，尤其在构建基于大型语言模型（LLM）的应用程序时，扮演着关键角色。\\n\\n---\\n\\n## 一、什么是 LangChain？\\n\\n**LangChain** 是一个开源框架，旨在帮助开发者将大型语言模型（如 GPT-3、GPT-4、LLaMA 等）与外部数据源、工具和服务集成，从而构建更强大、更智能的应用程序。\\n\\n它提供了一套模块化的组件和接口，使得开发者能够：\\n\\n- 将 LLM 与数据库、API、文件等数据源连接；\\n- 构建复杂的对话流程（如聊天机器人、客服系统）；\\n- 实现上下文管理、记忆机制、提示工程等高级功能；\\n- 扩展 LLM 的能力，使其能够执行实际任务（如信息检索、数据分析、代码生成等）。\\n\\n---\\n\\n## 二、LangChain 的核心概念\\n\\n### 1. **Chain（链）**\\n- Chain 是 LangChain 的基本构建块，表示一系列操作的组合。\\n- 每个 Chain 可以是一个简单的函数调用，也可以是多个步骤的组合。\\n- 示例：输入文本 → 提示模板 → LLM 推理 → 输出结果。\\n\\n```python\\nfrom langchain.chains import LLMChain\\nfrom langchain.prompts import PromptTemplate\\nfrom langchain.llms import OpenAI\\n\\nprompt = PromptTemplate.from_template(\"What is the capital of {country}?\")\\nllm = OpenAI(temperature=0)\\nchain = LLMChain(prompt=prompt, llm=llm)\\n\\nresponse = chain.run(\"France\")\\nprint(response)  # 输出: \"Paris\"\\n```\\n\\n### 2. **Prompt（提示）**\\n- Prompt 是 LLM 接收到的输入内容，通常由模板（Template）生成。\\n- 提示工程（Prompt Engineering）是 LangChain 中非常重要的部分，直接影响 LLM 的输出质量。\\n\\n### 3. **Memory（记忆）**\\n- Memory 允许模型在多个交互中保留上下文信息。\\n- 例如，在对话系统中，用户之前的提问可以被记住并用于后续回答。\\n\\n### 4. **Tool（工具）**\\n- Tool 是外部服务或 API 的封装，允许 LLM 调用这些工具完成特定任务。\\n- 例如：调用天气 API、搜索网络、查询数据库等。\\n\\n### 5. **Agent（代理）**\\n- Agent 是一种高级结构，允许 LLM 根据当前任务选择合适的工具进行操作。\\n- 它类似于一个“智能助手”，能自主决定使用哪个工具、如何组合工具等。\\n\\n---\\n\\n## 三、LangChain 的主要功能\\n\\n### 1. **连接外部数据源**\\n- LangChain 支持与多种数据源集成，如：\\n  - 数据库（SQL/NoSQL）\\n  - 文件系统（PDF、CSV、Markdown）\\n  - APIs（RESTful、GraphQL）\\n  - 搜索引擎（如 Elasticsearch）\\n\\n### 2. **构建复杂的工作流**\\n- 通过 Chain 和 Agent，可以构建多步骤、多模态的 AI 应用。\\n- 例如：用户提问 → 检索相关文档 → 使用 LLM 总结 → 返回答案。\\n\\n### 3. **增强 LLM 的能力**\\n- LLM 本身只能“生成文本”，但通过 LangChain，它可以：\\n  - 查询数据库获取最新数据；\\n  - 调用 API 获取实时信息；\\n  - 进行推理、逻辑判断、代码生成等。\\n\\n### 4. **支持多种 LLM**\\n- LangChain 不仅支持 OpenAI 的 GPT 系列，还支持：\\n  - Hugging Face 模型\\n  - Google 的 Gemini\\n  - Meta 的 LLaMA\\n  - 自定义模型（如本地部署的模型）\\n\\n---\\n\\n## 四、LangChain 的应用场景\\n\\n### 1. **智能客服系统**\\n- 用户提问 → LLM 分析问题 → 调用内部知识库或数据库 → 返回准确答案。\\n\\n### 2. **数据驱动的问答系统**\\n- 用户输入问题 → 系统自动从数据库中提取相关信息 → LLM 生成自然语言回答。\\n\\n### 3. **自动化报告生成**\\n- 从多个数据源提取数据 → LLM 编写分析报告 → 输出为 PDF 或 HTML。\\n\\n### 4. **代码生成与调试**\\n- 用户输入需求 → LLM 生成代码 → LangChain 集成代码运行环境进行测试。\\n\\n### 5. **教育辅助工具**\\n- 学生提问 → LLM 解释概念 → 调用教学资源或练习题库 → 提供个性化学习建议。\\n\\n---\\n\\n## 五、LangChain 的技术架构\\n\\nLangChain 的架构分为几个层级：\\n\\n| 层级 | 功能 |\\n|------|------|\\n| **LLM Layer** | 负责调用大型语言模型，处理文本生成和理解。 |\\n| **Prompt Layer** | 管理提示模板，优化输入格式。 |\\n| **Memory Layer** | 维护上下文和历史记录，支持多轮对话。 |\\n| **Tool Layer** | 提供对外部工具的访问接口。 |\\n| **Agent Layer** | 控制 LLM 如何选择和使用工具。 |\\n| **Chain Layer** | 组合多个操作，形成工作流。 |\\n\\n---\\n\\n## 六、LangChain 的优势\\n\\n1. **模块化设计**：便于扩展和定制。\\n2. **高度可配置**：支持各种 LLM 和工具的接入。\\n3. **易用性强**：提供了丰富的 API 和示例。\\n4. **社区活跃**：拥有庞大的开发者社区和生态系统。\\n5. **跨平台兼容**：支持 Python、JavaScript（Node.js）等多种语言。\\n\\n---\\n\\n## 七、LangChain 的挑战与局限性\\n\\n尽管 LangChain 功能强大，但也存在一些挑战：\\n\\n1. **性能问题**：当处理大量数据或复杂任务时，可能会影响响应速度。\\n2. **成本问题**：使用 LLM 会带来较高的计算成本，尤其是调用云端模型时。\\n3. **安全与隐私**：如果直接使用第三方 LLM，可能会涉及数据泄露风险。\\n4. **依赖性**：对 LLM 的依赖较强，若 LLM 出现故障，整个系统可能无法正常运行。\\n\\n---\\n\\n## 八、LangChain 与其他框架的对比\\n\\n| 框架 | 特点 | 适用场景 |\\n|------|------|----------|\\n| **LangChain** | 模块化、支持多种 LLM 和工具 | 构建复杂 AI 应用、数据驱动的系统 |\\n| **Hugging Face Transformers** | 更侧重于模型训练和推理 | 模型研究、微调、部署 |\\n| **Rasa** | 专注于对话系统 | 构建聊天机器人、语音助手 |\\n| **Dialogflow / Watson Assistant** | 企业级对话系统 | 快速搭建客服机器人 |\\n\\n---\\n\\n## 九、总结\\n\\n**LangChain** 是一个强大的工具，它不仅让开发者能够轻松地将大型语言模型整合到实际应用中，还提供了丰富的功能来增强 LLM 的能力和灵活性。无论是构建智能客服、数据分析系统，还是教育辅助工具，LangChain 都是一个不可或缺的开发框架。\\n\\n作为一位教授，我认为 LangChain 的出现标志着我们正在进入一个“**AI + 数据 + 工具**”深度融合的新时代，它将极大地推动人工智能在现实世界中的落地与应用。\\n\\n---\\n\\n如果你有具体的项目或应用场景，我也可以帮你设计一个基于 LangChain 的解决方案。欢迎继续提问！' additional_kwargs={} response_metadata={'model_name': 'qwen-turbo', 'finish_reason': 'stop', 'request_id': '815c8f27-9e36-4aad-8083-a3219bb03c68', 'token_usage': {'input_tokens': 35, 'output_tokens': 1640, 'prompt_tokens_details': {'cached_tokens': 0}, 'total_tokens': 1675}} id='lc_run--677668e3-df3d-4a5d-85d1-4693ce1d836d-0'\n"
     ]
    }
   ],
   "execution_count": 15
  },
  {
   "metadata": {
    "ExecuteTime": {
     "end_time": "2025-10-23T06:40:23.465768Z",
     "start_time": "2025-10-23T06:40:23.458246Z"
    }
   },
   "cell_type": "code",
   "source": [
    "chainB_template = ChatPromptTemplate.from_messages(\n",
    "    [\n",
    "        (\"system\", \"你非常善于提取文本中的重要信息，并做出简短的总结\"),\n",
    "        (\"human\", \"这是针对一个提问的完整的解释说明内容：{description}\"),\n",
    "        (\"human\", \"请你根据上述说明，尽可能简短的输出 重要的结论，请控制在20个字以内\"),\n",
    "    ]\n",
    ")\n",
    "chainB= chainB_template | chat_model\n"
   ],
   "id": "526db440a491002b",
   "outputs": [],
   "execution_count": 16
  },
  {
   "metadata": {
    "ExecuteTime": {
     "end_time": "2025-10-24T05:49:14.002606Z",
     "start_time": "2025-10-24T05:49:13.898182Z"
    }
   },
   "cell_type": "code",
   "source": [
    "from langchain.chains.sequential import SimpleSequentialChain\n",
    "from langchain_core import BaseMemory"
   ],
   "id": "fc45438a54dfc83c",
   "outputs": [
    {
     "ename": "ModuleNotFoundError",
     "evalue": "No module named 'langchain_core.memory'",
     "output_type": "error",
     "traceback": [
      "\u001B[31m---------------------------------------------------------------------------\u001B[39m",
      "\u001B[31mModuleNotFoundError\u001B[39m                       Traceback (most recent call last)",
      "\u001B[36mCell\u001B[39m\u001B[36m \u001B[39m\u001B[32mIn[22]\u001B[39m\u001B[32m, line 1\u001B[39m\n\u001B[32m----> \u001B[39m\u001B[32m1\u001B[39m \u001B[38;5;28;01mfrom\u001B[39;00m\u001B[38;5;250m \u001B[39m\u001B[34;01mlangchain\u001B[39;00m\u001B[34;01m.\u001B[39;00m\u001B[34;01mchains\u001B[39;00m\u001B[34;01m.\u001B[39;00m\u001B[34;01msequential\u001B[39;00m\u001B[38;5;250m \u001B[39m\u001B[38;5;28;01mimport\u001B[39;00m SimpleSequentialChain\n",
      "\u001B[36mFile \u001B[39m\u001B[32m/opt/anaconda3/envs/langchain/lib/python3.12/site-packages/langchain/chains/sequential.py:13\u001B[39m\n\u001B[32m     10\u001B[39m \u001B[38;5;28;01mfrom\u001B[39;00m\u001B[38;5;250m \u001B[39m\u001B[34;01mpydantic\u001B[39;00m\u001B[38;5;250m \u001B[39m\u001B[38;5;28;01mimport\u001B[39;00m ConfigDict, model_validator\n\u001B[32m     11\u001B[39m \u001B[38;5;28;01mfrom\u001B[39;00m\u001B[38;5;250m \u001B[39m\u001B[34;01mtyping_extensions\u001B[39;00m\u001B[38;5;250m \u001B[39m\u001B[38;5;28;01mimport\u001B[39;00m Self\n\u001B[32m---> \u001B[39m\u001B[32m13\u001B[39m \u001B[38;5;28;01mfrom\u001B[39;00m\u001B[38;5;250m \u001B[39m\u001B[34;01mlangchain\u001B[39;00m\u001B[34;01m.\u001B[39;00m\u001B[34;01mchains\u001B[39;00m\u001B[34;01m.\u001B[39;00m\u001B[34;01mbase\u001B[39;00m\u001B[38;5;250m \u001B[39m\u001B[38;5;28;01mimport\u001B[39;00m Chain\n\u001B[32m     16\u001B[39m \u001B[38;5;28;01mclass\u001B[39;00m\u001B[38;5;250m \u001B[39m\u001B[34;01mSequentialChain\u001B[39;00m(Chain):\n\u001B[32m     17\u001B[39m \u001B[38;5;250m    \u001B[39m\u001B[33;03m\"\"\"Chain where the outputs of one chain feed directly into next.\"\"\"\u001B[39;00m\n",
      "\u001B[36mFile \u001B[39m\u001B[32m/opt/anaconda3/envs/langchain/lib/python3.12/site-packages/langchain/chains/base.py:22\u001B[39m\n\u001B[32m     13\u001B[39m \u001B[38;5;28;01mfrom\u001B[39;00m\u001B[38;5;250m \u001B[39m\u001B[34;01mlangchain_core\u001B[39;00m\u001B[34;01m.\u001B[39;00m\u001B[34;01m_api\u001B[39;00m\u001B[38;5;250m \u001B[39m\u001B[38;5;28;01mimport\u001B[39;00m deprecated\n\u001B[32m     14\u001B[39m \u001B[38;5;28;01mfrom\u001B[39;00m\u001B[38;5;250m \u001B[39m\u001B[34;01mlangchain_core\u001B[39;00m\u001B[34;01m.\u001B[39;00m\u001B[34;01mcallbacks\u001B[39;00m\u001B[38;5;250m \u001B[39m\u001B[38;5;28;01mimport\u001B[39;00m (\n\u001B[32m     15\u001B[39m     AsyncCallbackManager,\n\u001B[32m     16\u001B[39m     AsyncCallbackManagerForChainRun,\n\u001B[32m   (...)\u001B[39m\u001B[32m     20\u001B[39m     Callbacks,\n\u001B[32m     21\u001B[39m )\n\u001B[32m---> \u001B[39m\u001B[32m22\u001B[39m \u001B[38;5;28;01mfrom\u001B[39;00m\u001B[38;5;250m \u001B[39m\u001B[34;01mlangchain_core\u001B[39;00m\u001B[34;01m.\u001B[39;00m\u001B[34;01mmemory\u001B[39;00m\u001B[38;5;250m \u001B[39m\u001B[38;5;28;01mimport\u001B[39;00m BaseMemory\n\u001B[32m     23\u001B[39m \u001B[38;5;28;01mfrom\u001B[39;00m\u001B[38;5;250m \u001B[39m\u001B[34;01mlangchain_core\u001B[39;00m\u001B[34;01m.\u001B[39;00m\u001B[34;01moutputs\u001B[39;00m\u001B[38;5;250m \u001B[39m\u001B[38;5;28;01mimport\u001B[39;00m RunInfo\n\u001B[32m     24\u001B[39m \u001B[38;5;28;01mfrom\u001B[39;00m\u001B[38;5;250m \u001B[39m\u001B[34;01mlangchain_core\u001B[39;00m\u001B[34;01m.\u001B[39;00m\u001B[34;01mrunnables\u001B[39;00m\u001B[38;5;250m \u001B[39m\u001B[38;5;28;01mimport\u001B[39;00m (\n\u001B[32m     25\u001B[39m     RunnableConfig,\n\u001B[32m     26\u001B[39m     RunnableSerializable,\n\u001B[32m     27\u001B[39m     ensure_config,\n\u001B[32m     28\u001B[39m     run_in_executor,\n\u001B[32m     29\u001B[39m )\n",
      "\u001B[31mModuleNotFoundError\u001B[39m: No module named 'langchain_core.memory'"
     ]
    }
   ],
   "execution_count": 22
  },
  {
   "metadata": {},
   "cell_type": "code",
   "outputs": [
    {
     "ename": "ModuleNotFoundError",
     "evalue": "No module named 'langchain_core.memory'",
     "output_type": "error",
     "traceback": [
      "\u001B[31m---------------------------------------------------------------------------\u001B[39m",
      "\u001B[31mModuleNotFoundError\u001B[39m                       Traceback (most recent call last)",
      "\u001B[36mCell\u001B[39m\u001B[36m \u001B[39m\u001B[32mIn[20]\u001B[39m\u001B[32m, line 1\u001B[39m\n\u001B[32m----> \u001B[39m\u001B[32m1\u001B[39m \u001B[38;5;28;01mfrom\u001B[39;00m\u001B[38;5;250m \u001B[39m\u001B[34;01mlangchain\u001B[39;00m\u001B[34;01m.\u001B[39;00m\u001B[34;01mchains\u001B[39;00m\u001B[34;01m.\u001B[39;00m\u001B[34;01msequential\u001B[39;00m\u001B[38;5;250m \u001B[39m\u001B[38;5;28;01mimport\u001B[39;00m SimpleSequentialChain\n\u001B[32m      3\u001B[39m full_chain=SimpleSequentialChain(\n\u001B[32m      4\u001B[39m     chains=[chain,chainB],\n\u001B[32m      5\u001B[39m     verbose=\u001B[38;5;28;01mTrue\u001B[39;00m\n\u001B[32m      6\u001B[39m )\n\u001B[32m      7\u001B[39m full_chain.invoke(\u001B[38;5;28minput\u001B[39m={\u001B[33m\"\u001B[39m\u001B[33mknow\u001B[39m\u001B[33m\"\u001B[39m: \u001B[33m\"\u001B[39m\u001B[33m什么是langchain\u001B[39m\u001B[33m\"\u001B[39m})\n",
      "\u001B[36mFile \u001B[39m\u001B[32m/opt/anaconda3/envs/langchain/lib/python3.12/site-packages/langchain/chains/sequential.py:13\u001B[39m\n\u001B[32m     10\u001B[39m \u001B[38;5;28;01mfrom\u001B[39;00m\u001B[38;5;250m \u001B[39m\u001B[34;01mpydantic\u001B[39;00m\u001B[38;5;250m \u001B[39m\u001B[38;5;28;01mimport\u001B[39;00m ConfigDict, model_validator\n\u001B[32m     11\u001B[39m \u001B[38;5;28;01mfrom\u001B[39;00m\u001B[38;5;250m \u001B[39m\u001B[34;01mtyping_extensions\u001B[39;00m\u001B[38;5;250m \u001B[39m\u001B[38;5;28;01mimport\u001B[39;00m Self\n\u001B[32m---> \u001B[39m\u001B[32m13\u001B[39m \u001B[38;5;28;01mfrom\u001B[39;00m\u001B[38;5;250m \u001B[39m\u001B[34;01mlangchain\u001B[39;00m\u001B[34;01m.\u001B[39;00m\u001B[34;01mchains\u001B[39;00m\u001B[34;01m.\u001B[39;00m\u001B[34;01mbase\u001B[39;00m\u001B[38;5;250m \u001B[39m\u001B[38;5;28;01mimport\u001B[39;00m Chain\n\u001B[32m     16\u001B[39m \u001B[38;5;28;01mclass\u001B[39;00m\u001B[38;5;250m \u001B[39m\u001B[34;01mSequentialChain\u001B[39;00m(Chain):\n\u001B[32m     17\u001B[39m \u001B[38;5;250m    \u001B[39m\u001B[33;03m\"\"\"Chain where the outputs of one chain feed directly into next.\"\"\"\u001B[39;00m\n",
      "\u001B[36mFile \u001B[39m\u001B[32m/opt/anaconda3/envs/langchain/lib/python3.12/site-packages/langchain/chains/base.py:22\u001B[39m\n\u001B[32m     13\u001B[39m \u001B[38;5;28;01mfrom\u001B[39;00m\u001B[38;5;250m \u001B[39m\u001B[34;01mlangchain_core\u001B[39;00m\u001B[34;01m.\u001B[39;00m\u001B[34;01m_api\u001B[39;00m\u001B[38;5;250m \u001B[39m\u001B[38;5;28;01mimport\u001B[39;00m deprecated\n\u001B[32m     14\u001B[39m \u001B[38;5;28;01mfrom\u001B[39;00m\u001B[38;5;250m \u001B[39m\u001B[34;01mlangchain_core\u001B[39;00m\u001B[34;01m.\u001B[39;00m\u001B[34;01mcallbacks\u001B[39;00m\u001B[38;5;250m \u001B[39m\u001B[38;5;28;01mimport\u001B[39;00m (\n\u001B[32m     15\u001B[39m     AsyncCallbackManager,\n\u001B[32m     16\u001B[39m     AsyncCallbackManagerForChainRun,\n\u001B[32m   (...)\u001B[39m\u001B[32m     20\u001B[39m     Callbacks,\n\u001B[32m     21\u001B[39m )\n\u001B[32m---> \u001B[39m\u001B[32m22\u001B[39m \u001B[38;5;28;01mfrom\u001B[39;00m\u001B[38;5;250m \u001B[39m\u001B[34;01mlangchain_core\u001B[39;00m\u001B[34;01m.\u001B[39;00m\u001B[34;01mmemory\u001B[39;00m\u001B[38;5;250m \u001B[39m\u001B[38;5;28;01mimport\u001B[39;00m BaseMemory\n\u001B[32m     23\u001B[39m \u001B[38;5;28;01mfrom\u001B[39;00m\u001B[38;5;250m \u001B[39m\u001B[34;01mlangchain_core\u001B[39;00m\u001B[34;01m.\u001B[39;00m\u001B[34;01moutputs\u001B[39;00m\u001B[38;5;250m \u001B[39m\u001B[38;5;28;01mimport\u001B[39;00m RunInfo\n\u001B[32m     24\u001B[39m \u001B[38;5;28;01mfrom\u001B[39;00m\u001B[38;5;250m \u001B[39m\u001B[34;01mlangchain_core\u001B[39;00m\u001B[34;01m.\u001B[39;00m\u001B[34;01mrunnables\u001B[39;00m\u001B[38;5;250m \u001B[39m\u001B[38;5;28;01mimport\u001B[39;00m (\n\u001B[32m     25\u001B[39m     RunnableConfig,\n\u001B[32m     26\u001B[39m     RunnableSerializable,\n\u001B[32m     27\u001B[39m     ensure_config,\n\u001B[32m     28\u001B[39m     run_in_executor,\n\u001B[32m     29\u001B[39m )\n",
      "\u001B[31mModuleNotFoundError\u001B[39m: No module named 'langchain_core.memory'"
     ]
    }
   ],
   "execution_count": 20,
   "source": [
    "\n",
    "full_chain=SimpleSequentialChain(\n",
    "    chains=[chain,chainB],\n",
    "    verbose=True\n",
    ")\n",
    "full_chain.invoke(input={\"know\": \"什么是langchain\"})"
   ],
   "id": "7d9d1237a6fb2db0"
  }
 ],
 "metadata": {
  "kernelspec": {
   "display_name": "Python 3",
   "language": "python",
   "name": "python3"
  },
  "language_info": {
   "codemirror_mode": {
    "name": "ipython",
    "version": 2
   },
   "file_extension": ".py",
   "mimetype": "text/x-python",
   "name": "python",
   "nbconvert_exporter": "python",
   "pygments_lexer": "ipython2",
   "version": "2.7.6"
  }
 },
 "nbformat": 4,
 "nbformat_minor": 5
}
