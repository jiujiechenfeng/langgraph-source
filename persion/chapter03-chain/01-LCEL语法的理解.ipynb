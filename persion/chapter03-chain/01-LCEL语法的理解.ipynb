{
 "cells": [
  {
   "metadata": {},
   "cell_type": "markdown",
   "source": "# 关于LCEL语法的理解",
   "id": "9f223bcd98adaf16"
  },
  {
   "metadata": {
    "ExecuteTime": {
     "end_time": "2025-10-23T03:41:41.286622Z",
     "start_time": "2025-10-23T03:41:41.277866Z"
    }
   },
   "cell_type": "code",
   "source": [
    "from langchain_community.chat_models.tongyi import ChatTongyi\n",
    "from langchain_core.output_parsers import JsonOutputParser\n",
    "from langchain_core.prompts import PromptTemplate\n",
    "from dotenv import load_dotenv\n",
    "load_dotenv()"
   ],
   "id": "99cef08fe2e21241",
   "outputs": [
    {
     "data": {
      "text/plain": [
       "True"
      ]
     },
     "execution_count": 15,
     "metadata": {},
     "output_type": "execute_result"
    }
   ],
   "execution_count": 15
  },
  {
   "cell_type": "code",
   "id": "initial_id",
   "metadata": {
    "collapsed": true,
    "ExecuteTime": {
     "end_time": "2025-10-23T01:32:31.229332Z",
     "start_time": "2025-10-23T01:32:30.477130Z"
    }
   },
   "source": [
    "chat_model = ChatTongyi()\n",
    "\n",
    "joke_query = \"告诉我一个笑话\"\n",
    "\n",
    "parser = JsonOutputParser()\n",
    "\n",
    "prompt_template = PromptTemplate.from_template(\n",
    "    template=\"回答用户的查询,q表示问题，a表示回答\\n 满足的格式为{format_instructions}\\n问题为{question}\\n\",\n",
    "    partial_variables={\"format_instructions\": parser.get_format_instructions()}\n",
    ")\n",
    "\n",
    "prompt = prompt_template.invoke(input={\"question\": joke_query})\n",
    "res = chat_model.invoke(prompt)\n",
    "# print(res)\n",
    "\n",
    "json_res = parser.invoke(res)\n",
    "print(json_res)"
   ],
   "outputs": [
    {
     "name": "stdout",
     "output_type": "stream",
     "text": [
      "{'q': '告诉我一个笑话', 'a': '为什么数学书总是很忧郁？因为它有太多的问题。'}\n"
     ]
    }
   ],
   "execution_count": 12
  },
  {
   "metadata": {
    "ExecuteTime": {
     "end_time": "2025-10-23T03:41:49.794649Z",
     "start_time": "2025-10-23T03:41:49.161890Z"
    }
   },
   "cell_type": "code",
   "source": [
    "chat_model = ChatTongyi()\n",
    "\n",
    "joke_query = \"告诉我一个笑话\"\n",
    "\n",
    "parser = JsonOutputParser()\n",
    "\n",
    "prompt_template = PromptTemplate.from_template(\n",
    "    template=\"回答用户的查询,q表示问题，a表示回答\\n 满足的格式为{format_instructions}\\n问题为{question}\\n\",\n",
    "    partial_variables={\"format_instructions\": parser.get_format_instructions()}\n",
    ")\n",
    "#\n",
    "# prompt = prompt_template.invoke(input={\"question\": joke_query})\n",
    "# res = chat_model.invoke(prompt)\n",
    "# print(res)\n",
    "\n",
    "chain = prompt_template | chat_model | parser\n",
    "json_result=chain.invoke(input={\"question\": joke_query})\n",
    "print(json_res)"
   ],
   "id": "efedb2b48f506430",
   "outputs": [
    {
     "name": "stdout",
     "output_type": "stream",
     "text": [
      "{'q': '告诉我一个笑话', 'a': '为什么数学书总是很忧郁？因为它有太多的问题。'}\n"
     ]
    }
   ],
   "execution_count": 17
  }
 ],
 "metadata": {
  "kernelspec": {
   "display_name": "Python 3",
   "language": "python",
   "name": "python3"
  },
  "language_info": {
   "codemirror_mode": {
    "name": "ipython",
    "version": 2
   },
   "file_extension": ".py",
   "mimetype": "text/x-python",
   "name": "python",
   "nbconvert_exporter": "python",
   "pygments_lexer": "ipython2",
   "version": "2.7.6"
  }
 },
 "nbformat": 4,
 "nbformat_minor": 5
}
