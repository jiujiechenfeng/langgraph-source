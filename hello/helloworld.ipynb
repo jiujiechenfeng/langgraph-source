{
 "cells": [
  {
   "cell_type": "code",
   "id": "5fa654cb",
   "metadata": {
    "ExecuteTime": {
     "end_time": "2025-10-14T08:57:24.258634Z",
     "start_time": "2025-10-14T08:57:24.243422Z"
    }
   },
   "source": [
    "from langchain_community.chat_models.tongyi import ChatTongyi\n",
    "from langchain_core.messages import HumanMessage, SystemMessage,AIMessageChunk\n",
    "from langchain.prompts import ChatPromptTemplate\n",
    "from dotenv import load_dotenv\n",
    "import os"
   ],
   "outputs": [],
   "execution_count": 35
  },
  {
   "cell_type": "code",
   "id": "d6686b94",
   "metadata": {
    "ExecuteTime": {
     "end_time": "2025-10-14T08:57:26.318262Z",
     "start_time": "2025-10-14T08:57:26.312373Z"
    }
   },
   "source": [
    "load_dotenv()\n",
    "DASHSCOPE_API_KEY = os.getenv('DASHSCOPE_API_KEY')"
   ],
   "outputs": [],
   "execution_count": 36
  },
  {
   "cell_type": "code",
   "id": "bd5f6658",
   "metadata": {
    "ExecuteTime": {
     "end_time": "2025-10-14T08:57:27.955087Z",
     "start_time": "2025-10-14T08:57:27.946201Z"
    }
   },
   "source": [
    "chat_model = ChatTongyi(model=\"qwen-max\")"
   ],
   "outputs": [],
   "execution_count": 37
  },
  {
   "cell_type": "code",
   "id": "137567f065b3f1e2",
   "metadata": {
    "ExecuteTime": {
     "end_time": "2025-10-14T08:57:29.181705Z",
     "start_time": "2025-10-14T08:57:29.179270Z"
    }
   },
   "source": [
    "# 创建用户消息\n",
    "message = [\n",
    "    SystemMessage(content='你是一个友好的助手'),\n",
    "    HumanMessage(content=\"给我介绍一下深度学习\")\n",
    "]"
   ],
   "outputs": [],
   "execution_count": 38
  },
  {
   "cell_type": "code",
   "id": "5921e382",
   "metadata": {
    "ExecuteTime": {
     "end_time": "2025-10-14T08:59:00.781535Z",
     "start_time": "2025-10-14T08:58:34.460139Z"
    }
   },
   "source": [
    "for chunk in chat_model.stream(message):\n",
    "    if isinstance(chunk, AIMessageChunk):\n",
    "        print(chunk.content, end=\"\", flush=True)\n",
    "print()"
   ],
   "outputs": [
    {
     "name": "stdout",
     "output_type": "stream",
     "text": [
      "深度学习是机器学习的一个子领域，它模仿人脑的工作方式来处理数据和创建可以用于决策的模式。深度学习模型通常基于人工神经网络，特别是多层的神经网络（也称为深度神经网络），这些网络能够自动从原始数据中学习特征表示。\n",
      "\n",
      "### 深度学习的关键组成部分\n",
      "\n",
      "1. **神经网络**：由多个层次组成的数据处理系统，每一层都包含若干个节点或“神经元”。输入通过一系列加权连接传递到下一层，直到输出层产生最终结果。\n",
      "2. **激活函数**：在每个神经元内部使用非线性变换，帮助模型捕捉更复杂的数据关系。\n",
      "3. **损失函数**：衡量模型预测与实际目标之间的差异，指导训练过程中的优化方向。\n",
      "4. **优化算法**：如梯度下降等方法，用来调整模型参数以最小化损失函数值。\n",
      "5. **反向传播**：一种计算损失函数相对于所有权重偏导数的有效算法，对于训练深层网络至关重要。\n",
      "\n",
      "### 应用场景\n",
      "\n",
      "- **计算机视觉**：图像识别、物体检测、人脸识别等\n",
      "- **自然语言处理**：文本生成、情感分析、机器翻译等\n",
      "- **语音识别**：将人类说话转换为文字\n",
      "- **推荐系统**：个性化内容推荐\n",
      "- **游戏AI**：开发能够在复杂环境中做出决策的人工智能代理\n",
      "\n",
      "### 优势\n",
      "\n",
      "- 能够直接从大量未标记的数据中学习有用的特征表示\n",
      "- 对于非常大的数据集表现良好\n",
      "- 可以解决传统方法难以处理的问题\n",
      "\n",
      "### 挑战\n",
      "\n",
      "- 需要大量的标注数据进行有效训练\n",
      "- 计算资源消耗大\n",
      "- 模型解释性差，被称为“黑箱”模型\n",
      "- 过拟合风险高\n",
      "\n",
      "随着技术的发展，研究人员正在不断探索如何克服这些挑战，并进一步提高深度学习系统的性能与效率。\n"
     ]
    }
   ],
   "execution_count": 40
  }
 ],
 "metadata": {
  "kernelspec": {
   "display_name": "langchain",
   "language": "python",
   "name": "python3"
  },
  "language_info": {
   "codemirror_mode": {
    "name": "ipython",
    "version": 3
   },
   "file_extension": ".py",
   "mimetype": "text/x-python",
   "name": "python",
   "nbconvert_exporter": "python",
   "pygments_lexer": "ipython3",
   "version": "3.12.11"
  }
 },
 "nbformat": 4,
 "nbformat_minor": 5
}
